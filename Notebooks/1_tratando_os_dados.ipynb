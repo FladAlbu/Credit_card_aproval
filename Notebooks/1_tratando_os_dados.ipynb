{
 "cells": [
  {
   "cell_type": "markdown",
   "metadata": {},
   "source": [
    "# CREDIT CARD"
   ]
  },
  {
   "cell_type": "code",
   "execution_count": 1,
   "metadata": {},
   "outputs": [],
   "source": [
    "import pandas as pd"
   ]
  },
  {
   "cell_type": "code",
   "execution_count": 2,
   "metadata": {},
   "outputs": [],
   "source": [
    "cadastrados = pd.read_csv(r'C:\\Users\\flade\\Documents\\1- Pós Graduação\\Data Analytics\\Fase 4\\Credit_card_aproval\\data\\clientes_cadastrados.csv')"
   ]
  },
  {
   "cell_type": "code",
   "execution_count": 3,
   "metadata": {},
   "outputs": [
    {
     "data": {
      "text/html": [
       "<div>\n",
       "<style scoped>\n",
       "    .dataframe tbody tr th:only-of-type {\n",
       "        vertical-align: middle;\n",
       "    }\n",
       "\n",
       "    .dataframe tbody tr th {\n",
       "        vertical-align: top;\n",
       "    }\n",
       "\n",
       "    .dataframe thead th {\n",
       "        text-align: right;\n",
       "    }\n",
       "</style>\n",
       "<table border=\"1\" class=\"dataframe\">\n",
       "  <thead>\n",
       "    <tr style=\"text-align: right;\">\n",
       "      <th></th>\n",
       "      <th>ID_Cliente</th>\n",
       "      <th>Genero</th>\n",
       "      <th>Tem_carro</th>\n",
       "      <th>Tem_casa_propria</th>\n",
       "      <th>Qtd_filhos</th>\n",
       "      <th>Rendimento_anual</th>\n",
       "      <th>Categoria_de_renda</th>\n",
       "      <th>Grau_escolaridade</th>\n",
       "      <th>Estado_civil</th>\n",
       "      <th>Moradia</th>\n",
       "      <th>Idade</th>\n",
       "      <th>Anos_empregado</th>\n",
       "      <th>Tem_celular</th>\n",
       "      <th>Tem_telefone_trabalho</th>\n",
       "      <th>Tem_telefone_fixo</th>\n",
       "      <th>Tem_email</th>\n",
       "      <th>Ocupacao</th>\n",
       "      <th>Tamanho_familia</th>\n",
       "    </tr>\n",
       "  </thead>\n",
       "  <tbody>\n",
       "    <tr>\n",
       "      <th>0</th>\n",
       "      <td>5008804</td>\n",
       "      <td>M</td>\n",
       "      <td>Y</td>\n",
       "      <td>Y</td>\n",
       "      <td>0</td>\n",
       "      <td>427500.0</td>\n",
       "      <td>Empregado</td>\n",
       "      <td>Ensino superior</td>\n",
       "      <td>União-estável</td>\n",
       "      <td>Apartamento alugado</td>\n",
       "      <td>-12005</td>\n",
       "      <td>-4542</td>\n",
       "      <td>1</td>\n",
       "      <td>1</td>\n",
       "      <td>0</td>\n",
       "      <td>0</td>\n",
       "      <td>NaN</td>\n",
       "      <td>2.0</td>\n",
       "    </tr>\n",
       "    <tr>\n",
       "      <th>1</th>\n",
       "      <td>5008805</td>\n",
       "      <td>M</td>\n",
       "      <td>Y</td>\n",
       "      <td>Y</td>\n",
       "      <td>0</td>\n",
       "      <td>427500.0</td>\n",
       "      <td>Empregado</td>\n",
       "      <td>Ensino superior</td>\n",
       "      <td>União-estável</td>\n",
       "      <td>Apartamento alugado</td>\n",
       "      <td>-12005</td>\n",
       "      <td>-4542</td>\n",
       "      <td>1</td>\n",
       "      <td>1</td>\n",
       "      <td>0</td>\n",
       "      <td>0</td>\n",
       "      <td>NaN</td>\n",
       "      <td>2.0</td>\n",
       "    </tr>\n",
       "    <tr>\n",
       "      <th>2</th>\n",
       "      <td>5008806</td>\n",
       "      <td>M</td>\n",
       "      <td>Y</td>\n",
       "      <td>Y</td>\n",
       "      <td>0</td>\n",
       "      <td>112500.0</td>\n",
       "      <td>Empregado</td>\n",
       "      <td>Ensino médio</td>\n",
       "      <td>Casado</td>\n",
       "      <td>Casa/apartamento próprio</td>\n",
       "      <td>-21474</td>\n",
       "      <td>-1134</td>\n",
       "      <td>1</td>\n",
       "      <td>0</td>\n",
       "      <td>0</td>\n",
       "      <td>0</td>\n",
       "      <td>Segurança</td>\n",
       "      <td>2.0</td>\n",
       "    </tr>\n",
       "    <tr>\n",
       "      <th>3</th>\n",
       "      <td>5008808</td>\n",
       "      <td>F</td>\n",
       "      <td>N</td>\n",
       "      <td>Y</td>\n",
       "      <td>0</td>\n",
       "      <td>270000.0</td>\n",
       "      <td>Associado comercial</td>\n",
       "      <td>Ensino médio</td>\n",
       "      <td>Solteiro</td>\n",
       "      <td>Casa/apartamento próprio</td>\n",
       "      <td>-19110</td>\n",
       "      <td>-3051</td>\n",
       "      <td>1</td>\n",
       "      <td>0</td>\n",
       "      <td>1</td>\n",
       "      <td>1</td>\n",
       "      <td>Vendas</td>\n",
       "      <td>1.0</td>\n",
       "    </tr>\n",
       "    <tr>\n",
       "      <th>4</th>\n",
       "      <td>5008809</td>\n",
       "      <td>F</td>\n",
       "      <td>N</td>\n",
       "      <td>Y</td>\n",
       "      <td>0</td>\n",
       "      <td>270000.0</td>\n",
       "      <td>Associado comercial</td>\n",
       "      <td>Ensino médio</td>\n",
       "      <td>Solteiro</td>\n",
       "      <td>Casa/apartamento próprio</td>\n",
       "      <td>-19110</td>\n",
       "      <td>-3051</td>\n",
       "      <td>1</td>\n",
       "      <td>0</td>\n",
       "      <td>1</td>\n",
       "      <td>1</td>\n",
       "      <td>Vendas</td>\n",
       "      <td>1.0</td>\n",
       "    </tr>\n",
       "  </tbody>\n",
       "</table>\n",
       "</div>"
      ],
      "text/plain": [
       "   ID_Cliente Genero Tem_carro Tem_casa_propria  Qtd_filhos  Rendimento_anual  \\\n",
       "0     5008804      M         Y                Y           0          427500.0   \n",
       "1     5008805      M         Y                Y           0          427500.0   \n",
       "2     5008806      M         Y                Y           0          112500.0   \n",
       "3     5008808      F         N                Y           0          270000.0   \n",
       "4     5008809      F         N                Y           0          270000.0   \n",
       "\n",
       "    Categoria_de_renda Grau_escolaridade   Estado_civil  \\\n",
       "0            Empregado   Ensino superior  União-estável   \n",
       "1            Empregado   Ensino superior  União-estável   \n",
       "2            Empregado      Ensino médio         Casado   \n",
       "3  Associado comercial      Ensino médio       Solteiro   \n",
       "4  Associado comercial      Ensino médio       Solteiro   \n",
       "\n",
       "                    Moradia  Idade  Anos_empregado  Tem_celular  \\\n",
       "0       Apartamento alugado -12005           -4542            1   \n",
       "1       Apartamento alugado -12005           -4542            1   \n",
       "2  Casa/apartamento próprio -21474           -1134            1   \n",
       "3  Casa/apartamento próprio -19110           -3051            1   \n",
       "4  Casa/apartamento próprio -19110           -3051            1   \n",
       "\n",
       "   Tem_telefone_trabalho  Tem_telefone_fixo  Tem_email   Ocupacao  \\\n",
       "0                      1                  0          0        NaN   \n",
       "1                      1                  0          0        NaN   \n",
       "2                      0                  0          0  Segurança   \n",
       "3                      0                  1          1     Vendas   \n",
       "4                      0                  1          1     Vendas   \n",
       "\n",
       "   Tamanho_familia  \n",
       "0              2.0  \n",
       "1              2.0  \n",
       "2              2.0  \n",
       "3              1.0  \n",
       "4              1.0  "
      ]
     },
     "execution_count": 3,
     "metadata": {},
     "output_type": "execute_result"
    }
   ],
   "source": [
    "cadastrados.head()"
   ]
  },
  {
   "cell_type": "code",
   "execution_count": 4,
   "metadata": {},
   "outputs": [
    {
     "data": {
      "text/plain": [
       "(438557, 18)"
      ]
     },
     "execution_count": 4,
     "metadata": {},
     "output_type": "execute_result"
    }
   ],
   "source": [
    "cadastrados.shape"
   ]
  },
  {
   "cell_type": "code",
   "execution_count": 5,
   "metadata": {},
   "outputs": [
    {
     "name": "stdout",
     "output_type": "stream",
     "text": [
      "<class 'pandas.core.frame.DataFrame'>\n",
      "RangeIndex: 438557 entries, 0 to 438556\n",
      "Data columns (total 18 columns):\n",
      " #   Column                 Non-Null Count   Dtype  \n",
      "---  ------                 --------------   -----  \n",
      " 0   ID_Cliente             438557 non-null  int64  \n",
      " 1   Genero                 438557 non-null  object \n",
      " 2   Tem_carro              438557 non-null  object \n",
      " 3   Tem_casa_propria       438557 non-null  object \n",
      " 4   Qtd_filhos             438557 non-null  int64  \n",
      " 5   Rendimento_anual       438557 non-null  float64\n",
      " 6   Categoria_de_renda     438557 non-null  object \n",
      " 7   Grau_escolaridade      438557 non-null  object \n",
      " 8   Estado_civil           438557 non-null  object \n",
      " 9   Moradia                438557 non-null  object \n",
      " 10  Idade                  438557 non-null  int64  \n",
      " 11  Anos_empregado         438557 non-null  int64  \n",
      " 12  Tem_celular            438557 non-null  int64  \n",
      " 13  Tem_telefone_trabalho  438557 non-null  int64  \n",
      " 14  Tem_telefone_fixo      438557 non-null  int64  \n",
      " 15  Tem_email              438557 non-null  int64  \n",
      " 16  Ocupacao               304354 non-null  object \n",
      " 17  Tamanho_familia        438557 non-null  float64\n",
      "dtypes: float64(2), int64(8), object(8)\n",
      "memory usage: 60.2+ MB\n"
     ]
    }
   ],
   "source": [
    "cadastrados.info()"
   ]
  },
  {
   "cell_type": "code",
   "execution_count": 6,
   "metadata": {},
   "outputs": [
    {
     "data": {
      "text/plain": [
       "ID_Cliente\n",
       "7137299    2\n",
       "7702238    2\n",
       "7282535    2\n",
       "7243768    2\n",
       "7050948    2\n",
       "          ..\n",
       "5690727    1\n",
       "6621262    1\n",
       "6621261    1\n",
       "6621260    1\n",
       "6842885    1\n",
       "Name: count, Length: 438510, dtype: int64"
      ]
     },
     "execution_count": 6,
     "metadata": {},
     "output_type": "execute_result"
    }
   ],
   "source": [
    "cadastrados['ID_Cliente'].value_counts()"
   ]
  },
  {
   "cell_type": "code",
   "execution_count": 7,
   "metadata": {},
   "outputs": [
    {
     "data": {
      "text/plain": [
       "(94, 18)"
      ]
     },
     "execution_count": 7,
     "metadata": {},
     "output_type": "execute_result"
    }
   ],
   "source": [
    "#Como avaliar a quantidade de itens duplicados\n",
    "cadastrados[cadastrados['ID_Cliente'].duplicated(keep=False)].shape"
   ]
  },
  {
   "cell_type": "code",
   "execution_count": 8,
   "metadata": {},
   "outputs": [],
   "source": [
    "#alocando todos os dados duplicados\n",
    "id_repetidos = cadastrados[cadastrados['ID_Cliente'].duplicated(keep=False)]"
   ]
  },
  {
   "cell_type": "code",
   "execution_count": 9,
   "metadata": {},
   "outputs": [],
   "source": [
    "df_cadastrados_limpo = cadastrados.drop(id_repetidos.index)"
   ]
  },
  {
   "cell_type": "code",
   "execution_count": 10,
   "metadata": {},
   "outputs": [
    {
     "data": {
      "text/plain": [
       "ID_Cliente\n",
       "5008804    1\n",
       "6147691    1\n",
       "6147689    1\n",
       "6147688    1\n",
       "6147685    1\n",
       "          ..\n",
       "6093492    1\n",
       "5690720    1\n",
       "6538938    1\n",
       "6538937    1\n",
       "6842885    1\n",
       "Name: count, Length: 438463, dtype: int64"
      ]
     },
     "execution_count": 10,
     "metadata": {},
     "output_type": "execute_result"
    }
   ],
   "source": [
    "df_cadastrados_limpo['ID_Cliente'].value_counts()"
   ]
  },
  {
   "cell_type": "code",
   "execution_count": 11,
   "metadata": {},
   "outputs": [
    {
     "data": {
      "text/plain": [
       "ID_Cliente                    0\n",
       "Genero                        0\n",
       "Tem_carro                     0\n",
       "Tem_casa_propria              0\n",
       "Qtd_filhos                    0\n",
       "Rendimento_anual              0\n",
       "Categoria_de_renda            0\n",
       "Grau_escolaridade             0\n",
       "Estado_civil                  0\n",
       "Moradia                       0\n",
       "Idade                         0\n",
       "Anos_empregado                0\n",
       "Tem_celular                   0\n",
       "Tem_telefone_trabalho         0\n",
       "Tem_telefone_fixo             0\n",
       "Tem_email                     0\n",
       "Ocupacao                 134177\n",
       "Tamanho_familia               0\n",
       "dtype: int64"
      ]
     },
     "execution_count": 11,
     "metadata": {},
     "output_type": "execute_result"
    }
   ],
   "source": [
    "df_cadastrados_limpo.isnull().sum()"
   ]
  },
  {
   "cell_type": "code",
   "execution_count": 12,
   "metadata": {},
   "outputs": [
    {
     "data": {
      "text/plain": [
       "array([nan, 'Segurança', 'Vendas', 'Contabilidade', 'Construção Civil',\n",
       "       'Gerência', 'Motorista', 'Equipe principal', 'Alta tecnologia',\n",
       "       'Limpeza', 'Serviço privado', 'Cozinha', 'Baixa qualificação',\n",
       "       'Medicina', 'Secretariado', 'Garçom', 'RH', 'Corretor imobiliário',\n",
       "       'TI'], dtype=object)"
      ]
     },
     "execution_count": 12,
     "metadata": {},
     "output_type": "execute_result"
    }
   ],
   "source": [
    "df_cadastrados_limpo['Ocupacao'].unique()"
   ]
  },
  {
   "cell_type": "code",
   "execution_count": 13,
   "metadata": {},
   "outputs": [
    {
     "name": "stderr",
     "output_type": "stream",
     "text": [
      "C:\\Users\\flade\\AppData\\Local\\Temp\\ipykernel_11016\\180975226.py:1: FutureWarning: A value is trying to be set on a copy of a DataFrame or Series through chained assignment using an inplace method.\n",
      "The behavior will change in pandas 3.0. This inplace method will never work because the intermediate object on which we are setting values always behaves as a copy.\n",
      "\n",
      "For example, when doing 'df[col].method(value, inplace=True)', try using 'df.method({col: value}, inplace=True)' or df[col] = df[col].method(value) instead, to perform the operation inplace on the original object.\n",
      "\n",
      "\n",
      "  df_cadastrados_limpo['Ocupacao'].fillna(value='Outro', inplace=True)\n"
     ]
    }
   ],
   "source": [
    "df_cadastrados_limpo['Ocupacao'].fillna(value='Outro', inplace=True)"
   ]
  },
  {
   "cell_type": "code",
   "execution_count": 14,
   "metadata": {},
   "outputs": [
    {
     "data": {
      "text/plain": [
       "ID_Cliente               0\n",
       "Genero                   0\n",
       "Tem_carro                0\n",
       "Tem_casa_propria         0\n",
       "Qtd_filhos               0\n",
       "Rendimento_anual         0\n",
       "Categoria_de_renda       0\n",
       "Grau_escolaridade        0\n",
       "Estado_civil             0\n",
       "Moradia                  0\n",
       "Idade                    0\n",
       "Anos_empregado           0\n",
       "Tem_celular              0\n",
       "Tem_telefone_trabalho    0\n",
       "Tem_telefone_fixo        0\n",
       "Tem_email                0\n",
       "Ocupacao                 0\n",
       "Tamanho_familia          0\n",
       "dtype: int64"
      ]
     },
     "execution_count": 14,
     "metadata": {},
     "output_type": "execute_result"
    }
   ],
   "source": [
    "df_cadastrados_limpo.isnull().sum()"
   ]
  },
  {
   "cell_type": "code",
   "execution_count": 15,
   "metadata": {},
   "outputs": [
    {
     "data": {
      "text/plain": [
       "ID_Cliente               438463\n",
       "Genero                        2\n",
       "Tem_carro                     2\n",
       "Tem_casa_propria              2\n",
       "Qtd_filhos                   12\n",
       "Rendimento_anual            866\n",
       "Categoria_de_renda            5\n",
       "Grau_escolaridade             5\n",
       "Estado_civil                  5\n",
       "Moradia                       6\n",
       "Idade                     16379\n",
       "Anos_empregado             9406\n",
       "Tem_celular                   1\n",
       "Tem_telefone_trabalho         2\n",
       "Tem_telefone_fixo             2\n",
       "Tem_email                     2\n",
       "Ocupacao                     19\n",
       "Tamanho_familia              13\n",
       "dtype: int64"
      ]
     },
     "execution_count": 15,
     "metadata": {},
     "output_type": "execute_result"
    }
   ],
   "source": [
    "df_cadastrados_limpo.nunique()"
   ]
  },
  {
   "cell_type": "code",
   "execution_count": 16,
   "metadata": {},
   "outputs": [],
   "source": [
    "df_cadastrados_limpo.drop('Genero', axis=1, inplace=True)"
   ]
  },
  {
   "cell_type": "code",
   "execution_count": 17,
   "metadata": {},
   "outputs": [],
   "source": [
    "df_cadastrados_limpo.drop('Tem_celular',axis=1,inplace=True)"
   ]
  },
  {
   "cell_type": "code",
   "execution_count": 18,
   "metadata": {},
   "outputs": [
    {
     "data": {
      "text/plain": [
       "array(['Y', 'N'], dtype=object)"
      ]
     },
     "execution_count": 18,
     "metadata": {},
     "output_type": "execute_result"
    }
   ],
   "source": [
    "df_cadastrados_limpo['Tem_carro'].unique()"
   ]
  },
  {
   "cell_type": "code",
   "execution_count": 19,
   "metadata": {},
   "outputs": [
    {
     "data": {
      "text/plain": [
       "array(['Y', 'N'], dtype=object)"
      ]
     },
     "execution_count": 19,
     "metadata": {},
     "output_type": "execute_result"
    }
   ],
   "source": [
    "df_cadastrados_limpo['Tem_casa_propria'].unique()"
   ]
  },
  {
   "cell_type": "code",
   "execution_count": 20,
   "metadata": {},
   "outputs": [
    {
     "data": {
      "text/plain": [
       "array([1, 0], dtype=int64)"
      ]
     },
     "execution_count": 20,
     "metadata": {},
     "output_type": "execute_result"
    }
   ],
   "source": [
    "df_cadastrados_limpo['Tem_telefone_trabalho'].unique()"
   ]
  },
  {
   "cell_type": "code",
   "execution_count": 21,
   "metadata": {},
   "outputs": [
    {
     "data": {
      "text/plain": [
       "array([0, 1], dtype=int64)"
      ]
     },
     "execution_count": 21,
     "metadata": {},
     "output_type": "execute_result"
    }
   ],
   "source": [
    "df_cadastrados_limpo['Tem_telefone_fixo'].unique()"
   ]
  },
  {
   "cell_type": "code",
   "execution_count": 22,
   "metadata": {},
   "outputs": [
    {
     "name": "stdout",
     "output_type": "stream",
     "text": [
      "<class 'pandas.core.frame.DataFrame'>\n",
      "Index: 438463 entries, 0 to 438556\n",
      "Data columns (total 16 columns):\n",
      " #   Column                 Non-Null Count   Dtype  \n",
      "---  ------                 --------------   -----  \n",
      " 0   ID_Cliente             438463 non-null  int64  \n",
      " 1   Tem_carro              438463 non-null  object \n",
      " 2   Tem_casa_propria       438463 non-null  object \n",
      " 3   Qtd_filhos             438463 non-null  int64  \n",
      " 4   Rendimento_anual       438463 non-null  float64\n",
      " 5   Categoria_de_renda     438463 non-null  object \n",
      " 6   Grau_escolaridade      438463 non-null  object \n",
      " 7   Estado_civil           438463 non-null  object \n",
      " 8   Moradia                438463 non-null  object \n",
      " 9   Idade                  438463 non-null  int64  \n",
      " 10  Anos_empregado         438463 non-null  int64  \n",
      " 11  Tem_telefone_trabalho  438463 non-null  int64  \n",
      " 12  Tem_telefone_fixo      438463 non-null  int64  \n",
      " 13  Tem_email              438463 non-null  int64  \n",
      " 14  Ocupacao               438463 non-null  object \n",
      " 15  Tamanho_familia        438463 non-null  float64\n",
      "dtypes: float64(2), int64(7), object(7)\n",
      "memory usage: 56.9+ MB\n"
     ]
    }
   ],
   "source": [
    "df_cadastrados_limpo.info()"
   ]
  },
  {
   "cell_type": "code",
   "execution_count": 23,
   "metadata": {},
   "outputs": [
    {
     "name": "stderr",
     "output_type": "stream",
     "text": [
      "C:\\Users\\flade\\AppData\\Local\\Temp\\ipykernel_11016\\1780169501.py:1: FutureWarning: Downcasting behavior in `replace` is deprecated and will be removed in a future version. To retain the old behavior, explicitly call `result.infer_objects(copy=False)`. To opt-in to the future behavior, set `pd.set_option('future.no_silent_downcasting', True)`\n",
      "  df_cadastrados_limpo['Tem_carro']= df_cadastrados_limpo['Tem_carro'].replace(['Y','N'], [1,0])\n"
     ]
    }
   ],
   "source": [
    "df_cadastrados_limpo['Tem_carro']= df_cadastrados_limpo['Tem_carro'].replace(['Y','N'], [1,0])"
   ]
  },
  {
   "cell_type": "code",
   "execution_count": 24,
   "metadata": {},
   "outputs": [
    {
     "name": "stderr",
     "output_type": "stream",
     "text": [
      "C:\\Users\\flade\\AppData\\Local\\Temp\\ipykernel_11016\\743956882.py:1: FutureWarning: Downcasting behavior in `replace` is deprecated and will be removed in a future version. To retain the old behavior, explicitly call `result.infer_objects(copy=False)`. To opt-in to the future behavior, set `pd.set_option('future.no_silent_downcasting', True)`\n",
      "  df_cadastrados_limpo['Tem_casa_propria']= df_cadastrados_limpo['Tem_casa_propria'].replace(['Y','N'], [1,0])\n"
     ]
    }
   ],
   "source": [
    "df_cadastrados_limpo['Tem_casa_propria']= df_cadastrados_limpo['Tem_casa_propria'].replace(['Y','N'], [1,0])"
   ]
  },
  {
   "cell_type": "code",
   "execution_count": 25,
   "metadata": {},
   "outputs": [
    {
     "data": {
      "text/html": [
       "<div>\n",
       "<style scoped>\n",
       "    .dataframe tbody tr th:only-of-type {\n",
       "        vertical-align: middle;\n",
       "    }\n",
       "\n",
       "    .dataframe tbody tr th {\n",
       "        vertical-align: top;\n",
       "    }\n",
       "\n",
       "    .dataframe thead th {\n",
       "        text-align: right;\n",
       "    }\n",
       "</style>\n",
       "<table border=\"1\" class=\"dataframe\">\n",
       "  <thead>\n",
       "    <tr style=\"text-align: right;\">\n",
       "      <th></th>\n",
       "      <th>ID_Cliente</th>\n",
       "      <th>Tem_carro</th>\n",
       "      <th>Tem_casa_propria</th>\n",
       "      <th>Qtd_filhos</th>\n",
       "      <th>Rendimento_anual</th>\n",
       "      <th>Categoria_de_renda</th>\n",
       "      <th>Grau_escolaridade</th>\n",
       "      <th>Estado_civil</th>\n",
       "      <th>Moradia</th>\n",
       "      <th>Idade</th>\n",
       "      <th>Anos_empregado</th>\n",
       "      <th>Tem_telefone_trabalho</th>\n",
       "      <th>Tem_telefone_fixo</th>\n",
       "      <th>Tem_email</th>\n",
       "      <th>Ocupacao</th>\n",
       "      <th>Tamanho_familia</th>\n",
       "    </tr>\n",
       "  </thead>\n",
       "  <tbody>\n",
       "    <tr>\n",
       "      <th>0</th>\n",
       "      <td>5008804</td>\n",
       "      <td>1</td>\n",
       "      <td>1</td>\n",
       "      <td>0</td>\n",
       "      <td>427500.0</td>\n",
       "      <td>Empregado</td>\n",
       "      <td>Ensino superior</td>\n",
       "      <td>União-estável</td>\n",
       "      <td>Apartamento alugado</td>\n",
       "      <td>-12005</td>\n",
       "      <td>-4542</td>\n",
       "      <td>1</td>\n",
       "      <td>0</td>\n",
       "      <td>0</td>\n",
       "      <td>Outro</td>\n",
       "      <td>2.0</td>\n",
       "    </tr>\n",
       "    <tr>\n",
       "      <th>1</th>\n",
       "      <td>5008805</td>\n",
       "      <td>1</td>\n",
       "      <td>1</td>\n",
       "      <td>0</td>\n",
       "      <td>427500.0</td>\n",
       "      <td>Empregado</td>\n",
       "      <td>Ensino superior</td>\n",
       "      <td>União-estável</td>\n",
       "      <td>Apartamento alugado</td>\n",
       "      <td>-12005</td>\n",
       "      <td>-4542</td>\n",
       "      <td>1</td>\n",
       "      <td>0</td>\n",
       "      <td>0</td>\n",
       "      <td>Outro</td>\n",
       "      <td>2.0</td>\n",
       "    </tr>\n",
       "    <tr>\n",
       "      <th>2</th>\n",
       "      <td>5008806</td>\n",
       "      <td>1</td>\n",
       "      <td>1</td>\n",
       "      <td>0</td>\n",
       "      <td>112500.0</td>\n",
       "      <td>Empregado</td>\n",
       "      <td>Ensino médio</td>\n",
       "      <td>Casado</td>\n",
       "      <td>Casa/apartamento próprio</td>\n",
       "      <td>-21474</td>\n",
       "      <td>-1134</td>\n",
       "      <td>0</td>\n",
       "      <td>0</td>\n",
       "      <td>0</td>\n",
       "      <td>Segurança</td>\n",
       "      <td>2.0</td>\n",
       "    </tr>\n",
       "    <tr>\n",
       "      <th>3</th>\n",
       "      <td>5008808</td>\n",
       "      <td>0</td>\n",
       "      <td>1</td>\n",
       "      <td>0</td>\n",
       "      <td>270000.0</td>\n",
       "      <td>Associado comercial</td>\n",
       "      <td>Ensino médio</td>\n",
       "      <td>Solteiro</td>\n",
       "      <td>Casa/apartamento próprio</td>\n",
       "      <td>-19110</td>\n",
       "      <td>-3051</td>\n",
       "      <td>0</td>\n",
       "      <td>1</td>\n",
       "      <td>1</td>\n",
       "      <td>Vendas</td>\n",
       "      <td>1.0</td>\n",
       "    </tr>\n",
       "    <tr>\n",
       "      <th>4</th>\n",
       "      <td>5008809</td>\n",
       "      <td>0</td>\n",
       "      <td>1</td>\n",
       "      <td>0</td>\n",
       "      <td>270000.0</td>\n",
       "      <td>Associado comercial</td>\n",
       "      <td>Ensino médio</td>\n",
       "      <td>Solteiro</td>\n",
       "      <td>Casa/apartamento próprio</td>\n",
       "      <td>-19110</td>\n",
       "      <td>-3051</td>\n",
       "      <td>0</td>\n",
       "      <td>1</td>\n",
       "      <td>1</td>\n",
       "      <td>Vendas</td>\n",
       "      <td>1.0</td>\n",
       "    </tr>\n",
       "  </tbody>\n",
       "</table>\n",
       "</div>"
      ],
      "text/plain": [
       "   ID_Cliente  Tem_carro  Tem_casa_propria  Qtd_filhos  Rendimento_anual  \\\n",
       "0     5008804          1                 1           0          427500.0   \n",
       "1     5008805          1                 1           0          427500.0   \n",
       "2     5008806          1                 1           0          112500.0   \n",
       "3     5008808          0                 1           0          270000.0   \n",
       "4     5008809          0                 1           0          270000.0   \n",
       "\n",
       "    Categoria_de_renda Grau_escolaridade   Estado_civil  \\\n",
       "0            Empregado   Ensino superior  União-estável   \n",
       "1            Empregado   Ensino superior  União-estável   \n",
       "2            Empregado      Ensino médio         Casado   \n",
       "3  Associado comercial      Ensino médio       Solteiro   \n",
       "4  Associado comercial      Ensino médio       Solteiro   \n",
       "\n",
       "                    Moradia  Idade  Anos_empregado  Tem_telefone_trabalho  \\\n",
       "0       Apartamento alugado -12005           -4542                      1   \n",
       "1       Apartamento alugado -12005           -4542                      1   \n",
       "2  Casa/apartamento próprio -21474           -1134                      0   \n",
       "3  Casa/apartamento próprio -19110           -3051                      0   \n",
       "4  Casa/apartamento próprio -19110           -3051                      0   \n",
       "\n",
       "   Tem_telefone_fixo  Tem_email   Ocupacao  Tamanho_familia  \n",
       "0                  0          0      Outro              2.0  \n",
       "1                  0          0      Outro              2.0  \n",
       "2                  0          0  Segurança              2.0  \n",
       "3                  1          1     Vendas              1.0  \n",
       "4                  1          1     Vendas              1.0  "
      ]
     },
     "execution_count": 25,
     "metadata": {},
     "output_type": "execute_result"
    }
   ],
   "source": [
    "df_cadastrados_limpo.head()"
   ]
  },
  {
   "cell_type": "code",
   "execution_count": 26,
   "metadata": {},
   "outputs": [],
   "source": [
    "df_cadastrados_limpo['Idade'] = - df_cadastrados_limpo['Idade']/365.2425"
   ]
  },
  {
   "cell_type": "code",
   "execution_count": 27,
   "metadata": {},
   "outputs": [],
   "source": [
    "df_cadastrados_limpo['Anos_empregado'] = - df_cadastrados_limpo['Anos_empregado']/365.2425"
   ]
  },
  {
   "cell_type": "code",
   "execution_count": 28,
   "metadata": {},
   "outputs": [
    {
     "data": {
      "text/html": [
       "<div>\n",
       "<style scoped>\n",
       "    .dataframe tbody tr th:only-of-type {\n",
       "        vertical-align: middle;\n",
       "    }\n",
       "\n",
       "    .dataframe tbody tr th {\n",
       "        vertical-align: top;\n",
       "    }\n",
       "\n",
       "    .dataframe thead th {\n",
       "        text-align: right;\n",
       "    }\n",
       "</style>\n",
       "<table border=\"1\" class=\"dataframe\">\n",
       "  <thead>\n",
       "    <tr style=\"text-align: right;\">\n",
       "      <th></th>\n",
       "      <th>ID_Cliente</th>\n",
       "      <th>Tem_carro</th>\n",
       "      <th>Tem_casa_propria</th>\n",
       "      <th>Qtd_filhos</th>\n",
       "      <th>Rendimento_anual</th>\n",
       "      <th>Categoria_de_renda</th>\n",
       "      <th>Grau_escolaridade</th>\n",
       "      <th>Estado_civil</th>\n",
       "      <th>Moradia</th>\n",
       "      <th>Idade</th>\n",
       "      <th>Anos_empregado</th>\n",
       "      <th>Tem_telefone_trabalho</th>\n",
       "      <th>Tem_telefone_fixo</th>\n",
       "      <th>Tem_email</th>\n",
       "      <th>Ocupacao</th>\n",
       "      <th>Tamanho_familia</th>\n",
       "    </tr>\n",
       "  </thead>\n",
       "  <tbody>\n",
       "    <tr>\n",
       "      <th>0</th>\n",
       "      <td>5008804</td>\n",
       "      <td>1</td>\n",
       "      <td>1</td>\n",
       "      <td>0</td>\n",
       "      <td>427500.0</td>\n",
       "      <td>Empregado</td>\n",
       "      <td>Ensino superior</td>\n",
       "      <td>União-estável</td>\n",
       "      <td>Apartamento alugado</td>\n",
       "      <td>32.868574</td>\n",
       "      <td>12.435574</td>\n",
       "      <td>1</td>\n",
       "      <td>0</td>\n",
       "      <td>0</td>\n",
       "      <td>Outro</td>\n",
       "      <td>2.0</td>\n",
       "    </tr>\n",
       "    <tr>\n",
       "      <th>1</th>\n",
       "      <td>5008805</td>\n",
       "      <td>1</td>\n",
       "      <td>1</td>\n",
       "      <td>0</td>\n",
       "      <td>427500.0</td>\n",
       "      <td>Empregado</td>\n",
       "      <td>Ensino superior</td>\n",
       "      <td>União-estável</td>\n",
       "      <td>Apartamento alugado</td>\n",
       "      <td>32.868574</td>\n",
       "      <td>12.435574</td>\n",
       "      <td>1</td>\n",
       "      <td>0</td>\n",
       "      <td>0</td>\n",
       "      <td>Outro</td>\n",
       "      <td>2.0</td>\n",
       "    </tr>\n",
       "    <tr>\n",
       "      <th>2</th>\n",
       "      <td>5008806</td>\n",
       "      <td>1</td>\n",
       "      <td>1</td>\n",
       "      <td>0</td>\n",
       "      <td>112500.0</td>\n",
       "      <td>Empregado</td>\n",
       "      <td>Ensino médio</td>\n",
       "      <td>Casado</td>\n",
       "      <td>Casa/apartamento próprio</td>\n",
       "      <td>58.793815</td>\n",
       "      <td>3.104787</td>\n",
       "      <td>0</td>\n",
       "      <td>0</td>\n",
       "      <td>0</td>\n",
       "      <td>Segurança</td>\n",
       "      <td>2.0</td>\n",
       "    </tr>\n",
       "    <tr>\n",
       "      <th>3</th>\n",
       "      <td>5008808</td>\n",
       "      <td>0</td>\n",
       "      <td>1</td>\n",
       "      <td>0</td>\n",
       "      <td>270000.0</td>\n",
       "      <td>Associado comercial</td>\n",
       "      <td>Ensino médio</td>\n",
       "      <td>Solteiro</td>\n",
       "      <td>Casa/apartamento próprio</td>\n",
       "      <td>52.321403</td>\n",
       "      <td>8.353354</td>\n",
       "      <td>0</td>\n",
       "      <td>1</td>\n",
       "      <td>1</td>\n",
       "      <td>Vendas</td>\n",
       "      <td>1.0</td>\n",
       "    </tr>\n",
       "    <tr>\n",
       "      <th>4</th>\n",
       "      <td>5008809</td>\n",
       "      <td>0</td>\n",
       "      <td>1</td>\n",
       "      <td>0</td>\n",
       "      <td>270000.0</td>\n",
       "      <td>Associado comercial</td>\n",
       "      <td>Ensino médio</td>\n",
       "      <td>Solteiro</td>\n",
       "      <td>Casa/apartamento próprio</td>\n",
       "      <td>52.321403</td>\n",
       "      <td>8.353354</td>\n",
       "      <td>0</td>\n",
       "      <td>1</td>\n",
       "      <td>1</td>\n",
       "      <td>Vendas</td>\n",
       "      <td>1.0</td>\n",
       "    </tr>\n",
       "  </tbody>\n",
       "</table>\n",
       "</div>"
      ],
      "text/plain": [
       "   ID_Cliente  Tem_carro  Tem_casa_propria  Qtd_filhos  Rendimento_anual  \\\n",
       "0     5008804          1                 1           0          427500.0   \n",
       "1     5008805          1                 1           0          427500.0   \n",
       "2     5008806          1                 1           0          112500.0   \n",
       "3     5008808          0                 1           0          270000.0   \n",
       "4     5008809          0                 1           0          270000.0   \n",
       "\n",
       "    Categoria_de_renda Grau_escolaridade   Estado_civil  \\\n",
       "0            Empregado   Ensino superior  União-estável   \n",
       "1            Empregado   Ensino superior  União-estável   \n",
       "2            Empregado      Ensino médio         Casado   \n",
       "3  Associado comercial      Ensino médio       Solteiro   \n",
       "4  Associado comercial      Ensino médio       Solteiro   \n",
       "\n",
       "                    Moradia      Idade  Anos_empregado  Tem_telefone_trabalho  \\\n",
       "0       Apartamento alugado  32.868574       12.435574                      1   \n",
       "1       Apartamento alugado  32.868574       12.435574                      1   \n",
       "2  Casa/apartamento próprio  58.793815        3.104787                      0   \n",
       "3  Casa/apartamento próprio  52.321403        8.353354                      0   \n",
       "4  Casa/apartamento próprio  52.321403        8.353354                      0   \n",
       "\n",
       "   Tem_telefone_fixo  Tem_email   Ocupacao  Tamanho_familia  \n",
       "0                  0          0      Outro              2.0  \n",
       "1                  0          0      Outro              2.0  \n",
       "2                  0          0  Segurança              2.0  \n",
       "3                  1          1     Vendas              1.0  \n",
       "4                  1          1     Vendas              1.0  "
      ]
     },
     "execution_count": 28,
     "metadata": {},
     "output_type": "execute_result"
    }
   ],
   "source": [
    "df_cadastrados_limpo.head()"
   ]
  },
  {
   "cell_type": "code",
   "execution_count": 29,
   "metadata": {},
   "outputs": [
    {
     "data": {
      "text/plain": [
       "Anos_empregado\n",
       "-1000.001369    75314\n",
       " 0.596864         262\n",
       " 4.594208         251\n",
       " 0.681739         241\n",
       " 2.677673         240\n",
       "                ...  \n",
       " 37.041144          1\n",
       " 27.989623          1\n",
       " 24.413917          1\n",
       " 31.291539          1\n",
       " 22.190736          1\n",
       "Name: count, Length: 9406, dtype: int64"
      ]
     },
     "execution_count": 29,
     "metadata": {},
     "output_type": "execute_result"
    }
   ],
   "source": [
    "df_cadastrados_limpo['Anos_empregado'].value_counts()"
   ]
  },
  {
   "cell_type": "code",
   "execution_count": 30,
   "metadata": {},
   "outputs": [],
   "source": [
    "df_cadastrados_limpo.loc[df_cadastrados_limpo['Anos_empregado']<0, 'Anos_empregado'] = 0"
   ]
  },
  {
   "cell_type": "code",
   "execution_count": 31,
   "metadata": {},
   "outputs": [
    {
     "data": {
      "text/plain": [
       "Anos_empregado\n",
       "0.000000     75314\n",
       "0.596864       262\n",
       "4.594208       251\n",
       "0.681739       241\n",
       "2.677673       240\n",
       "             ...  \n",
       "37.041144        1\n",
       "27.989623        1\n",
       "24.413917        1\n",
       "31.291539        1\n",
       "22.190736        1\n",
       "Name: count, Length: 9406, dtype: int64"
      ]
     },
     "execution_count": 31,
     "metadata": {},
     "output_type": "execute_result"
    }
   ],
   "source": [
    "df_cadastrados_limpo['Anos_empregado'].value_counts()"
   ]
  },
  {
   "cell_type": "code",
   "execution_count": 32,
   "metadata": {},
   "outputs": [],
   "source": [
    "import matplotlib.pyplot as plt\n",
    "import seaborn as sns\n",
    "import numpy as np"
   ]
  },
  {
   "cell_type": "code",
   "execution_count": 33,
   "metadata": {},
   "outputs": [
    {
     "data": {
      "text/plain": [
       "<Axes: >"
      ]
     },
     "execution_count": 33,
     "metadata": {},
     "output_type": "execute_result"
    },
    {
     "data": {
      "image/png": "[encoded data removed]",
      "text/plain": [
       "<Figure size 2000x1000 with 2 Axes>"
      ]
     },
     "metadata": {},
     "output_type": "display_data"
    }
   ],
   "source": [
    "# Identifique as colunas com tipo numérico\n",
    "colunas_numericas = df_cadastrados_limpo.select_dtypes(include=[np.number]).columns\n",
    "\n",
    "# Filtre o DataFrame\n",
    "df_numerico = df_cadastrados_limpo[colunas_numericas]\n",
    "\n",
    "corr = df_numerico.corr()\n",
    "plt.figure(figsize = (20,10))\n",
    "sns.heatmap(corr, cmap=\"Blues\", annot=True)"
   ]
  },
  {
   "cell_type": "markdown",
   "metadata": {},
   "source": [
    "Quantidade de filhos e tamanho da família estão muito relacionados, o que pode gerar um problema de orverfiting, será preciso retirar estes campos para melhor análise"
   ]
  },
  {
   "cell_type": "code",
   "execution_count": 34,
   "metadata": {},
   "outputs": [],
   "source": [
    "df_cadastrados_limpo.drop(['Qtd_filhos'], axis=1, inplace=True)"
   ]
  },
  {
   "cell_type": "code",
   "execution_count": 35,
   "metadata": {},
   "outputs": [
    {
     "data": {
      "text/html": [
       "<div>\n",
       "<style scoped>\n",
       "    .dataframe tbody tr th:only-of-type {\n",
       "        vertical-align: middle;\n",
       "    }\n",
       "\n",
       "    .dataframe tbody tr th {\n",
       "        vertical-align: top;\n",
       "    }\n",
       "\n",
       "    .dataframe thead th {\n",
       "        text-align: right;\n",
       "    }\n",
       "</style>\n",
       "<table border=\"1\" class=\"dataframe\">\n",
       "  <thead>\n",
       "    <tr style=\"text-align: right;\">\n",
       "      <th></th>\n",
       "      <th>ID_Cliente</th>\n",
       "      <th>Tem_carro</th>\n",
       "      <th>Tem_casa_propria</th>\n",
       "      <th>Rendimento_anual</th>\n",
       "      <th>Categoria_de_renda</th>\n",
       "      <th>Grau_escolaridade</th>\n",
       "      <th>Estado_civil</th>\n",
       "      <th>Moradia</th>\n",
       "      <th>Idade</th>\n",
       "      <th>Anos_empregado</th>\n",
       "      <th>Tem_telefone_trabalho</th>\n",
       "      <th>Tem_telefone_fixo</th>\n",
       "      <th>Tem_email</th>\n",
       "      <th>Ocupacao</th>\n",
       "      <th>Tamanho_familia</th>\n",
       "    </tr>\n",
       "  </thead>\n",
       "  <tbody>\n",
       "    <tr>\n",
       "      <th>0</th>\n",
       "      <td>5008804</td>\n",
       "      <td>1</td>\n",
       "      <td>1</td>\n",
       "      <td>427500.0</td>\n",
       "      <td>Empregado</td>\n",
       "      <td>Ensino superior</td>\n",
       "      <td>União-estável</td>\n",
       "      <td>Apartamento alugado</td>\n",
       "      <td>32.868574</td>\n",
       "      <td>12.435574</td>\n",
       "      <td>1</td>\n",
       "      <td>0</td>\n",
       "      <td>0</td>\n",
       "      <td>Outro</td>\n",
       "      <td>2.0</td>\n",
       "    </tr>\n",
       "    <tr>\n",
       "      <th>1</th>\n",
       "      <td>5008805</td>\n",
       "      <td>1</td>\n",
       "      <td>1</td>\n",
       "      <td>427500.0</td>\n",
       "      <td>Empregado</td>\n",
       "      <td>Ensino superior</td>\n",
       "      <td>União-estável</td>\n",
       "      <td>Apartamento alugado</td>\n",
       "      <td>32.868574</td>\n",
       "      <td>12.435574</td>\n",
       "      <td>1</td>\n",
       "      <td>0</td>\n",
       "      <td>0</td>\n",
       "      <td>Outro</td>\n",
       "      <td>2.0</td>\n",
       "    </tr>\n",
       "    <tr>\n",
       "      <th>2</th>\n",
       "      <td>5008806</td>\n",
       "      <td>1</td>\n",
       "      <td>1</td>\n",
       "      <td>112500.0</td>\n",
       "      <td>Empregado</td>\n",
       "      <td>Ensino médio</td>\n",
       "      <td>Casado</td>\n",
       "      <td>Casa/apartamento próprio</td>\n",
       "      <td>58.793815</td>\n",
       "      <td>3.104787</td>\n",
       "      <td>0</td>\n",
       "      <td>0</td>\n",
       "      <td>0</td>\n",
       "      <td>Segurança</td>\n",
       "      <td>2.0</td>\n",
       "    </tr>\n",
       "    <tr>\n",
       "      <th>3</th>\n",
       "      <td>5008808</td>\n",
       "      <td>0</td>\n",
       "      <td>1</td>\n",
       "      <td>270000.0</td>\n",
       "      <td>Associado comercial</td>\n",
       "      <td>Ensino médio</td>\n",
       "      <td>Solteiro</td>\n",
       "      <td>Casa/apartamento próprio</td>\n",
       "      <td>52.321403</td>\n",
       "      <td>8.353354</td>\n",
       "      <td>0</td>\n",
       "      <td>1</td>\n",
       "      <td>1</td>\n",
       "      <td>Vendas</td>\n",
       "      <td>1.0</td>\n",
       "    </tr>\n",
       "    <tr>\n",
       "      <th>4</th>\n",
       "      <td>5008809</td>\n",
       "      <td>0</td>\n",
       "      <td>1</td>\n",
       "      <td>270000.0</td>\n",
       "      <td>Associado comercial</td>\n",
       "      <td>Ensino médio</td>\n",
       "      <td>Solteiro</td>\n",
       "      <td>Casa/apartamento próprio</td>\n",
       "      <td>52.321403</td>\n",
       "      <td>8.353354</td>\n",
       "      <td>0</td>\n",
       "      <td>1</td>\n",
       "      <td>1</td>\n",
       "      <td>Vendas</td>\n",
       "      <td>1.0</td>\n",
       "    </tr>\n",
       "  </tbody>\n",
       "</table>\n",
       "</div>"
      ],
      "text/plain": [
       "   ID_Cliente  Tem_carro  Tem_casa_propria  Rendimento_anual  \\\n",
       "0     5008804          1                 1          427500.0   \n",
       "1     5008805          1                 1          427500.0   \n",
       "2     5008806          1                 1          112500.0   \n",
       "3     5008808          0                 1          270000.0   \n",
       "4     5008809          0                 1          270000.0   \n",
       "\n",
       "    Categoria_de_renda Grau_escolaridade   Estado_civil  \\\n",
       "0            Empregado   Ensino superior  União-estável   \n",
       "1            Empregado   Ensino superior  União-estável   \n",
       "2            Empregado      Ensino médio         Casado   \n",
       "3  Associado comercial      Ensino médio       Solteiro   \n",
       "4  Associado comercial      Ensino médio       Solteiro   \n",
       "\n",
       "                    Moradia      Idade  Anos_empregado  Tem_telefone_trabalho  \\\n",
       "0       Apartamento alugado  32.868574       12.435574                      1   \n",
       "1       Apartamento alugado  32.868574       12.435574                      1   \n",
       "2  Casa/apartamento próprio  58.793815        3.104787                      0   \n",
       "3  Casa/apartamento próprio  52.321403        8.353354                      0   \n",
       "4  Casa/apartamento próprio  52.321403        8.353354                      0   \n",
       "\n",
       "   Tem_telefone_fixo  Tem_email   Ocupacao  Tamanho_familia  \n",
       "0                  0          0      Outro              2.0  \n",
       "1                  0          0      Outro              2.0  \n",
       "2                  0          0  Segurança              2.0  \n",
       "3                  1          1     Vendas              1.0  \n",
       "4                  1          1     Vendas              1.0  "
      ]
     },
     "execution_count": 35,
     "metadata": {},
     "output_type": "execute_result"
    }
   ],
   "source": [
    "df_cadastrados_limpo.head()"
   ]
  },
  {
   "cell_type": "code",
   "execution_count": 36,
   "metadata": {},
   "outputs": [],
   "source": [
    "#Alternar a ordem das colunas\n",
    "df_cadastrados_limpo = df_cadastrados_limpo[['ID_Cliente','Tem_carro','Tem_casa_propria',\n",
    "                                             'Tem_telefone_trabalho','Tem_telefone_fixo','Tem_email',\n",
    "                                             'Tamanho_familia','Rendimento_anual','Idade',\n",
    "                                             'Anos_empregado','Categoria_de_renda', 'Grau_escolaridade',\n",
    "                                             'Estado_civil','Moradia','Ocupacao']]"
   ]
  },
  {
   "cell_type": "code",
   "execution_count": 37,
   "metadata": {},
   "outputs": [
    {
     "data": {
      "text/html": [
       "<div>\n",
       "<style scoped>\n",
       "    .dataframe tbody tr th:only-of-type {\n",
       "        vertical-align: middle;\n",
       "    }\n",
       "\n",
       "    .dataframe tbody tr th {\n",
       "        vertical-align: top;\n",
       "    }\n",
       "\n",
       "    .dataframe thead th {\n",
       "        text-align: right;\n",
       "    }\n",
       "</style>\n",
       "<table border=\"1\" class=\"dataframe\">\n",
       "  <thead>\n",
       "    <tr style=\"text-align: right;\">\n",
       "      <th></th>\n",
       "      <th>ID_Cliente</th>\n",
       "      <th>Tem_carro</th>\n",
       "      <th>Tem_casa_propria</th>\n",
       "      <th>Tem_telefone_trabalho</th>\n",
       "      <th>Tem_telefone_fixo</th>\n",
       "      <th>Tem_email</th>\n",
       "      <th>Tamanho_familia</th>\n",
       "      <th>Rendimento_anual</th>\n",
       "      <th>Idade</th>\n",
       "      <th>Anos_empregado</th>\n",
       "      <th>Categoria_de_renda</th>\n",
       "      <th>Grau_escolaridade</th>\n",
       "      <th>Estado_civil</th>\n",
       "      <th>Moradia</th>\n",
       "      <th>Ocupacao</th>\n",
       "    </tr>\n",
       "  </thead>\n",
       "  <tbody>\n",
       "    <tr>\n",
       "      <th>0</th>\n",
       "      <td>5008804</td>\n",
       "      <td>1</td>\n",
       "      <td>1</td>\n",
       "      <td>1</td>\n",
       "      <td>0</td>\n",
       "      <td>0</td>\n",
       "      <td>2.0</td>\n",
       "      <td>427500.0</td>\n",
       "      <td>32.868574</td>\n",
       "      <td>12.435574</td>\n",
       "      <td>Empregado</td>\n",
       "      <td>Ensino superior</td>\n",
       "      <td>União-estável</td>\n",
       "      <td>Apartamento alugado</td>\n",
       "      <td>Outro</td>\n",
       "    </tr>\n",
       "    <tr>\n",
       "      <th>1</th>\n",
       "      <td>5008805</td>\n",
       "      <td>1</td>\n",
       "      <td>1</td>\n",
       "      <td>1</td>\n",
       "      <td>0</td>\n",
       "      <td>0</td>\n",
       "      <td>2.0</td>\n",
       "      <td>427500.0</td>\n",
       "      <td>32.868574</td>\n",
       "      <td>12.435574</td>\n",
       "      <td>Empregado</td>\n",
       "      <td>Ensino superior</td>\n",
       "      <td>União-estável</td>\n",
       "      <td>Apartamento alugado</td>\n",
       "      <td>Outro</td>\n",
       "    </tr>\n",
       "    <tr>\n",
       "      <th>2</th>\n",
       "      <td>5008806</td>\n",
       "      <td>1</td>\n",
       "      <td>1</td>\n",
       "      <td>0</td>\n",
       "      <td>0</td>\n",
       "      <td>0</td>\n",
       "      <td>2.0</td>\n",
       "      <td>112500.0</td>\n",
       "      <td>58.793815</td>\n",
       "      <td>3.104787</td>\n",
       "      <td>Empregado</td>\n",
       "      <td>Ensino médio</td>\n",
       "      <td>Casado</td>\n",
       "      <td>Casa/apartamento próprio</td>\n",
       "      <td>Segurança</td>\n",
       "    </tr>\n",
       "    <tr>\n",
       "      <th>3</th>\n",
       "      <td>5008808</td>\n",
       "      <td>0</td>\n",
       "      <td>1</td>\n",
       "      <td>0</td>\n",
       "      <td>1</td>\n",
       "      <td>1</td>\n",
       "      <td>1.0</td>\n",
       "      <td>270000.0</td>\n",
       "      <td>52.321403</td>\n",
       "      <td>8.353354</td>\n",
       "      <td>Associado comercial</td>\n",
       "      <td>Ensino médio</td>\n",
       "      <td>Solteiro</td>\n",
       "      <td>Casa/apartamento próprio</td>\n",
       "      <td>Vendas</td>\n",
       "    </tr>\n",
       "    <tr>\n",
       "      <th>4</th>\n",
       "      <td>5008809</td>\n",
       "      <td>0</td>\n",
       "      <td>1</td>\n",
       "      <td>0</td>\n",
       "      <td>1</td>\n",
       "      <td>1</td>\n",
       "      <td>1.0</td>\n",
       "      <td>270000.0</td>\n",
       "      <td>52.321403</td>\n",
       "      <td>8.353354</td>\n",
       "      <td>Associado comercial</td>\n",
       "      <td>Ensino médio</td>\n",
       "      <td>Solteiro</td>\n",
       "      <td>Casa/apartamento próprio</td>\n",
       "      <td>Vendas</td>\n",
       "    </tr>\n",
       "  </tbody>\n",
       "</table>\n",
       "</div>"
      ],
      "text/plain": [
       "   ID_Cliente  Tem_carro  Tem_casa_propria  Tem_telefone_trabalho  \\\n",
       "0     5008804          1                 1                      1   \n",
       "1     5008805          1                 1                      1   \n",
       "2     5008806          1                 1                      0   \n",
       "3     5008808          0                 1                      0   \n",
       "4     5008809          0                 1                      0   \n",
       "\n",
       "   Tem_telefone_fixo  Tem_email  Tamanho_familia  Rendimento_anual      Idade  \\\n",
       "0                  0          0              2.0          427500.0  32.868574   \n",
       "1                  0          0              2.0          427500.0  32.868574   \n",
       "2                  0          0              2.0          112500.0  58.793815   \n",
       "3                  1          1              1.0          270000.0  52.321403   \n",
       "4                  1          1              1.0          270000.0  52.321403   \n",
       "\n",
       "   Anos_empregado   Categoria_de_renda Grau_escolaridade   Estado_civil  \\\n",
       "0       12.435574            Empregado   Ensino superior  União-estável   \n",
       "1       12.435574            Empregado   Ensino superior  União-estável   \n",
       "2        3.104787            Empregado      Ensino médio         Casado   \n",
       "3        8.353354  Associado comercial      Ensino médio       Solteiro   \n",
       "4        8.353354  Associado comercial      Ensino médio       Solteiro   \n",
       "\n",
       "                    Moradia   Ocupacao  \n",
       "0       Apartamento alugado      Outro  \n",
       "1       Apartamento alugado      Outro  \n",
       "2  Casa/apartamento próprio  Segurança  \n",
       "3  Casa/apartamento próprio     Vendas  \n",
       "4  Casa/apartamento próprio     Vendas  "
      ]
     },
     "execution_count": 37,
     "metadata": {},
     "output_type": "execute_result"
    }
   ],
   "source": [
    "df_cadastrados_limpo.head()"
   ]
  },
  {
   "cell_type": "code",
   "execution_count": 38,
   "metadata": {},
   "outputs": [
    {
     "data": {
      "text/plain": [
       "Categoria_de_renda\n",
       "Empregado              51.557144\n",
       "Associado comercial    22.972520\n",
       "Pensionista            17.214223\n",
       "Servidor público        8.252236\n",
       "Estudante               0.003877\n",
       "Name: proportion, dtype: float64"
      ]
     },
     "execution_count": 38,
     "metadata": {},
     "output_type": "execute_result"
    }
   ],
   "source": [
    "#Avaliando as variáveis qualitativas e vendo a quantidade deles na amostra\n",
    "df_cadastrados_limpo['Categoria_de_renda'].value_counts(normalize=True)*100"
   ]
  },
  {
   "cell_type": "code",
   "execution_count": 39,
   "metadata": {},
   "outputs": [
    {
     "data": {
      "text/html": [
       "<div>\n",
       "<style scoped>\n",
       "    .dataframe tbody tr th:only-of-type {\n",
       "        vertical-align: middle;\n",
       "    }\n",
       "\n",
       "    .dataframe tbody tr th {\n",
       "        vertical-align: top;\n",
       "    }\n",
       "\n",
       "    .dataframe thead th {\n",
       "        text-align: right;\n",
       "    }\n",
       "</style>\n",
       "<table border=\"1\" class=\"dataframe\">\n",
       "  <thead>\n",
       "    <tr style=\"text-align: right;\">\n",
       "      <th></th>\n",
       "      <th>Tamanho_familia</th>\n",
       "      <th>Rendimento_anual</th>\n",
       "      <th>Idade</th>\n",
       "      <th>Anos_empregado</th>\n",
       "    </tr>\n",
       "  </thead>\n",
       "  <tbody>\n",
       "    <tr>\n",
       "      <th>count</th>\n",
       "      <td>438463.000000</td>\n",
       "      <td>4.384630e+05</td>\n",
       "      <td>438463.000000</td>\n",
       "      <td>438463.000000</td>\n",
       "    </tr>\n",
       "    <tr>\n",
       "      <th>mean</th>\n",
       "      <td>2.194461</td>\n",
       "      <td>1.875220e+05</td>\n",
       "      <td>43.800857</td>\n",
       "      <td>5.948371</td>\n",
       "    </tr>\n",
       "    <tr>\n",
       "      <th>std</th>\n",
       "      <td>0.897194</td>\n",
       "      <td>1.100832e+05</td>\n",
       "      <td>11.458262</td>\n",
       "      <td>6.564112</td>\n",
       "    </tr>\n",
       "    <tr>\n",
       "      <th>min</th>\n",
       "      <td>1.000000</td>\n",
       "      <td>2.610000e+04</td>\n",
       "      <td>20.504186</td>\n",
       "      <td>0.000000</td>\n",
       "    </tr>\n",
       "    <tr>\n",
       "      <th>25%</th>\n",
       "      <td>2.000000</td>\n",
       "      <td>1.215000e+05</td>\n",
       "      <td>34.262168</td>\n",
       "      <td>1.015763</td>\n",
       "    </tr>\n",
       "    <tr>\n",
       "      <th>50%</th>\n",
       "      <td>2.000000</td>\n",
       "      <td>1.611000e+05</td>\n",
       "      <td>42.793487</td>\n",
       "      <td>4.019247</td>\n",
       "    </tr>\n",
       "    <tr>\n",
       "      <th>75%</th>\n",
       "      <td>3.000000</td>\n",
       "      <td>2.250000e+05</td>\n",
       "      <td>53.345380</td>\n",
       "      <td>8.495725</td>\n",
       "    </tr>\n",
       "    <tr>\n",
       "      <th>max</th>\n",
       "      <td>20.000000</td>\n",
       "      <td>6.750000e+06</td>\n",
       "      <td>68.997994</td>\n",
       "      <td>47.998248</td>\n",
       "    </tr>\n",
       "  </tbody>\n",
       "</table>\n",
       "</div>"
      ],
      "text/plain": [
       "       Tamanho_familia  Rendimento_anual          Idade  Anos_empregado\n",
       "count    438463.000000      4.384630e+05  438463.000000   438463.000000\n",
       "mean          2.194461      1.875220e+05      43.800857        5.948371\n",
       "std           0.897194      1.100832e+05      11.458262        6.564112\n",
       "min           1.000000      2.610000e+04      20.504186        0.000000\n",
       "25%           2.000000      1.215000e+05      34.262168        1.015763\n",
       "50%           2.000000      1.611000e+05      42.793487        4.019247\n",
       "75%           3.000000      2.250000e+05      53.345380        8.495725\n",
       "max          20.000000      6.750000e+06      68.997994       47.998248"
      ]
     },
     "execution_count": 39,
     "metadata": {},
     "output_type": "execute_result"
    }
   ],
   "source": [
    "colunas_quantitativas = ['Tamanho_familia', 'Rendimento_anual', 'Idade', 'Anos_empregado']\n",
    "df_cadastrados_limpo[colunas_quantitativas].describe()"
   ]
  },
  {
   "cell_type": "code",
   "execution_count": 40,
   "metadata": {},
   "outputs": [
    {
     "data": {
      "text/plain": [
       "Categoria_de_renda\n",
       "Empregado              51.557144\n",
       "Associado comercial    22.972520\n",
       "Pensionista            17.214223\n",
       "Servidor público        8.252236\n",
       "Estudante               0.003877\n",
       "Name: proportion, dtype: float64"
      ]
     },
     "execution_count": 40,
     "metadata": {},
     "output_type": "execute_result"
    }
   ],
   "source": [
    "df_cadastrados_limpo['Categoria_de_renda'].value_counts(normalize = True) * 100"
   ]
  },
  {
   "cell_type": "code",
   "execution_count": 41,
   "metadata": {},
   "outputs": [],
   "source": [
    "import matplotlib as mpl\n",
    "#Configurações dos gráficos:\n",
    "mpl.rcParams['font.size'] = 14\n",
    "mpl.rcParams['figure.figsize'] = (10,6)"
   ]
  },
  {
   "cell_type": "markdown",
   "metadata": {},
   "source": [
    "## 2 - Análise Exploratória das Variáveis qualitativas"
   ]
  },
  {
   "cell_type": "code",
   "execution_count": 42,
   "metadata": {},
   "outputs": [
    {
     "data": {
      "image/png": "[encoded data removed]",
      "text/plain": [
       "<Figure size 1000x600 with 1 Axes>"
      ]
     },
     "metadata": {},
     "output_type": "display_data"
    }
   ],
   "source": [
    "sns.histplot(data=df_cadastrados_limpo, x='Rendimento_anual', bins=50) \n",
    "plt.xticks(rotation=45)\n",
    "plt.show()"
   ]
  },
  {
   "cell_type": "code",
   "execution_count": 43,
   "metadata": {},
   "outputs": [
    {
     "data": {
      "image/png": "[encoded data removed]",
      "text/plain": [
       "<Figure size 1000x600 with 1 Axes>"
      ]
     },
     "metadata": {},
     "output_type": "display_data"
    }
   ],
   "source": [
    "sns.boxplot(data=df_cadastrados_limpo, y='Rendimento_anual') \n",
    "plt.xticks(rotation=45)\n",
    "plt.show()"
   ]
  },
  {
   "cell_type": "code",
   "execution_count": 44,
   "metadata": {},
   "outputs": [
    {
     "data": {
      "image/png": "[encoded data removed]",
      "text/plain": [
       "<Figure size 1000x600 with 1 Axes>"
      ]
     },
     "metadata": {},
     "output_type": "display_data"
    }
   ],
   "source": [
    "sns.histplot(data=df_cadastrados_limpo, x='Anos_empregado', bins=50) \n",
    "plt.xticks(rotation=45)\n",
    "plt.show()"
   ]
  },
  {
   "cell_type": "code",
   "execution_count": 45,
   "metadata": {},
   "outputs": [
    {
     "data": {
      "image/png": "[encoded data removed]",
      "text/plain": [
       "<Figure size 1000x600 with 1 Axes>"
      ]
     },
     "metadata": {},
     "output_type": "display_data"
    }
   ],
   "source": [
    "sns.boxplot(data=df_cadastrados_limpo, y='Anos_empregado') \n",
    "plt.xticks(rotation=45)\n",
    "plt.show()"
   ]
  },
  {
   "cell_type": "code",
   "execution_count": 46,
   "metadata": {},
   "outputs": [
    {
     "data": {
      "image/png": "[encoded data removed]",
      "text/plain": [
       "<Figure size 1000x600 with 1 Axes>"
      ]
     },
     "metadata": {},
     "output_type": "display_data"
    }
   ],
   "source": [
    "sns.histplot(data=df_cadastrados_limpo, x='Idade', bins=10) \n",
    "plt.xticks(rotation=45)\n",
    "plt.show()"
   ]
  },
  {
   "cell_type": "code",
   "execution_count": 47,
   "metadata": {},
   "outputs": [
    {
     "data": {
      "image/png": "[encoded data removed]",
      "text/plain": [
       "<Figure size 1000x600 with 1 Axes>"
      ]
     },
     "metadata": {},
     "output_type": "display_data"
    }
   ],
   "source": [
    "sns.histplot(data=df_cadastrados_limpo, x='Tamanho_familia', bins=10) \n",
    "plt.xticks(rotation=45)\n",
    "plt.show()"
   ]
  },
  {
   "cell_type": "code",
   "execution_count": 48,
   "metadata": {},
   "outputs": [
    {
     "data": {
      "image/png": "[encoded data removed]",
      "text/plain": [
       "<Figure size 1000x600 with 1 Axes>"
      ]
     },
     "metadata": {},
     "output_type": "display_data"
    }
   ],
   "source": [
    "sns.boxplot(data=df_cadastrados_limpo, y='Tamanho_familia') \n",
    "plt.xticks(rotation=45)\n",
    "plt.show()"
   ]
  },
  {
   "cell_type": "code",
   "execution_count": 49,
   "metadata": {},
   "outputs": [
    {
     "data": {
      "text/plain": [
       "12641"
      ]
     },
     "execution_count": 49,
     "metadata": {},
     "output_type": "execute_result"
    }
   ],
   "source": [
    "'''Técnica para remoção de outliers a partir de um intervalo de confiança\n",
    "o valor +- o desvio-padrão'''\n",
    "\n",
    "coluna = df_cadastrados_limpo['Rendimento_anual']\n",
    "\n",
    "coluna_med = coluna.mean()\n",
    "coluna_std = coluna.std()\n",
    "\n",
    "limite_sup = coluna_med + (2 * coluna_std)\n",
    "limite_inf = coluna_med - (2 * coluna_std)\n",
    "\n",
    "index_outliers = []\n",
    "\n",
    "for index, valor in coluna.items(): \n",
    "  if valor > limite_sup or valor < limite_inf:\n",
    "    index_outliers.append(index)\n",
    "\n",
    "len(index_outliers)"
   ]
  },
  {
   "cell_type": "code",
   "execution_count": 50,
   "metadata": {},
   "outputs": [
    {
     "data": {
      "text/plain": [
       "(425822, 15)"
      ]
     },
     "execution_count": 50,
     "metadata": {},
     "output_type": "execute_result"
    }
   ],
   "source": [
    "\n",
    "df_clientes_cadastrados_sem_outliers = df_cadastrados_limpo.drop(index_outliers)\n",
    "df_clientes_cadastrados_sem_outliers.shape"
   ]
  },
  {
   "cell_type": "code",
   "execution_count": 51,
   "metadata": {},
   "outputs": [
    {
     "data": {
      "image/png": "[encoded data removed]",
      "text/plain": [
       "<Figure size 1000x600 with 1 Axes>"
      ]
     },
     "metadata": {},
     "output_type": "display_data"
    }
   ],
   "source": [
    "sns.boxplot(data=df_clientes_cadastrados_sem_outliers, y='Rendimento_anual') \n",
    "plt.xticks(rotation=45)\n",
    "plt.show()"
   ]
  },
  {
   "cell_type": "code",
   "execution_count": 52,
   "metadata": {},
   "outputs": [
    {
     "data": {
      "text/plain": [
       "<bound method Series.max of 2         112500.0\n",
       "3         270000.0\n",
       "4         270000.0\n",
       "5         270000.0\n",
       "6         270000.0\n",
       "            ...   \n",
       "438552    135000.0\n",
       "438553    103500.0\n",
       "438554     54000.0\n",
       "438555     72000.0\n",
       "438556    121500.0\n",
       "Name: Rendimento_anual, Length: 425822, dtype: float64>"
      ]
     },
     "execution_count": 52,
     "metadata": {},
     "output_type": "execute_result"
    }
   ],
   "source": [
    "df_clientes_cadastrados_sem_outliers['Rendimento_anual'].max"
   ]
  },
  {
   "cell_type": "code",
   "execution_count": 53,
   "metadata": {},
   "outputs": [
    {
     "data": {
      "image/png": "[encoded data removed]",
      "text/plain": [
       "<Figure size 1000x600 with 1 Axes>"
      ]
     },
     "metadata": {},
     "output_type": "display_data"
    }
   ],
   "source": [
    "fig = plt.figure(figsize=(10,6))\n",
    "ax = sns.histplot(data=df_clientes_cadastrados_sem_outliers, x='Rendimento_anual', bins=15)\n",
    "plt.xticks(rotation=360)\n",
    "ax.set_title('Distribuição da renda anual', fontsize = 20, loc='left')\n",
    "ax.set_ylabel('Número de pessoas', fontsize = 18)\n",
    "ax.set_xlabel('Renda anual (R$)', fontsize = 18)\n",
    "ax.yaxis.set_tick_params(labelsize=12)\n",
    "ax.xaxis.set_tick_params(labelsize=12)\n",
    "plt.show()"
   ]
  },
  {
   "cell_type": "code",
   "execution_count": 54,
   "metadata": {},
   "outputs": [
    {
     "data": {
      "text/plain": [
       "(425822, 15)"
      ]
     },
     "execution_count": 54,
     "metadata": {},
     "output_type": "execute_result"
    }
   ],
   "source": [
    "df_clientes_cadastrados_tratamento1 = df_clientes_cadastrados_sem_outliers\n",
    "df_clientes_cadastrados_tratamento1.shape"
   ]
  },
  {
   "cell_type": "markdown",
   "metadata": {},
   "source": [
    "## 3 - Criando a variável Target"
   ]
  },
  {
   "cell_type": "code",
   "execution_count": 55,
   "metadata": {},
   "outputs": [],
   "source": [
    "aprovados = pd.read_csv(r'C:\\Users\\flade\\Documents\\1- Pós Graduação\\Data Analytics\\Fase 4\\Credit_card_aproval\\data\\clientes_aprovados.csv')"
   ]
  },
  {
   "cell_type": "code",
   "execution_count": 56,
   "metadata": {},
   "outputs": [
    {
     "name": "stdout",
     "output_type": "stream",
     "text": [
      "<class 'pandas.core.frame.DataFrame'>\n",
      "RangeIndex: 1048575 entries, 0 to 1048574\n",
      "Data columns (total 3 columns):\n",
      " #   Column          Non-Null Count    Dtype \n",
      "---  ------          --------------    ----- \n",
      " 0   ID_Cliente      1048575 non-null  int64 \n",
      " 1   Mes_referencia  1048575 non-null  int64 \n",
      " 2   Faixa_atraso    1048575 non-null  object\n",
      "dtypes: int64(2), object(1)\n",
      "memory usage: 24.0+ MB\n"
     ]
    }
   ],
   "source": [
    "aprovados.info()"
   ]
  },
  {
   "cell_type": "code",
   "execution_count": 57,
   "metadata": {},
   "outputs": [
    {
     "data": {
      "text/html": [
       "<div>\n",
       "<style scoped>\n",
       "    .dataframe tbody tr th:only-of-type {\n",
       "        vertical-align: middle;\n",
       "    }\n",
       "\n",
       "    .dataframe tbody tr th {\n",
       "        vertical-align: top;\n",
       "    }\n",
       "\n",
       "    .dataframe thead th {\n",
       "        text-align: right;\n",
       "    }\n",
       "</style>\n",
       "<table border=\"1\" class=\"dataframe\">\n",
       "  <thead>\n",
       "    <tr style=\"text-align: right;\">\n",
       "      <th></th>\n",
       "      <th>ID_Cliente</th>\n",
       "      <th>Mes_referencia</th>\n",
       "      <th>Faixa_atraso</th>\n",
       "    </tr>\n",
       "  </thead>\n",
       "  <tbody>\n",
       "    <tr>\n",
       "      <th>0</th>\n",
       "      <td>5001711</td>\n",
       "      <td>0</td>\n",
       "      <td>nenhum empréstimo</td>\n",
       "    </tr>\n",
       "    <tr>\n",
       "      <th>1</th>\n",
       "      <td>5001711</td>\n",
       "      <td>-1</td>\n",
       "      <td>1-29 dias</td>\n",
       "    </tr>\n",
       "    <tr>\n",
       "      <th>2</th>\n",
       "      <td>5001711</td>\n",
       "      <td>-2</td>\n",
       "      <td>1-29 dias</td>\n",
       "    </tr>\n",
       "    <tr>\n",
       "      <th>3</th>\n",
       "      <td>5001711</td>\n",
       "      <td>-3</td>\n",
       "      <td>1-29 dias</td>\n",
       "    </tr>\n",
       "    <tr>\n",
       "      <th>4</th>\n",
       "      <td>5001712</td>\n",
       "      <td>0</td>\n",
       "      <td>pagamento realizado</td>\n",
       "    </tr>\n",
       "  </tbody>\n",
       "</table>\n",
       "</div>"
      ],
      "text/plain": [
       "   ID_Cliente  Mes_referencia         Faixa_atraso\n",
       "0     5001711               0    nenhum empréstimo\n",
       "1     5001711              -1            1-29 dias\n",
       "2     5001711              -2            1-29 dias\n",
       "3     5001711              -3            1-29 dias\n",
       "4     5001712               0  pagamento realizado"
      ]
     },
     "execution_count": 57,
     "metadata": {},
     "output_type": "execute_result"
    }
   ],
   "source": [
    "aprovados.head()"
   ]
  },
  {
   "cell_type": "code",
   "execution_count": 58,
   "metadata": {},
   "outputs": [
    {
     "data": {
      "text/html": [
       "<div>\n",
       "<style scoped>\n",
       "    .dataframe tbody tr th:only-of-type {\n",
       "        vertical-align: middle;\n",
       "    }\n",
       "\n",
       "    .dataframe tbody tr th {\n",
       "        vertical-align: top;\n",
       "    }\n",
       "\n",
       "    .dataframe thead th {\n",
       "        text-align: right;\n",
       "    }\n",
       "</style>\n",
       "<table border=\"1\" class=\"dataframe\">\n",
       "  <thead>\n",
       "    <tr style=\"text-align: right;\">\n",
       "      <th></th>\n",
       "      <th>ID_Cliente</th>\n",
       "      <th>Mes_referencia</th>\n",
       "      <th>Faixa_atraso</th>\n",
       "    </tr>\n",
       "  </thead>\n",
       "  <tbody>\n",
       "    <tr>\n",
       "      <th>4</th>\n",
       "      <td>5001712</td>\n",
       "      <td>0</td>\n",
       "      <td>pagamento realizado</td>\n",
       "    </tr>\n",
       "    <tr>\n",
       "      <th>5</th>\n",
       "      <td>5001712</td>\n",
       "      <td>-1</td>\n",
       "      <td>pagamento realizado</td>\n",
       "    </tr>\n",
       "    <tr>\n",
       "      <th>6</th>\n",
       "      <td>5001712</td>\n",
       "      <td>-2</td>\n",
       "      <td>pagamento realizado</td>\n",
       "    </tr>\n",
       "    <tr>\n",
       "      <th>7</th>\n",
       "      <td>5001712</td>\n",
       "      <td>-3</td>\n",
       "      <td>pagamento realizado</td>\n",
       "    </tr>\n",
       "    <tr>\n",
       "      <th>8</th>\n",
       "      <td>5001712</td>\n",
       "      <td>-4</td>\n",
       "      <td>pagamento realizado</td>\n",
       "    </tr>\n",
       "    <tr>\n",
       "      <th>9</th>\n",
       "      <td>5001712</td>\n",
       "      <td>-5</td>\n",
       "      <td>pagamento realizado</td>\n",
       "    </tr>\n",
       "    <tr>\n",
       "      <th>10</th>\n",
       "      <td>5001712</td>\n",
       "      <td>-6</td>\n",
       "      <td>pagamento realizado</td>\n",
       "    </tr>\n",
       "    <tr>\n",
       "      <th>11</th>\n",
       "      <td>5001712</td>\n",
       "      <td>-7</td>\n",
       "      <td>pagamento realizado</td>\n",
       "    </tr>\n",
       "    <tr>\n",
       "      <th>12</th>\n",
       "      <td>5001712</td>\n",
       "      <td>-8</td>\n",
       "      <td>pagamento realizado</td>\n",
       "    </tr>\n",
       "    <tr>\n",
       "      <th>13</th>\n",
       "      <td>5001712</td>\n",
       "      <td>-9</td>\n",
       "      <td>1-29 dias</td>\n",
       "    </tr>\n",
       "    <tr>\n",
       "      <th>14</th>\n",
       "      <td>5001712</td>\n",
       "      <td>-10</td>\n",
       "      <td>1-29 dias</td>\n",
       "    </tr>\n",
       "    <tr>\n",
       "      <th>15</th>\n",
       "      <td>5001712</td>\n",
       "      <td>-11</td>\n",
       "      <td>1-29 dias</td>\n",
       "    </tr>\n",
       "    <tr>\n",
       "      <th>16</th>\n",
       "      <td>5001712</td>\n",
       "      <td>-12</td>\n",
       "      <td>1-29 dias</td>\n",
       "    </tr>\n",
       "    <tr>\n",
       "      <th>17</th>\n",
       "      <td>5001712</td>\n",
       "      <td>-13</td>\n",
       "      <td>1-29 dias</td>\n",
       "    </tr>\n",
       "    <tr>\n",
       "      <th>18</th>\n",
       "      <td>5001712</td>\n",
       "      <td>-14</td>\n",
       "      <td>1-29 dias</td>\n",
       "    </tr>\n",
       "    <tr>\n",
       "      <th>19</th>\n",
       "      <td>5001712</td>\n",
       "      <td>-15</td>\n",
       "      <td>1-29 dias</td>\n",
       "    </tr>\n",
       "    <tr>\n",
       "      <th>20</th>\n",
       "      <td>5001712</td>\n",
       "      <td>-16</td>\n",
       "      <td>1-29 dias</td>\n",
       "    </tr>\n",
       "    <tr>\n",
       "      <th>21</th>\n",
       "      <td>5001712</td>\n",
       "      <td>-17</td>\n",
       "      <td>1-29 dias</td>\n",
       "    </tr>\n",
       "    <tr>\n",
       "      <th>22</th>\n",
       "      <td>5001712</td>\n",
       "      <td>-18</td>\n",
       "      <td>1-29 dias</td>\n",
       "    </tr>\n",
       "  </tbody>\n",
       "</table>\n",
       "</div>"
      ],
      "text/plain": [
       "    ID_Cliente  Mes_referencia         Faixa_atraso\n",
       "4      5001712               0  pagamento realizado\n",
       "5      5001712              -1  pagamento realizado\n",
       "6      5001712              -2  pagamento realizado\n",
       "7      5001712              -3  pagamento realizado\n",
       "8      5001712              -4  pagamento realizado\n",
       "9      5001712              -5  pagamento realizado\n",
       "10     5001712              -6  pagamento realizado\n",
       "11     5001712              -7  pagamento realizado\n",
       "12     5001712              -8  pagamento realizado\n",
       "13     5001712              -9            1-29 dias\n",
       "14     5001712             -10            1-29 dias\n",
       "15     5001712             -11            1-29 dias\n",
       "16     5001712             -12            1-29 dias\n",
       "17     5001712             -13            1-29 dias\n",
       "18     5001712             -14            1-29 dias\n",
       "19     5001712             -15            1-29 dias\n",
       "20     5001712             -16            1-29 dias\n",
       "21     5001712             -17            1-29 dias\n",
       "22     5001712             -18            1-29 dias"
      ]
     },
     "execution_count": 58,
     "metadata": {},
     "output_type": "execute_result"
    }
   ],
   "source": [
    "aprovados.query('ID_Cliente == 5001712')"
   ]
  },
  {
   "cell_type": "code",
   "execution_count": 59,
   "metadata": {},
   "outputs": [
    {
     "data": {
      "text/html": [
       "<div>\n",
       "<style scoped>\n",
       "    .dataframe tbody tr th:only-of-type {\n",
       "        vertical-align: middle;\n",
       "    }\n",
       "\n",
       "    .dataframe tbody tr th {\n",
       "        vertical-align: top;\n",
       "    }\n",
       "\n",
       "    .dataframe thead th {\n",
       "        text-align: right;\n",
       "    }\n",
       "</style>\n",
       "<table border=\"1\" class=\"dataframe\">\n",
       "  <thead>\n",
       "    <tr style=\"text-align: right;\">\n",
       "      <th></th>\n",
       "      <th>ID_Cliente</th>\n",
       "      <th>Mes_referencia</th>\n",
       "      <th>Faixa_atraso</th>\n",
       "    </tr>\n",
       "  </thead>\n",
       "  <tbody>\n",
       "    <tr>\n",
       "      <th>0</th>\n",
       "      <td>5001711</td>\n",
       "      <td>0</td>\n",
       "      <td>nenhum empréstimo</td>\n",
       "    </tr>\n",
       "    <tr>\n",
       "      <th>1</th>\n",
       "      <td>5001711</td>\n",
       "      <td>-1</td>\n",
       "      <td>1-29 dias</td>\n",
       "    </tr>\n",
       "    <tr>\n",
       "      <th>2</th>\n",
       "      <td>5001711</td>\n",
       "      <td>-2</td>\n",
       "      <td>1-29 dias</td>\n",
       "    </tr>\n",
       "    <tr>\n",
       "      <th>3</th>\n",
       "      <td>5001711</td>\n",
       "      <td>-3</td>\n",
       "      <td>1-29 dias</td>\n",
       "    </tr>\n",
       "  </tbody>\n",
       "</table>\n",
       "</div>"
      ],
      "text/plain": [
       "   ID_Cliente  Mes_referencia       Faixa_atraso\n",
       "0     5001711               0  nenhum empréstimo\n",
       "1     5001711              -1          1-29 dias\n",
       "2     5001711              -2          1-29 dias\n",
       "3     5001711              -3          1-29 dias"
      ]
     },
     "execution_count": 59,
     "metadata": {},
     "output_type": "execute_result"
    }
   ],
   "source": [
    "aprovados.query('ID_Cliente == 5001711')"
   ]
  },
  {
   "cell_type": "code",
   "execution_count": 60,
   "metadata": {},
   "outputs": [
    {
     "data": {
      "text/plain": [
       "Faixa_atraso\n",
       "pagamento realizado    442031\n",
       "1-29 dias              383120\n",
       "nenhum empréstimo      209230\n",
       "30-59 dias              11090\n",
       ">150 dias                1693\n",
       "60-89 dias                868\n",
       "90-119 dias               320\n",
       "120-149 dias              223\n",
       "Name: count, dtype: int64"
      ]
     },
     "execution_count": 60,
     "metadata": {},
     "output_type": "execute_result"
    }
   ],
   "source": [
    "aprovados.Faixa_atraso.value_counts()"
   ]
  },
  {
   "cell_type": "code",
   "execution_count": 61,
   "metadata": {},
   "outputs": [
    {
     "name": "stderr",
     "output_type": "stream",
     "text": [
      "C:\\Users\\flade\\AppData\\Local\\Temp\\ipykernel_11016\\1997392346.py:2: DeprecationWarning: DataFrameGroupBy.apply operated on the grouping columns. This behavior is deprecated, and in a future version of pandas the grouping columns will be excluded from the operation. Either pass `include_groups=False` to exclude the groupings or explicitly select the grouping columns after groupby to silence this warning.\n",
      "  ser_abertura = df_registros_credito_agrupados_ID.apply(lambda x: min(x['Mes_referencia']))\n"
     ]
    },
    {
     "data": {
      "text/plain": [
       "ID_Cliente\n",
       "5001711    -3\n",
       "5001712   -18\n",
       "5001713   -21\n",
       "5001714   -14\n",
       "5001715   -59\n",
       "           ..\n",
       "5150482   -28\n",
       "5150483   -17\n",
       "5150484   -12\n",
       "5150485    -1\n",
       "5150487   -29\n",
       "Name: Abertura, Length: 45985, dtype: int64"
      ]
     },
     "execution_count": 61,
     "metadata": {},
     "output_type": "execute_result"
    }
   ],
   "source": [
    "df_registros_credito_agrupados_ID = aprovados.groupby('ID_Cliente')\n",
    "ser_abertura = df_registros_credito_agrupados_ID.apply(lambda x: min(x['Mes_referencia']))\n",
    "ser_abertura.name = 'Abertura'\n",
    "ser_abertura"
   ]
  },
  {
   "cell_type": "code",
   "execution_count": 62,
   "metadata": {},
   "outputs": [
    {
     "data": {
      "text/html": [
       "<div>\n",
       "<style scoped>\n",
       "    .dataframe tbody tr th:only-of-type {\n",
       "        vertical-align: middle;\n",
       "    }\n",
       "\n",
       "    .dataframe tbody tr th {\n",
       "        vertical-align: top;\n",
       "    }\n",
       "\n",
       "    .dataframe thead th {\n",
       "        text-align: right;\n",
       "    }\n",
       "</style>\n",
       "<table border=\"1\" class=\"dataframe\">\n",
       "  <thead>\n",
       "    <tr style=\"text-align: right;\">\n",
       "      <th></th>\n",
       "      <th>ID_Cliente</th>\n",
       "      <th>Mes_referencia</th>\n",
       "      <th>Faixa_atraso</th>\n",
       "      <th>Abertura</th>\n",
       "    </tr>\n",
       "  </thead>\n",
       "  <tbody>\n",
       "    <tr>\n",
       "      <th>0</th>\n",
       "      <td>5001711</td>\n",
       "      <td>0</td>\n",
       "      <td>nenhum empréstimo</td>\n",
       "      <td>-3</td>\n",
       "    </tr>\n",
       "    <tr>\n",
       "      <th>1</th>\n",
       "      <td>5001711</td>\n",
       "      <td>-1</td>\n",
       "      <td>1-29 dias</td>\n",
       "      <td>-3</td>\n",
       "    </tr>\n",
       "    <tr>\n",
       "      <th>2</th>\n",
       "      <td>5001711</td>\n",
       "      <td>-2</td>\n",
       "      <td>1-29 dias</td>\n",
       "      <td>-3</td>\n",
       "    </tr>\n",
       "    <tr>\n",
       "      <th>3</th>\n",
       "      <td>5001711</td>\n",
       "      <td>-3</td>\n",
       "      <td>1-29 dias</td>\n",
       "      <td>-3</td>\n",
       "    </tr>\n",
       "    <tr>\n",
       "      <th>4</th>\n",
       "      <td>5001712</td>\n",
       "      <td>0</td>\n",
       "      <td>pagamento realizado</td>\n",
       "      <td>-18</td>\n",
       "    </tr>\n",
       "  </tbody>\n",
       "</table>\n",
       "</div>"
      ],
      "text/plain": [
       "   ID_Cliente  Mes_referencia         Faixa_atraso  Abertura\n",
       "0     5001711               0    nenhum empréstimo        -3\n",
       "1     5001711              -1            1-29 dias        -3\n",
       "2     5001711              -2            1-29 dias        -3\n",
       "3     5001711              -3            1-29 dias        -3\n",
       "4     5001712               0  pagamento realizado       -18"
      ]
     },
     "execution_count": 62,
     "metadata": {},
     "output_type": "execute_result"
    }
   ],
   "source": [
    "df_clientes_aprovados = aprovados.merge(ser_abertura, on = 'ID_Cliente')\n",
    "df_clientes_aprovados.head()"
   ]
  },
  {
   "cell_type": "code",
   "execution_count": 63,
   "metadata": {},
   "outputs": [
    {
     "name": "stderr",
     "output_type": "stream",
     "text": [
      "C:\\Users\\flade\\AppData\\Local\\Temp\\ipykernel_11016\\2102543870.py:1: DeprecationWarning: DataFrameGroupBy.apply operated on the grouping columns. This behavior is deprecated, and in a future version of pandas the grouping columns will be excluded from the operation. Either pass `include_groups=False` to exclude the groupings or explicitly select the grouping columns after groupby to silence this warning.\n",
      "  ser_final = df_registros_credito_agrupados_ID.apply(lambda x: max(x['Mes_referencia']))\n"
     ]
    },
    {
     "data": {
      "text/plain": [
       "ID_Cliente\n",
       "5001711     0\n",
       "5001712     0\n",
       "5001713     0\n",
       "5001714     0\n",
       "5001715     0\n",
       "           ..\n",
       "5150482   -11\n",
       "5150483     0\n",
       "5150484     0\n",
       "5150485     0\n",
       "5150487     0\n",
       "Name: Final, Length: 45985, dtype: int64"
      ]
     },
     "execution_count": 63,
     "metadata": {},
     "output_type": "execute_result"
    }
   ],
   "source": [
    "ser_final = df_registros_credito_agrupados_ID.apply(lambda x: max(x['Mes_referencia']))\n",
    "ser_final.name = 'Final'\n",
    "ser_final"
   ]
  },
  {
   "cell_type": "code",
   "execution_count": 64,
   "metadata": {},
   "outputs": [
    {
     "data": {
      "text/html": [
       "<div>\n",
       "<style scoped>\n",
       "    .dataframe tbody tr th:only-of-type {\n",
       "        vertical-align: middle;\n",
       "    }\n",
       "\n",
       "    .dataframe tbody tr th {\n",
       "        vertical-align: top;\n",
       "    }\n",
       "\n",
       "    .dataframe thead th {\n",
       "        text-align: right;\n",
       "    }\n",
       "</style>\n",
       "<table border=\"1\" class=\"dataframe\">\n",
       "  <thead>\n",
       "    <tr style=\"text-align: right;\">\n",
       "      <th></th>\n",
       "      <th>ID_Cliente</th>\n",
       "      <th>Mes_referencia</th>\n",
       "      <th>Faixa_atraso</th>\n",
       "      <th>Abertura</th>\n",
       "      <th>Final</th>\n",
       "    </tr>\n",
       "  </thead>\n",
       "  <tbody>\n",
       "    <tr>\n",
       "      <th>0</th>\n",
       "      <td>5001711</td>\n",
       "      <td>0</td>\n",
       "      <td>nenhum empréstimo</td>\n",
       "      <td>-3</td>\n",
       "      <td>0</td>\n",
       "    </tr>\n",
       "    <tr>\n",
       "      <th>1</th>\n",
       "      <td>5001711</td>\n",
       "      <td>-1</td>\n",
       "      <td>1-29 dias</td>\n",
       "      <td>-3</td>\n",
       "      <td>0</td>\n",
       "    </tr>\n",
       "    <tr>\n",
       "      <th>2</th>\n",
       "      <td>5001711</td>\n",
       "      <td>-2</td>\n",
       "      <td>1-29 dias</td>\n",
       "      <td>-3</td>\n",
       "      <td>0</td>\n",
       "    </tr>\n",
       "    <tr>\n",
       "      <th>3</th>\n",
       "      <td>5001711</td>\n",
       "      <td>-3</td>\n",
       "      <td>1-29 dias</td>\n",
       "      <td>-3</td>\n",
       "      <td>0</td>\n",
       "    </tr>\n",
       "    <tr>\n",
       "      <th>4</th>\n",
       "      <td>5001712</td>\n",
       "      <td>0</td>\n",
       "      <td>pagamento realizado</td>\n",
       "      <td>-18</td>\n",
       "      <td>0</td>\n",
       "    </tr>\n",
       "  </tbody>\n",
       "</table>\n",
       "</div>"
      ],
      "text/plain": [
       "   ID_Cliente  Mes_referencia         Faixa_atraso  Abertura  Final\n",
       "0     5001711               0    nenhum empréstimo        -3      0\n",
       "1     5001711              -1            1-29 dias        -3      0\n",
       "2     5001711              -2            1-29 dias        -3      0\n",
       "3     5001711              -3            1-29 dias        -3      0\n",
       "4     5001712               0  pagamento realizado       -18      0"
      ]
     },
     "execution_count": 64,
     "metadata": {},
     "output_type": "execute_result"
    }
   ],
   "source": [
    "df_clientes_aprovados = df_clientes_aprovados.merge(ser_final, on = 'ID_Cliente')\n",
    "df_clientes_aprovados.head()"
   ]
  },
  {
   "cell_type": "code",
   "execution_count": 65,
   "metadata": {},
   "outputs": [
    {
     "data": {
      "text/html": [
       "<div>\n",
       "<style scoped>\n",
       "    .dataframe tbody tr th:only-of-type {\n",
       "        vertical-align: middle;\n",
       "    }\n",
       "\n",
       "    .dataframe tbody tr th {\n",
       "        vertical-align: top;\n",
       "    }\n",
       "\n",
       "    .dataframe thead th {\n",
       "        text-align: right;\n",
       "    }\n",
       "</style>\n",
       "<table border=\"1\" class=\"dataframe\">\n",
       "  <thead>\n",
       "    <tr style=\"text-align: right;\">\n",
       "      <th></th>\n",
       "      <th>ID_Cliente</th>\n",
       "      <th>Mes_referencia</th>\n",
       "      <th>Faixa_atraso</th>\n",
       "      <th>Abertura</th>\n",
       "      <th>Final</th>\n",
       "      <th>Janela</th>\n",
       "    </tr>\n",
       "  </thead>\n",
       "  <tbody>\n",
       "    <tr>\n",
       "      <th>0</th>\n",
       "      <td>5001711</td>\n",
       "      <td>0</td>\n",
       "      <td>nenhum empréstimo</td>\n",
       "      <td>-3</td>\n",
       "      <td>0</td>\n",
       "      <td>3</td>\n",
       "    </tr>\n",
       "    <tr>\n",
       "      <th>1</th>\n",
       "      <td>5001711</td>\n",
       "      <td>-1</td>\n",
       "      <td>1-29 dias</td>\n",
       "      <td>-3</td>\n",
       "      <td>0</td>\n",
       "      <td>3</td>\n",
       "    </tr>\n",
       "    <tr>\n",
       "      <th>2</th>\n",
       "      <td>5001711</td>\n",
       "      <td>-2</td>\n",
       "      <td>1-29 dias</td>\n",
       "      <td>-3</td>\n",
       "      <td>0</td>\n",
       "      <td>3</td>\n",
       "    </tr>\n",
       "    <tr>\n",
       "      <th>3</th>\n",
       "      <td>5001711</td>\n",
       "      <td>-3</td>\n",
       "      <td>1-29 dias</td>\n",
       "      <td>-3</td>\n",
       "      <td>0</td>\n",
       "      <td>3</td>\n",
       "    </tr>\n",
       "    <tr>\n",
       "      <th>4</th>\n",
       "      <td>5001712</td>\n",
       "      <td>0</td>\n",
       "      <td>pagamento realizado</td>\n",
       "      <td>-18</td>\n",
       "      <td>0</td>\n",
       "      <td>18</td>\n",
       "    </tr>\n",
       "  </tbody>\n",
       "</table>\n",
       "</div>"
      ],
      "text/plain": [
       "   ID_Cliente  Mes_referencia         Faixa_atraso  Abertura  Final  Janela\n",
       "0     5001711               0    nenhum empréstimo        -3      0       3\n",
       "1     5001711              -1            1-29 dias        -3      0       3\n",
       "2     5001711              -2            1-29 dias        -3      0       3\n",
       "3     5001711              -3            1-29 dias        -3      0       3\n",
       "4     5001712               0  pagamento realizado       -18      0      18"
      ]
     },
     "execution_count": 65,
     "metadata": {},
     "output_type": "execute_result"
    }
   ],
   "source": [
    "df_clientes_aprovados['Janela'] = df_clientes_aprovados['Final'] - df_clientes_aprovados['Abertura']\n",
    "df_clientes_aprovados.head()"
   ]
  },
  {
   "cell_type": "code",
   "execution_count": 66,
   "metadata": {},
   "outputs": [],
   "source": [
    "# MOB - Month on book\n",
    "df_clientes_aprovados['MOB'] = df_clientes_aprovados['Mes_referencia'] - df_clientes_aprovados['Abertura']"
   ]
  },
  {
   "cell_type": "code",
   "execution_count": 67,
   "metadata": {},
   "outputs": [
    {
     "data": {
      "text/html": [
       "<div>\n",
       "<style scoped>\n",
       "    .dataframe tbody tr th:only-of-type {\n",
       "        vertical-align: middle;\n",
       "    }\n",
       "\n",
       "    .dataframe tbody tr th {\n",
       "        vertical-align: top;\n",
       "    }\n",
       "\n",
       "    .dataframe thead th {\n",
       "        text-align: right;\n",
       "    }\n",
       "</style>\n",
       "<table border=\"1\" class=\"dataframe\">\n",
       "  <thead>\n",
       "    <tr style=\"text-align: right;\">\n",
       "      <th></th>\n",
       "      <th>ID_Cliente</th>\n",
       "      <th>Mes_referencia</th>\n",
       "      <th>Faixa_atraso</th>\n",
       "      <th>Abertura</th>\n",
       "      <th>Final</th>\n",
       "      <th>Janela</th>\n",
       "      <th>MOB</th>\n",
       "    </tr>\n",
       "  </thead>\n",
       "  <tbody>\n",
       "    <tr>\n",
       "      <th>0</th>\n",
       "      <td>5001711</td>\n",
       "      <td>0</td>\n",
       "      <td>nenhum empréstimo</td>\n",
       "      <td>-3</td>\n",
       "      <td>0</td>\n",
       "      <td>3</td>\n",
       "      <td>3</td>\n",
       "    </tr>\n",
       "    <tr>\n",
       "      <th>1</th>\n",
       "      <td>5001711</td>\n",
       "      <td>-1</td>\n",
       "      <td>1-29 dias</td>\n",
       "      <td>-3</td>\n",
       "      <td>0</td>\n",
       "      <td>3</td>\n",
       "      <td>2</td>\n",
       "    </tr>\n",
       "    <tr>\n",
       "      <th>2</th>\n",
       "      <td>5001711</td>\n",
       "      <td>-2</td>\n",
       "      <td>1-29 dias</td>\n",
       "      <td>-3</td>\n",
       "      <td>0</td>\n",
       "      <td>3</td>\n",
       "      <td>1</td>\n",
       "    </tr>\n",
       "    <tr>\n",
       "      <th>3</th>\n",
       "      <td>5001711</td>\n",
       "      <td>-3</td>\n",
       "      <td>1-29 dias</td>\n",
       "      <td>-3</td>\n",
       "      <td>0</td>\n",
       "      <td>3</td>\n",
       "      <td>0</td>\n",
       "    </tr>\n",
       "    <tr>\n",
       "      <th>4</th>\n",
       "      <td>5001712</td>\n",
       "      <td>0</td>\n",
       "      <td>pagamento realizado</td>\n",
       "      <td>-18</td>\n",
       "      <td>0</td>\n",
       "      <td>18</td>\n",
       "      <td>18</td>\n",
       "    </tr>\n",
       "  </tbody>\n",
       "</table>\n",
       "</div>"
      ],
      "text/plain": [
       "   ID_Cliente  Mes_referencia         Faixa_atraso  Abertura  Final  Janela  \\\n",
       "0     5001711               0    nenhum empréstimo        -3      0       3   \n",
       "1     5001711              -1            1-29 dias        -3      0       3   \n",
       "2     5001711              -2            1-29 dias        -3      0       3   \n",
       "3     5001711              -3            1-29 dias        -3      0       3   \n",
       "4     5001712               0  pagamento realizado       -18      0      18   \n",
       "\n",
       "   MOB  \n",
       "0    3  \n",
       "1    2  \n",
       "2    1  \n",
       "3    0  \n",
       "4   18  "
      ]
     },
     "execution_count": 67,
     "metadata": {},
     "output_type": "execute_result"
    }
   ],
   "source": [
    "df_clientes_aprovados.head()"
   ]
  },
  {
   "cell_type": "code",
   "execution_count": 68,
   "metadata": {},
   "outputs": [
    {
     "data": {
      "text/plain": [
       "array(['nenhum empréstimo', '1-29 dias', 'pagamento realizado',\n",
       "       '30-59 dias', '60-89 dias', '90-119 dias', '120-149 dias',\n",
       "       '>150 dias'], dtype=object)"
      ]
     },
     "execution_count": 68,
     "metadata": {},
     "output_type": "execute_result"
    }
   ],
   "source": [
    "df_clientes_aprovados['Faixa_atraso'].unique()"
   ]
  },
  {
   "cell_type": "code",
   "execution_count": 69,
   "metadata": {},
   "outputs": [],
   "source": [
    "dict_faixa_atraso_ind = {'nenhum empréstimo':0, 'pagamento realizado':1, '1-29 dias':2,\n",
    "       '30-59 dias':3, '60-89 dias':4, '90-119 dias':5, '120-149 dias':6,\n",
    "       '>150 dias':7}"
   ]
  },
  {
   "cell_type": "code",
   "execution_count": 70,
   "metadata": {},
   "outputs": [
    {
     "data": {
      "text/html": [
       "<div>\n",
       "<style scoped>\n",
       "    .dataframe tbody tr th:only-of-type {\n",
       "        vertical-align: middle;\n",
       "    }\n",
       "\n",
       "    .dataframe tbody tr th {\n",
       "        vertical-align: top;\n",
       "    }\n",
       "\n",
       "    .dataframe thead th {\n",
       "        text-align: right;\n",
       "    }\n",
       "</style>\n",
       "<table border=\"1\" class=\"dataframe\">\n",
       "  <thead>\n",
       "    <tr style=\"text-align: right;\">\n",
       "      <th></th>\n",
       "      <th>ID_Cliente</th>\n",
       "      <th>Mes_referencia</th>\n",
       "      <th>Faixa_atraso</th>\n",
       "      <th>Abertura</th>\n",
       "      <th>Final</th>\n",
       "      <th>Janela</th>\n",
       "      <th>MOB</th>\n",
       "      <th>Ind_faixa_atraso</th>\n",
       "    </tr>\n",
       "  </thead>\n",
       "  <tbody>\n",
       "    <tr>\n",
       "      <th>0</th>\n",
       "      <td>5001711</td>\n",
       "      <td>0</td>\n",
       "      <td>nenhum empréstimo</td>\n",
       "      <td>-3</td>\n",
       "      <td>0</td>\n",
       "      <td>3</td>\n",
       "      <td>3</td>\n",
       "      <td>0</td>\n",
       "    </tr>\n",
       "    <tr>\n",
       "      <th>1</th>\n",
       "      <td>5001711</td>\n",
       "      <td>-1</td>\n",
       "      <td>1-29 dias</td>\n",
       "      <td>-3</td>\n",
       "      <td>0</td>\n",
       "      <td>3</td>\n",
       "      <td>2</td>\n",
       "      <td>2</td>\n",
       "    </tr>\n",
       "    <tr>\n",
       "      <th>2</th>\n",
       "      <td>5001711</td>\n",
       "      <td>-2</td>\n",
       "      <td>1-29 dias</td>\n",
       "      <td>-3</td>\n",
       "      <td>0</td>\n",
       "      <td>3</td>\n",
       "      <td>1</td>\n",
       "      <td>2</td>\n",
       "    </tr>\n",
       "    <tr>\n",
       "      <th>3</th>\n",
       "      <td>5001711</td>\n",
       "      <td>-3</td>\n",
       "      <td>1-29 dias</td>\n",
       "      <td>-3</td>\n",
       "      <td>0</td>\n",
       "      <td>3</td>\n",
       "      <td>0</td>\n",
       "      <td>2</td>\n",
       "    </tr>\n",
       "    <tr>\n",
       "      <th>4</th>\n",
       "      <td>5001712</td>\n",
       "      <td>0</td>\n",
       "      <td>pagamento realizado</td>\n",
       "      <td>-18</td>\n",
       "      <td>0</td>\n",
       "      <td>18</td>\n",
       "      <td>18</td>\n",
       "      <td>1</td>\n",
       "    </tr>\n",
       "  </tbody>\n",
       "</table>\n",
       "</div>"
      ],
      "text/plain": [
       "   ID_Cliente  Mes_referencia         Faixa_atraso  Abertura  Final  Janela  \\\n",
       "0     5001711               0    nenhum empréstimo        -3      0       3   \n",
       "1     5001711              -1            1-29 dias        -3      0       3   \n",
       "2     5001711              -2            1-29 dias        -3      0       3   \n",
       "3     5001711              -3            1-29 dias        -3      0       3   \n",
       "4     5001712               0  pagamento realizado       -18      0      18   \n",
       "\n",
       "   MOB  Ind_faixa_atraso  \n",
       "0    3                 0  \n",
       "1    2                 2  \n",
       "2    1                 2  \n",
       "3    0                 2  \n",
       "4   18                 1  "
      ]
     },
     "execution_count": 70,
     "metadata": {},
     "output_type": "execute_result"
    }
   ],
   "source": [
    "df_clientes_aprovados['Ind_faixa_atraso'] = df_clientes_aprovados['Faixa_atraso'].map(dict_faixa_atraso_ind)\n",
    "df_clientes_aprovados.head()"
   ]
  },
  {
   "cell_type": "code",
   "execution_count": 71,
   "metadata": {},
   "outputs": [],
   "source": [
    "df_clientes_aprovados['Mau'] = df_clientes_aprovados.apply(lambda x:1 if x['Ind_faixa_atraso'] >3 else 0, axis=1)"
   ]
  },
  {
   "cell_type": "code",
   "execution_count": 72,
   "metadata": {},
   "outputs": [
    {
     "data": {
      "text/html": [
       "<div>\n",
       "<style scoped>\n",
       "    .dataframe tbody tr th:only-of-type {\n",
       "        vertical-align: middle;\n",
       "    }\n",
       "\n",
       "    .dataframe tbody tr th {\n",
       "        vertical-align: top;\n",
       "    }\n",
       "\n",
       "    .dataframe thead th {\n",
       "        text-align: right;\n",
       "    }\n",
       "</style>\n",
       "<table border=\"1\" class=\"dataframe\">\n",
       "  <thead>\n",
       "    <tr style=\"text-align: right;\">\n",
       "      <th></th>\n",
       "      <th>ID_Cliente</th>\n",
       "      <th>Mes_referencia</th>\n",
       "      <th>Faixa_atraso</th>\n",
       "      <th>Abertura</th>\n",
       "      <th>Final</th>\n",
       "      <th>Janela</th>\n",
       "      <th>MOB</th>\n",
       "      <th>Ind_faixa_atraso</th>\n",
       "      <th>Mau</th>\n",
       "    </tr>\n",
       "  </thead>\n",
       "  <tbody>\n",
       "    <tr>\n",
       "      <th>0</th>\n",
       "      <td>5001711</td>\n",
       "      <td>0</td>\n",
       "      <td>nenhum empréstimo</td>\n",
       "      <td>-3</td>\n",
       "      <td>0</td>\n",
       "      <td>3</td>\n",
       "      <td>3</td>\n",
       "      <td>0</td>\n",
       "      <td>0</td>\n",
       "    </tr>\n",
       "    <tr>\n",
       "      <th>1</th>\n",
       "      <td>5001711</td>\n",
       "      <td>-1</td>\n",
       "      <td>1-29 dias</td>\n",
       "      <td>-3</td>\n",
       "      <td>0</td>\n",
       "      <td>3</td>\n",
       "      <td>2</td>\n",
       "      <td>2</td>\n",
       "      <td>0</td>\n",
       "    </tr>\n",
       "    <tr>\n",
       "      <th>2</th>\n",
       "      <td>5001711</td>\n",
       "      <td>-2</td>\n",
       "      <td>1-29 dias</td>\n",
       "      <td>-3</td>\n",
       "      <td>0</td>\n",
       "      <td>3</td>\n",
       "      <td>1</td>\n",
       "      <td>2</td>\n",
       "      <td>0</td>\n",
       "    </tr>\n",
       "    <tr>\n",
       "      <th>3</th>\n",
       "      <td>5001711</td>\n",
       "      <td>-3</td>\n",
       "      <td>1-29 dias</td>\n",
       "      <td>-3</td>\n",
       "      <td>0</td>\n",
       "      <td>3</td>\n",
       "      <td>0</td>\n",
       "      <td>2</td>\n",
       "      <td>0</td>\n",
       "    </tr>\n",
       "    <tr>\n",
       "      <th>4</th>\n",
       "      <td>5001712</td>\n",
       "      <td>0</td>\n",
       "      <td>pagamento realizado</td>\n",
       "      <td>-18</td>\n",
       "      <td>0</td>\n",
       "      <td>18</td>\n",
       "      <td>18</td>\n",
       "      <td>1</td>\n",
       "      <td>0</td>\n",
       "    </tr>\n",
       "  </tbody>\n",
       "</table>\n",
       "</div>"
      ],
      "text/plain": [
       "   ID_Cliente  Mes_referencia         Faixa_atraso  Abertura  Final  Janela  \\\n",
       "0     5001711               0    nenhum empréstimo        -3      0       3   \n",
       "1     5001711              -1            1-29 dias        -3      0       3   \n",
       "2     5001711              -2            1-29 dias        -3      0       3   \n",
       "3     5001711              -3            1-29 dias        -3      0       3   \n",
       "4     5001712               0  pagamento realizado       -18      0      18   \n",
       "\n",
       "   MOB  Ind_faixa_atraso  Mau  \n",
       "0    3                 0    0  \n",
       "1    2                 2    0  \n",
       "2    1                 2    0  \n",
       "3    0                 2    0  \n",
       "4   18                 1    0  "
      ]
     },
     "execution_count": 72,
     "metadata": {},
     "output_type": "execute_result"
    }
   ],
   "source": [
    "df_clientes_aprovados.head()"
   ]
  },
  {
   "cell_type": "code",
   "execution_count": 73,
   "metadata": {},
   "outputs": [
    {
     "name": "stderr",
     "output_type": "stream",
     "text": [
      "C:\\Users\\flade\\AppData\\Local\\Temp\\ipykernel_11016\\31276137.py:1: DeprecationWarning: DataFrameGroupBy.apply operated on the grouping columns. This behavior is deprecated, and in a future version of pandas the grouping columns will be excluded from the operation. Either pass `include_groups=False` to exclude the groupings or explicitly select the grouping columns after groupby to silence this warning.\n",
      "  df_registros_creditos_ID = df_clientes_aprovados[['ID_Cliente','Abertura', 'Final', 'Janela']].groupby('ID_Cliente').apply(lambda x: x.iloc[0]).reset_index(drop=True)\n"
     ]
    }
   ],
   "source": [
    "df_registros_creditos_ID = df_clientes_aprovados[['ID_Cliente','Abertura', 'Final', 'Janela']].groupby('ID_Cliente').apply(lambda x: x.iloc[0]).reset_index(drop=True)"
   ]
  },
  {
   "cell_type": "code",
   "execution_count": 74,
   "metadata": {},
   "outputs": [
    {
     "data": {
      "text/html": [
       "<div>\n",
       "<style scoped>\n",
       "    .dataframe tbody tr th:only-of-type {\n",
       "        vertical-align: middle;\n",
       "    }\n",
       "\n",
       "    .dataframe tbody tr th {\n",
       "        vertical-align: top;\n",
       "    }\n",
       "\n",
       "    .dataframe thead th {\n",
       "        text-align: right;\n",
       "    }\n",
       "</style>\n",
       "<table border=\"1\" class=\"dataframe\">\n",
       "  <thead>\n",
       "    <tr style=\"text-align: right;\">\n",
       "      <th></th>\n",
       "      <th>ID_Cliente</th>\n",
       "      <th>Abertura</th>\n",
       "      <th>Final</th>\n",
       "      <th>Janela</th>\n",
       "    </tr>\n",
       "  </thead>\n",
       "  <tbody>\n",
       "    <tr>\n",
       "      <th>0</th>\n",
       "      <td>5001711</td>\n",
       "      <td>-3</td>\n",
       "      <td>0</td>\n",
       "      <td>3</td>\n",
       "    </tr>\n",
       "    <tr>\n",
       "      <th>1</th>\n",
       "      <td>5001712</td>\n",
       "      <td>-18</td>\n",
       "      <td>0</td>\n",
       "      <td>18</td>\n",
       "    </tr>\n",
       "    <tr>\n",
       "      <th>2</th>\n",
       "      <td>5001713</td>\n",
       "      <td>-21</td>\n",
       "      <td>0</td>\n",
       "      <td>21</td>\n",
       "    </tr>\n",
       "    <tr>\n",
       "      <th>3</th>\n",
       "      <td>5001714</td>\n",
       "      <td>-14</td>\n",
       "      <td>0</td>\n",
       "      <td>14</td>\n",
       "    </tr>\n",
       "    <tr>\n",
       "      <th>4</th>\n",
       "      <td>5001715</td>\n",
       "      <td>-59</td>\n",
       "      <td>0</td>\n",
       "      <td>59</td>\n",
       "    </tr>\n",
       "    <tr>\n",
       "      <th>...</th>\n",
       "      <td>...</td>\n",
       "      <td>...</td>\n",
       "      <td>...</td>\n",
       "      <td>...</td>\n",
       "    </tr>\n",
       "    <tr>\n",
       "      <th>45980</th>\n",
       "      <td>5150482</td>\n",
       "      <td>-28</td>\n",
       "      <td>-11</td>\n",
       "      <td>17</td>\n",
       "    </tr>\n",
       "    <tr>\n",
       "      <th>45981</th>\n",
       "      <td>5150483</td>\n",
       "      <td>-17</td>\n",
       "      <td>0</td>\n",
       "      <td>17</td>\n",
       "    </tr>\n",
       "    <tr>\n",
       "      <th>45982</th>\n",
       "      <td>5150484</td>\n",
       "      <td>-12</td>\n",
       "      <td>0</td>\n",
       "      <td>12</td>\n",
       "    </tr>\n",
       "    <tr>\n",
       "      <th>45983</th>\n",
       "      <td>5150485</td>\n",
       "      <td>-1</td>\n",
       "      <td>0</td>\n",
       "      <td>1</td>\n",
       "    </tr>\n",
       "    <tr>\n",
       "      <th>45984</th>\n",
       "      <td>5150487</td>\n",
       "      <td>-29</td>\n",
       "      <td>0</td>\n",
       "      <td>29</td>\n",
       "    </tr>\n",
       "  </tbody>\n",
       "</table>\n",
       "<p>45985 rows × 4 columns</p>\n",
       "</div>"
      ],
      "text/plain": [
       "       ID_Cliente  Abertura  Final  Janela\n",
       "0         5001711        -3      0       3\n",
       "1         5001712       -18      0      18\n",
       "2         5001713       -21      0      21\n",
       "3         5001714       -14      0      14\n",
       "4         5001715       -59      0      59\n",
       "...           ...       ...    ...     ...\n",
       "45980     5150482       -28    -11      17\n",
       "45981     5150483       -17      0      17\n",
       "45982     5150484       -12      0      12\n",
       "45983     5150485        -1      0       1\n",
       "45984     5150487       -29      0      29\n",
       "\n",
       "[45985 rows x 4 columns]"
      ]
     },
     "execution_count": 74,
     "metadata": {},
     "output_type": "execute_result"
    }
   ],
   "source": [
    "df_registros_creditos_ID"
   ]
  },
  {
   "cell_type": "code",
   "execution_count": 75,
   "metadata": {},
   "outputs": [
    {
     "name": "stderr",
     "output_type": "stream",
     "text": [
      "C:\\Users\\flade\\AppData\\Local\\Temp\\ipykernel_11016\\1081586077.py:2: DeprecationWarning: DataFrameGroupBy.apply operated on the grouping columns. This behavior is deprecated, and in a future version of pandas the grouping columns will be excluded from the operation. Either pass `include_groups=False` to exclude the groupings or explicitly select the grouping columns after groupby to silence this warning.\n",
      "  df_denominador = df_registros_creditos_ID.groupby('Abertura').apply(lambda X: X['ID_Cliente'].count()).reset_index()\n"
     ]
    },
    {
     "data": {
      "text/html": [
       "<div>\n",
       "<style scoped>\n",
       "    .dataframe tbody tr th:only-of-type {\n",
       "        vertical-align: middle;\n",
       "    }\n",
       "\n",
       "    .dataframe tbody tr th {\n",
       "        vertical-align: top;\n",
       "    }\n",
       "\n",
       "    .dataframe thead th {\n",
       "        text-align: right;\n",
       "    }\n",
       "</style>\n",
       "<table border=\"1\" class=\"dataframe\">\n",
       "  <thead>\n",
       "    <tr style=\"text-align: right;\">\n",
       "      <th></th>\n",
       "      <th>Abertura</th>\n",
       "      <th>Qtd_Clientes</th>\n",
       "    </tr>\n",
       "  </thead>\n",
       "  <tbody>\n",
       "    <tr>\n",
       "      <th>0</th>\n",
       "      <td>-60</td>\n",
       "      <td>415</td>\n",
       "    </tr>\n",
       "    <tr>\n",
       "      <th>1</th>\n",
       "      <td>-59</td>\n",
       "      <td>406</td>\n",
       "    </tr>\n",
       "    <tr>\n",
       "      <th>2</th>\n",
       "      <td>-58</td>\n",
       "      <td>440</td>\n",
       "    </tr>\n",
       "    <tr>\n",
       "      <th>3</th>\n",
       "      <td>-57</td>\n",
       "      <td>400</td>\n",
       "    </tr>\n",
       "    <tr>\n",
       "      <th>4</th>\n",
       "      <td>-56</td>\n",
       "      <td>470</td>\n",
       "    </tr>\n",
       "    <tr>\n",
       "      <th>...</th>\n",
       "      <td>...</td>\n",
       "      <td>...</td>\n",
       "    </tr>\n",
       "    <tr>\n",
       "      <th>56</th>\n",
       "      <td>-4</td>\n",
       "      <td>874</td>\n",
       "    </tr>\n",
       "    <tr>\n",
       "      <th>57</th>\n",
       "      <td>-3</td>\n",
       "      <td>919</td>\n",
       "    </tr>\n",
       "    <tr>\n",
       "      <th>58</th>\n",
       "      <td>-2</td>\n",
       "      <td>771</td>\n",
       "    </tr>\n",
       "    <tr>\n",
       "      <th>59</th>\n",
       "      <td>-1</td>\n",
       "      <td>686</td>\n",
       "    </tr>\n",
       "    <tr>\n",
       "      <th>60</th>\n",
       "      <td>0</td>\n",
       "      <td>370</td>\n",
       "    </tr>\n",
       "  </tbody>\n",
       "</table>\n",
       "<p>61 rows × 2 columns</p>\n",
       "</div>"
      ],
      "text/plain": [
       "    Abertura  Qtd_Clientes\n",
       "0        -60           415\n",
       "1        -59           406\n",
       "2        -58           440\n",
       "3        -57           400\n",
       "4        -56           470\n",
       "..       ...           ...\n",
       "56        -4           874\n",
       "57        -3           919\n",
       "58        -2           771\n",
       "59        -1           686\n",
       "60         0           370\n",
       "\n",
       "[61 rows x 2 columns]"
      ]
     },
     "execution_count": 75,
     "metadata": {},
     "output_type": "execute_result"
    }
   ],
   "source": [
    "#Vendo a quantidade de aberturas por período!\n",
    "df_denominador = df_registros_creditos_ID.groupby('Abertura').apply(lambda X: X['ID_Cliente'].count()).reset_index()\n",
    "df_denominador.columns = ['Abertura','Qtd_Clientes']\n",
    "df_denominador"
   ]
  },
  {
   "cell_type": "markdown",
   "metadata": {},
   "source": [
    "## 4 - ANALISE VINTAGE"
   ]
  },
  {
   "cell_type": "code",
   "execution_count": 76,
   "metadata": {},
   "outputs": [
    {
     "name": "stderr",
     "output_type": "stream",
     "text": [
      "C:\\Users\\flade\\AppData\\Local\\Temp\\ipykernel_11016\\2749728075.py:2: DeprecationWarning: DataFrameGroupBy.apply operated on the grouping columns. This behavior is deprecated, and in a future version of pandas the grouping columns will be excluded from the operation. Either pass `include_groups=False` to exclude the groupings or explicitly select the grouping columns after groupby to silence this warning.\n",
      "  'MOB']).apply(lambda x: x['ID_Cliente'].count()).reset_index()\n"
     ]
    },
    {
     "data": {
      "text/html": [
       "<div>\n",
       "<style scoped>\n",
       "    .dataframe tbody tr th:only-of-type {\n",
       "        vertical-align: middle;\n",
       "    }\n",
       "\n",
       "    .dataframe tbody tr th {\n",
       "        vertical-align: top;\n",
       "    }\n",
       "\n",
       "    .dataframe thead th {\n",
       "        text-align: right;\n",
       "    }\n",
       "</style>\n",
       "<table border=\"1\" class=\"dataframe\">\n",
       "  <thead>\n",
       "    <tr style=\"text-align: right;\">\n",
       "      <th></th>\n",
       "      <th>Abertura</th>\n",
       "      <th>MOB</th>\n",
       "      <th>Qtd_Cliente</th>\n",
       "    </tr>\n",
       "  </thead>\n",
       "  <tbody>\n",
       "    <tr>\n",
       "      <th>0</th>\n",
       "      <td>-60</td>\n",
       "      <td>0</td>\n",
       "      <td>415</td>\n",
       "    </tr>\n",
       "    <tr>\n",
       "      <th>1</th>\n",
       "      <td>-60</td>\n",
       "      <td>1</td>\n",
       "      <td>414</td>\n",
       "    </tr>\n",
       "    <tr>\n",
       "      <th>2</th>\n",
       "      <td>-60</td>\n",
       "      <td>2</td>\n",
       "      <td>410</td>\n",
       "    </tr>\n",
       "    <tr>\n",
       "      <th>3</th>\n",
       "      <td>-60</td>\n",
       "      <td>3</td>\n",
       "      <td>408</td>\n",
       "    </tr>\n",
       "    <tr>\n",
       "      <th>4</th>\n",
       "      <td>-60</td>\n",
       "      <td>4</td>\n",
       "      <td>403</td>\n",
       "    </tr>\n",
       "    <tr>\n",
       "      <th>...</th>\n",
       "      <td>...</td>\n",
       "      <td>...</td>\n",
       "      <td>...</td>\n",
       "    </tr>\n",
       "    <tr>\n",
       "      <th>1886</th>\n",
       "      <td>-2</td>\n",
       "      <td>1</td>\n",
       "      <td>770</td>\n",
       "    </tr>\n",
       "    <tr>\n",
       "      <th>1887</th>\n",
       "      <td>-2</td>\n",
       "      <td>2</td>\n",
       "      <td>750</td>\n",
       "    </tr>\n",
       "    <tr>\n",
       "      <th>1888</th>\n",
       "      <td>-1</td>\n",
       "      <td>0</td>\n",
       "      <td>686</td>\n",
       "    </tr>\n",
       "    <tr>\n",
       "      <th>1889</th>\n",
       "      <td>-1</td>\n",
       "      <td>1</td>\n",
       "      <td>682</td>\n",
       "    </tr>\n",
       "    <tr>\n",
       "      <th>1890</th>\n",
       "      <td>0</td>\n",
       "      <td>0</td>\n",
       "      <td>370</td>\n",
       "    </tr>\n",
       "  </tbody>\n",
       "</table>\n",
       "<p>1891 rows × 3 columns</p>\n",
       "</div>"
      ],
      "text/plain": [
       "      Abertura  MOB  Qtd_Cliente\n",
       "0          -60    0          415\n",
       "1          -60    1          414\n",
       "2          -60    2          410\n",
       "3          -60    3          408\n",
       "4          -60    4          403\n",
       "...        ...  ...          ...\n",
       "1886        -2    1          770\n",
       "1887        -2    2          750\n",
       "1888        -1    0          686\n",
       "1889        -1    1          682\n",
       "1890         0    0          370\n",
       "\n",
       "[1891 rows x 3 columns]"
      ]
     },
     "execution_count": 76,
     "metadata": {},
     "output_type": "execute_result"
    }
   ],
   "source": [
    "df_vintage = df_clientes_aprovados.groupby(['Abertura',\n",
    "                                             'MOB']).apply(lambda x: x['ID_Cliente'].count()).reset_index()\n",
    "df_vintage.columns =['Abertura', 'MOB', 'Qtd_Cliente']\n",
    "df_vintage"
   ]
  },
  {
   "cell_type": "markdown",
   "metadata": {},
   "source": [
    "Análise do resultado:\n",
    "Na primeira linha à 60 meses atrás tinhamos 415 clientes que tinham aberto a conta naquele mês\n",
    "Na segunda linha à 60 meses existiam 414 clientes que tinham aberto a conta à 1 mês"
   ]
  },
  {
   "cell_type": "code",
   "execution_count": 77,
   "metadata": {},
   "outputs": [],
   "source": [
    "df_vintage = pd.merge(df_vintage[['Abertura', 'MOB']], df_denominador,\n",
    "                      on = 'Abertura', how = 'left')"
   ]
  },
  {
   "cell_type": "code",
   "execution_count": 78,
   "metadata": {},
   "outputs": [
    {
     "data": {
      "text/html": [
       "<div>\n",
       "<style scoped>\n",
       "    .dataframe tbody tr th:only-of-type {\n",
       "        vertical-align: middle;\n",
       "    }\n",
       "\n",
       "    .dataframe tbody tr th {\n",
       "        vertical-align: top;\n",
       "    }\n",
       "\n",
       "    .dataframe thead th {\n",
       "        text-align: right;\n",
       "    }\n",
       "</style>\n",
       "<table border=\"1\" class=\"dataframe\">\n",
       "  <thead>\n",
       "    <tr style=\"text-align: right;\">\n",
       "      <th></th>\n",
       "      <th>Abertura</th>\n",
       "      <th>MOB</th>\n",
       "      <th>Qtd_Clientes</th>\n",
       "    </tr>\n",
       "  </thead>\n",
       "  <tbody>\n",
       "    <tr>\n",
       "      <th>0</th>\n",
       "      <td>-60</td>\n",
       "      <td>0</td>\n",
       "      <td>415</td>\n",
       "    </tr>\n",
       "    <tr>\n",
       "      <th>1</th>\n",
       "      <td>-60</td>\n",
       "      <td>1</td>\n",
       "      <td>415</td>\n",
       "    </tr>\n",
       "    <tr>\n",
       "      <th>2</th>\n",
       "      <td>-60</td>\n",
       "      <td>2</td>\n",
       "      <td>415</td>\n",
       "    </tr>\n",
       "    <tr>\n",
       "      <th>3</th>\n",
       "      <td>-60</td>\n",
       "      <td>3</td>\n",
       "      <td>415</td>\n",
       "    </tr>\n",
       "    <tr>\n",
       "      <th>4</th>\n",
       "      <td>-60</td>\n",
       "      <td>4</td>\n",
       "      <td>415</td>\n",
       "    </tr>\n",
       "    <tr>\n",
       "      <th>...</th>\n",
       "      <td>...</td>\n",
       "      <td>...</td>\n",
       "      <td>...</td>\n",
       "    </tr>\n",
       "    <tr>\n",
       "      <th>1886</th>\n",
       "      <td>-2</td>\n",
       "      <td>1</td>\n",
       "      <td>771</td>\n",
       "    </tr>\n",
       "    <tr>\n",
       "      <th>1887</th>\n",
       "      <td>-2</td>\n",
       "      <td>2</td>\n",
       "      <td>771</td>\n",
       "    </tr>\n",
       "    <tr>\n",
       "      <th>1888</th>\n",
       "      <td>-1</td>\n",
       "      <td>0</td>\n",
       "      <td>686</td>\n",
       "    </tr>\n",
       "    <tr>\n",
       "      <th>1889</th>\n",
       "      <td>-1</td>\n",
       "      <td>1</td>\n",
       "      <td>686</td>\n",
       "    </tr>\n",
       "    <tr>\n",
       "      <th>1890</th>\n",
       "      <td>0</td>\n",
       "      <td>0</td>\n",
       "      <td>370</td>\n",
       "    </tr>\n",
       "  </tbody>\n",
       "</table>\n",
       "<p>1891 rows × 3 columns</p>\n",
       "</div>"
      ],
      "text/plain": [
       "      Abertura  MOB  Qtd_Clientes\n",
       "0          -60    0           415\n",
       "1          -60    1           415\n",
       "2          -60    2           415\n",
       "3          -60    3           415\n",
       "4          -60    4           415\n",
       "...        ...  ...           ...\n",
       "1886        -2    1           771\n",
       "1887        -2    2           771\n",
       "1888        -1    0           686\n",
       "1889        -1    1           686\n",
       "1890         0    0           370\n",
       "\n",
       "[1891 rows x 3 columns]"
      ]
     },
     "execution_count": 78,
     "metadata": {},
     "output_type": "execute_result"
    }
   ],
   "source": [
    "df_vintage"
   ]
  },
  {
   "cell_type": "code",
   "execution_count": 79,
   "metadata": {},
   "outputs": [],
   "source": [
    "import numpy as np"
   ]
  },
  {
   "cell_type": "code",
   "execution_count": 80,
   "metadata": {},
   "outputs": [
    {
     "data": {
      "text/html": [
       "<div>\n",
       "<style scoped>\n",
       "    .dataframe tbody tr th:only-of-type {\n",
       "        vertical-align: middle;\n",
       "    }\n",
       "\n",
       "    .dataframe tbody tr th {\n",
       "        vertical-align: top;\n",
       "    }\n",
       "\n",
       "    .dataframe thead th {\n",
       "        text-align: right;\n",
       "    }\n",
       "</style>\n",
       "<table border=\"1\" class=\"dataframe\">\n",
       "  <thead>\n",
       "    <tr style=\"text-align: right;\">\n",
       "      <th></th>\n",
       "      <th>Abertura</th>\n",
       "      <th>MOB</th>\n",
       "      <th>Qtd_Clientes</th>\n",
       "      <th>Qtd_Mau</th>\n",
       "      <th>Taxa_de_Mau</th>\n",
       "    </tr>\n",
       "  </thead>\n",
       "  <tbody>\n",
       "    <tr>\n",
       "      <th>0</th>\n",
       "      <td>-60</td>\n",
       "      <td>0</td>\n",
       "      <td>415</td>\n",
       "      <td>0.0</td>\n",
       "      <td>0.000000</td>\n",
       "    </tr>\n",
       "    <tr>\n",
       "      <th>1</th>\n",
       "      <td>-60</td>\n",
       "      <td>1</td>\n",
       "      <td>415</td>\n",
       "      <td>0.0</td>\n",
       "      <td>0.000000</td>\n",
       "    </tr>\n",
       "    <tr>\n",
       "      <th>2</th>\n",
       "      <td>-60</td>\n",
       "      <td>2</td>\n",
       "      <td>415</td>\n",
       "      <td>0.0</td>\n",
       "      <td>0.000000</td>\n",
       "    </tr>\n",
       "    <tr>\n",
       "      <th>3</th>\n",
       "      <td>-60</td>\n",
       "      <td>3</td>\n",
       "      <td>415</td>\n",
       "      <td>0.0</td>\n",
       "      <td>0.000000</td>\n",
       "    </tr>\n",
       "    <tr>\n",
       "      <th>4</th>\n",
       "      <td>-60</td>\n",
       "      <td>4</td>\n",
       "      <td>415</td>\n",
       "      <td>0.0</td>\n",
       "      <td>0.000000</td>\n",
       "    </tr>\n",
       "    <tr>\n",
       "      <th>...</th>\n",
       "      <td>...</td>\n",
       "      <td>...</td>\n",
       "      <td>...</td>\n",
       "      <td>...</td>\n",
       "      <td>...</td>\n",
       "    </tr>\n",
       "    <tr>\n",
       "      <th>1886</th>\n",
       "      <td>-2</td>\n",
       "      <td>1</td>\n",
       "      <td>771</td>\n",
       "      <td>0.0</td>\n",
       "      <td>0.000000</td>\n",
       "    </tr>\n",
       "    <tr>\n",
       "      <th>1887</th>\n",
       "      <td>-2</td>\n",
       "      <td>2</td>\n",
       "      <td>771</td>\n",
       "      <td>1.0</td>\n",
       "      <td>0.001297</td>\n",
       "    </tr>\n",
       "    <tr>\n",
       "      <th>1888</th>\n",
       "      <td>-1</td>\n",
       "      <td>0</td>\n",
       "      <td>686</td>\n",
       "      <td>0.0</td>\n",
       "      <td>0.000000</td>\n",
       "    </tr>\n",
       "    <tr>\n",
       "      <th>1889</th>\n",
       "      <td>-1</td>\n",
       "      <td>1</td>\n",
       "      <td>686</td>\n",
       "      <td>0.0</td>\n",
       "      <td>0.000000</td>\n",
       "    </tr>\n",
       "    <tr>\n",
       "      <th>1890</th>\n",
       "      <td>0</td>\n",
       "      <td>0</td>\n",
       "      <td>370</td>\n",
       "      <td>0.0</td>\n",
       "      <td>0.000000</td>\n",
       "    </tr>\n",
       "  </tbody>\n",
       "</table>\n",
       "<p>1891 rows × 5 columns</p>\n",
       "</div>"
      ],
      "text/plain": [
       "      Abertura  MOB  Qtd_Clientes  Qtd_Mau  Taxa_de_Mau\n",
       "0          -60    0           415      0.0     0.000000\n",
       "1          -60    1           415      0.0     0.000000\n",
       "2          -60    2           415      0.0     0.000000\n",
       "3          -60    3           415      0.0     0.000000\n",
       "4          -60    4           415      0.0     0.000000\n",
       "...        ...  ...           ...      ...          ...\n",
       "1886        -2    1           771      0.0     0.000000\n",
       "1887        -2    2           771      1.0     0.001297\n",
       "1888        -1    0           686      0.0     0.000000\n",
       "1889        -1    1           686      0.0     0.000000\n",
       "1890         0    0           370      0.0     0.000000\n",
       "\n",
       "[1891 rows x 5 columns]"
      ]
     },
     "execution_count": 80,
     "metadata": {},
     "output_type": "execute_result"
    }
   ],
   "source": [
    "df_vintage['Qtd_Mau'] = np.nan\n",
    "\n",
    "for j in range(-60,1):\n",
    "    ls = []\n",
    "    for i in range(0,61):\n",
    "        due = list(df_clientes_aprovados.query('Mau == 1 and MOB == @i and Abertura == @j')['ID_Cliente'])\n",
    "        ls.extend(due)\n",
    "        df_vintage.loc[(df_vintage['MOB'] == i) & (df_vintage['Abertura'] == j), 'Qtd_Mau'] = len(set(ls))\n",
    "        \n",
    "df_vintage['Taxa_de_Mau']  = df_vintage['Qtd_Mau'] / df_vintage['Qtd_Clientes']\n",
    "df_vintage"
   ]
  },
  {
   "cell_type": "code",
   "execution_count": 81,
   "metadata": {},
   "outputs": [
    {
     "data": {
      "text/html": [
       "<div>\n",
       "<style scoped>\n",
       "    .dataframe tbody tr th:only-of-type {\n",
       "        vertical-align: middle;\n",
       "    }\n",
       "\n",
       "    .dataframe tbody tr th {\n",
       "        vertical-align: top;\n",
       "    }\n",
       "\n",
       "    .dataframe thead th {\n",
       "        text-align: right;\n",
       "    }\n",
       "</style>\n",
       "<table border=\"1\" class=\"dataframe\">\n",
       "  <thead>\n",
       "    <tr style=\"text-align: right;\">\n",
       "      <th>MOB</th>\n",
       "      <th>0</th>\n",
       "      <th>1</th>\n",
       "      <th>2</th>\n",
       "      <th>3</th>\n",
       "      <th>4</th>\n",
       "      <th>5</th>\n",
       "      <th>6</th>\n",
       "      <th>7</th>\n",
       "      <th>8</th>\n",
       "      <th>9</th>\n",
       "      <th>...</th>\n",
       "      <th>51</th>\n",
       "      <th>52</th>\n",
       "      <th>53</th>\n",
       "      <th>54</th>\n",
       "      <th>55</th>\n",
       "      <th>56</th>\n",
       "      <th>57</th>\n",
       "      <th>58</th>\n",
       "      <th>59</th>\n",
       "      <th>60</th>\n",
       "    </tr>\n",
       "    <tr>\n",
       "      <th>Abertura</th>\n",
       "      <th></th>\n",
       "      <th></th>\n",
       "      <th></th>\n",
       "      <th></th>\n",
       "      <th></th>\n",
       "      <th></th>\n",
       "      <th></th>\n",
       "      <th></th>\n",
       "      <th></th>\n",
       "      <th></th>\n",
       "      <th></th>\n",
       "      <th></th>\n",
       "      <th></th>\n",
       "      <th></th>\n",
       "      <th></th>\n",
       "      <th></th>\n",
       "      <th></th>\n",
       "      <th></th>\n",
       "      <th></th>\n",
       "      <th></th>\n",
       "      <th></th>\n",
       "    </tr>\n",
       "  </thead>\n",
       "  <tbody>\n",
       "    <tr>\n",
       "      <th>-60</th>\n",
       "      <td>0.0</td>\n",
       "      <td>0.0</td>\n",
       "      <td>0.000000</td>\n",
       "      <td>0.000000</td>\n",
       "      <td>0.000000</td>\n",
       "      <td>0.002410</td>\n",
       "      <td>0.002410</td>\n",
       "      <td>0.007229</td>\n",
       "      <td>0.007229</td>\n",
       "      <td>0.009639</td>\n",
       "      <td>...</td>\n",
       "      <td>0.028916</td>\n",
       "      <td>0.028916</td>\n",
       "      <td>0.028916</td>\n",
       "      <td>0.028916</td>\n",
       "      <td>0.028916</td>\n",
       "      <td>0.028916</td>\n",
       "      <td>0.028916</td>\n",
       "      <td>0.031325</td>\n",
       "      <td>0.031325</td>\n",
       "      <td>0.031325</td>\n",
       "    </tr>\n",
       "    <tr>\n",
       "      <th>-59</th>\n",
       "      <td>0.0</td>\n",
       "      <td>0.0</td>\n",
       "      <td>0.000000</td>\n",
       "      <td>0.004926</td>\n",
       "      <td>0.004926</td>\n",
       "      <td>0.004926</td>\n",
       "      <td>0.007389</td>\n",
       "      <td>0.007389</td>\n",
       "      <td>0.007389</td>\n",
       "      <td>0.012315</td>\n",
       "      <td>...</td>\n",
       "      <td>0.029557</td>\n",
       "      <td>0.029557</td>\n",
       "      <td>0.029557</td>\n",
       "      <td>0.032020</td>\n",
       "      <td>0.032020</td>\n",
       "      <td>0.032020</td>\n",
       "      <td>0.032020</td>\n",
       "      <td>0.032020</td>\n",
       "      <td>0.032020</td>\n",
       "      <td>NaN</td>\n",
       "    </tr>\n",
       "    <tr>\n",
       "      <th>-58</th>\n",
       "      <td>0.0</td>\n",
       "      <td>0.0</td>\n",
       "      <td>0.000000</td>\n",
       "      <td>0.000000</td>\n",
       "      <td>0.000000</td>\n",
       "      <td>0.000000</td>\n",
       "      <td>0.000000</td>\n",
       "      <td>0.004545</td>\n",
       "      <td>0.006818</td>\n",
       "      <td>0.006818</td>\n",
       "      <td>...</td>\n",
       "      <td>0.025000</td>\n",
       "      <td>0.025000</td>\n",
       "      <td>0.025000</td>\n",
       "      <td>0.025000</td>\n",
       "      <td>0.025000</td>\n",
       "      <td>0.025000</td>\n",
       "      <td>0.025000</td>\n",
       "      <td>0.025000</td>\n",
       "      <td>NaN</td>\n",
       "      <td>NaN</td>\n",
       "    </tr>\n",
       "    <tr>\n",
       "      <th>-57</th>\n",
       "      <td>0.0</td>\n",
       "      <td>0.0</td>\n",
       "      <td>0.000000</td>\n",
       "      <td>0.000000</td>\n",
       "      <td>0.002500</td>\n",
       "      <td>0.002500</td>\n",
       "      <td>0.002500</td>\n",
       "      <td>0.007500</td>\n",
       "      <td>0.007500</td>\n",
       "      <td>0.007500</td>\n",
       "      <td>...</td>\n",
       "      <td>0.025000</td>\n",
       "      <td>0.025000</td>\n",
       "      <td>0.025000</td>\n",
       "      <td>0.025000</td>\n",
       "      <td>0.025000</td>\n",
       "      <td>0.025000</td>\n",
       "      <td>0.025000</td>\n",
       "      <td>NaN</td>\n",
       "      <td>NaN</td>\n",
       "      <td>NaN</td>\n",
       "    </tr>\n",
       "    <tr>\n",
       "      <th>-56</th>\n",
       "      <td>0.0</td>\n",
       "      <td>0.0</td>\n",
       "      <td>0.004255</td>\n",
       "      <td>0.004255</td>\n",
       "      <td>0.008511</td>\n",
       "      <td>0.010638</td>\n",
       "      <td>0.010638</td>\n",
       "      <td>0.017021</td>\n",
       "      <td>0.017021</td>\n",
       "      <td>0.021277</td>\n",
       "      <td>...</td>\n",
       "      <td>0.036170</td>\n",
       "      <td>0.036170</td>\n",
       "      <td>0.036170</td>\n",
       "      <td>0.036170</td>\n",
       "      <td>0.038298</td>\n",
       "      <td>0.038298</td>\n",
       "      <td>NaN</td>\n",
       "      <td>NaN</td>\n",
       "      <td>NaN</td>\n",
       "      <td>NaN</td>\n",
       "    </tr>\n",
       "    <tr>\n",
       "      <th>...</th>\n",
       "      <td>...</td>\n",
       "      <td>...</td>\n",
       "      <td>...</td>\n",
       "      <td>...</td>\n",
       "      <td>...</td>\n",
       "      <td>...</td>\n",
       "      <td>...</td>\n",
       "      <td>...</td>\n",
       "      <td>...</td>\n",
       "      <td>...</td>\n",
       "      <td>...</td>\n",
       "      <td>...</td>\n",
       "      <td>...</td>\n",
       "      <td>...</td>\n",
       "      <td>...</td>\n",
       "      <td>...</td>\n",
       "      <td>...</td>\n",
       "      <td>...</td>\n",
       "      <td>...</td>\n",
       "      <td>...</td>\n",
       "      <td>...</td>\n",
       "    </tr>\n",
       "    <tr>\n",
       "      <th>-4</th>\n",
       "      <td>0.0</td>\n",
       "      <td>0.0</td>\n",
       "      <td>0.000000</td>\n",
       "      <td>0.003432</td>\n",
       "      <td>0.003432</td>\n",
       "      <td>NaN</td>\n",
       "      <td>NaN</td>\n",
       "      <td>NaN</td>\n",
       "      <td>NaN</td>\n",
       "      <td>NaN</td>\n",
       "      <td>...</td>\n",
       "      <td>NaN</td>\n",
       "      <td>NaN</td>\n",
       "      <td>NaN</td>\n",
       "      <td>NaN</td>\n",
       "      <td>NaN</td>\n",
       "      <td>NaN</td>\n",
       "      <td>NaN</td>\n",
       "      <td>NaN</td>\n",
       "      <td>NaN</td>\n",
       "      <td>NaN</td>\n",
       "    </tr>\n",
       "    <tr>\n",
       "      <th>-3</th>\n",
       "      <td>0.0</td>\n",
       "      <td>0.0</td>\n",
       "      <td>0.001088</td>\n",
       "      <td>0.001088</td>\n",
       "      <td>NaN</td>\n",
       "      <td>NaN</td>\n",
       "      <td>NaN</td>\n",
       "      <td>NaN</td>\n",
       "      <td>NaN</td>\n",
       "      <td>NaN</td>\n",
       "      <td>...</td>\n",
       "      <td>NaN</td>\n",
       "      <td>NaN</td>\n",
       "      <td>NaN</td>\n",
       "      <td>NaN</td>\n",
       "      <td>NaN</td>\n",
       "      <td>NaN</td>\n",
       "      <td>NaN</td>\n",
       "      <td>NaN</td>\n",
       "      <td>NaN</td>\n",
       "      <td>NaN</td>\n",
       "    </tr>\n",
       "    <tr>\n",
       "      <th>-2</th>\n",
       "      <td>0.0</td>\n",
       "      <td>0.0</td>\n",
       "      <td>0.001297</td>\n",
       "      <td>NaN</td>\n",
       "      <td>NaN</td>\n",
       "      <td>NaN</td>\n",
       "      <td>NaN</td>\n",
       "      <td>NaN</td>\n",
       "      <td>NaN</td>\n",
       "      <td>NaN</td>\n",
       "      <td>...</td>\n",
       "      <td>NaN</td>\n",
       "      <td>NaN</td>\n",
       "      <td>NaN</td>\n",
       "      <td>NaN</td>\n",
       "      <td>NaN</td>\n",
       "      <td>NaN</td>\n",
       "      <td>NaN</td>\n",
       "      <td>NaN</td>\n",
       "      <td>NaN</td>\n",
       "      <td>NaN</td>\n",
       "    </tr>\n",
       "    <tr>\n",
       "      <th>-1</th>\n",
       "      <td>0.0</td>\n",
       "      <td>0.0</td>\n",
       "      <td>NaN</td>\n",
       "      <td>NaN</td>\n",
       "      <td>NaN</td>\n",
       "      <td>NaN</td>\n",
       "      <td>NaN</td>\n",
       "      <td>NaN</td>\n",
       "      <td>NaN</td>\n",
       "      <td>NaN</td>\n",
       "      <td>...</td>\n",
       "      <td>NaN</td>\n",
       "      <td>NaN</td>\n",
       "      <td>NaN</td>\n",
       "      <td>NaN</td>\n",
       "      <td>NaN</td>\n",
       "      <td>NaN</td>\n",
       "      <td>NaN</td>\n",
       "      <td>NaN</td>\n",
       "      <td>NaN</td>\n",
       "      <td>NaN</td>\n",
       "    </tr>\n",
       "    <tr>\n",
       "      <th>0</th>\n",
       "      <td>0.0</td>\n",
       "      <td>NaN</td>\n",
       "      <td>NaN</td>\n",
       "      <td>NaN</td>\n",
       "      <td>NaN</td>\n",
       "      <td>NaN</td>\n",
       "      <td>NaN</td>\n",
       "      <td>NaN</td>\n",
       "      <td>NaN</td>\n",
       "      <td>NaN</td>\n",
       "      <td>...</td>\n",
       "      <td>NaN</td>\n",
       "      <td>NaN</td>\n",
       "      <td>NaN</td>\n",
       "      <td>NaN</td>\n",
       "      <td>NaN</td>\n",
       "      <td>NaN</td>\n",
       "      <td>NaN</td>\n",
       "      <td>NaN</td>\n",
       "      <td>NaN</td>\n",
       "      <td>NaN</td>\n",
       "    </tr>\n",
       "  </tbody>\n",
       "</table>\n",
       "<p>61 rows × 61 columns</p>\n",
       "</div>"
      ],
      "text/plain": [
       "MOB        0    1         2         3         4         5         6   \\\n",
       "Abertura                                                               \n",
       "-60       0.0  0.0  0.000000  0.000000  0.000000  0.002410  0.002410   \n",
       "-59       0.0  0.0  0.000000  0.004926  0.004926  0.004926  0.007389   \n",
       "-58       0.0  0.0  0.000000  0.000000  0.000000  0.000000  0.000000   \n",
       "-57       0.0  0.0  0.000000  0.000000  0.002500  0.002500  0.002500   \n",
       "-56       0.0  0.0  0.004255  0.004255  0.008511  0.010638  0.010638   \n",
       "...       ...  ...       ...       ...       ...       ...       ...   \n",
       "-4        0.0  0.0  0.000000  0.003432  0.003432       NaN       NaN   \n",
       "-3        0.0  0.0  0.001088  0.001088       NaN       NaN       NaN   \n",
       "-2        0.0  0.0  0.001297       NaN       NaN       NaN       NaN   \n",
       "-1        0.0  0.0       NaN       NaN       NaN       NaN       NaN   \n",
       " 0        0.0  NaN       NaN       NaN       NaN       NaN       NaN   \n",
       "\n",
       "MOB             7         8         9   ...        51        52        53  \\\n",
       "Abertura                                ...                                 \n",
       "-60       0.007229  0.007229  0.009639  ...  0.028916  0.028916  0.028916   \n",
       "-59       0.007389  0.007389  0.012315  ...  0.029557  0.029557  0.029557   \n",
       "-58       0.004545  0.006818  0.006818  ...  0.025000  0.025000  0.025000   \n",
       "-57       0.007500  0.007500  0.007500  ...  0.025000  0.025000  0.025000   \n",
       "-56       0.017021  0.017021  0.021277  ...  0.036170  0.036170  0.036170   \n",
       "...            ...       ...       ...  ...       ...       ...       ...   \n",
       "-4             NaN       NaN       NaN  ...       NaN       NaN       NaN   \n",
       "-3             NaN       NaN       NaN  ...       NaN       NaN       NaN   \n",
       "-2             NaN       NaN       NaN  ...       NaN       NaN       NaN   \n",
       "-1             NaN       NaN       NaN  ...       NaN       NaN       NaN   \n",
       " 0             NaN       NaN       NaN  ...       NaN       NaN       NaN   \n",
       "\n",
       "MOB             54        55        56        57        58        59        60  \n",
       "Abertura                                                                        \n",
       "-60       0.028916  0.028916  0.028916  0.028916  0.031325  0.031325  0.031325  \n",
       "-59       0.032020  0.032020  0.032020  0.032020  0.032020  0.032020       NaN  \n",
       "-58       0.025000  0.025000  0.025000  0.025000  0.025000       NaN       NaN  \n",
       "-57       0.025000  0.025000  0.025000  0.025000       NaN       NaN       NaN  \n",
       "-56       0.036170  0.038298  0.038298       NaN       NaN       NaN       NaN  \n",
       "...            ...       ...       ...       ...       ...       ...       ...  \n",
       "-4             NaN       NaN       NaN       NaN       NaN       NaN       NaN  \n",
       "-3             NaN       NaN       NaN       NaN       NaN       NaN       NaN  \n",
       "-2             NaN       NaN       NaN       NaN       NaN       NaN       NaN  \n",
       "-1             NaN       NaN       NaN       NaN       NaN       NaN       NaN  \n",
       " 0             NaN       NaN       NaN       NaN       NaN       NaN       NaN  \n",
       "\n",
       "[61 rows x 61 columns]"
      ]
     },
     "execution_count": 81,
     "metadata": {},
     "output_type": "execute_result"
    }
   ],
   "source": [
    "df_vintage_pivot = df_vintage.pivot(index = 'Abertura',\n",
    "                             columns = 'MOB',\n",
    "                             values = 'Taxa_de_Mau')\n",
    "\n",
    "df_vintage_pivot"
   ]
  },
  {
   "cell_type": "code",
   "execution_count": 82,
   "metadata": {},
   "outputs": [
    {
     "data": {
      "text/plain": [
       "<matplotlib.legend.Legend at 0x2393dcc6900>"
      ]
     },
     "execution_count": 82,
     "metadata": {},
     "output_type": "execute_result"
    },
    {
     "data": {
      "image/png": "[encoded data removed]",
      "text/plain": [
       "<Figure size 1000x600 with 1 Axes>"
      ]
     },
     "metadata": {},
     "output_type": "display_data"
    }
   ],
   "source": [
    "lst = [i for i in range(0,61)]\n",
    "df_vintage_pivot[lst].T.iloc[:, :10].plot(legend = True, grid = True,\n",
    "                                           title = '% Acumulada de Maus Clientes(Atraso > 60 dias)')\n",
    "plt.xlabel('Month on book')\n",
    "plt.ylabel('% acumulada de maus clientes')\n",
    "plt.legend(bbox_to_anchor = (1.2, 1), title='Abertura')"
   ]
  },
  {
   "cell_type": "code",
   "execution_count": 83,
   "metadata": {},
   "outputs": [
    {
     "data": {
      "image/png": "[encoded data removed]",
      "text/plain": [
       "<Figure size 1000x600 with 1 Axes>"
      ]
     },
     "metadata": {},
     "output_type": "display_data"
    }
   ],
   "source": [
    "sns.histplot(data=df_registros_creditos_ID, x='Janela', cumulative=True, stat='density', kde=True)\n",
    "plt.title('Distribuição de clientes por janela')\n",
    "plt.xlabel('Janela')\n",
    "plt.ylabel('Percentual de clientes')\n",
    "plt.show()"
   ]
  },
  {
   "cell_type": "markdown",
   "metadata": {},
   "source": [
    "## 5 - Definindo a Variável Target"
   ]
  },
  {
   "cell_type": "code",
   "execution_count": 84,
   "metadata": {},
   "outputs": [],
   "source": [
    "dict_intervalo_atraso = {'maior_30_dias':3, 'maior_60_dias':4, 'maior_90_dias':5,\n",
    "                         'maior_120_dias':6, 'maior_150_dias':7}"
   ]
  },
  {
   "cell_type": "code",
   "execution_count": 85,
   "metadata": {},
   "outputs": [
    {
     "data": {
      "text/html": [
       "<div>\n",
       "<style scoped>\n",
       "    .dataframe tbody tr th:only-of-type {\n",
       "        vertical-align: middle;\n",
       "    }\n",
       "\n",
       "    .dataframe tbody tr th {\n",
       "        vertical-align: top;\n",
       "    }\n",
       "\n",
       "    .dataframe thead th {\n",
       "        text-align: right;\n",
       "    }\n",
       "</style>\n",
       "<table border=\"1\" class=\"dataframe\">\n",
       "  <thead>\n",
       "    <tr style=\"text-align: right;\">\n",
       "      <th></th>\n",
       "      <th>ID_Cliente</th>\n",
       "      <th>Mes_referencia</th>\n",
       "      <th>Faixa_atraso</th>\n",
       "      <th>Abertura</th>\n",
       "      <th>Final</th>\n",
       "      <th>Janela</th>\n",
       "      <th>MOB</th>\n",
       "      <th>Ind_faixa_atraso</th>\n",
       "      <th>Mau</th>\n",
       "      <th>Mau_maior_30_dias</th>\n",
       "      <th>Mau_maior_60_dias</th>\n",
       "      <th>Mau_maior_90_dias</th>\n",
       "      <th>Mau_maior_120_dias</th>\n",
       "      <th>Mau_maior_150_dias</th>\n",
       "    </tr>\n",
       "  </thead>\n",
       "  <tbody>\n",
       "    <tr>\n",
       "      <th>0</th>\n",
       "      <td>5001711</td>\n",
       "      <td>0</td>\n",
       "      <td>nenhum empréstimo</td>\n",
       "      <td>-3</td>\n",
       "      <td>0</td>\n",
       "      <td>3</td>\n",
       "      <td>3</td>\n",
       "      <td>0</td>\n",
       "      <td>0</td>\n",
       "      <td>0</td>\n",
       "      <td>0</td>\n",
       "      <td>0</td>\n",
       "      <td>0</td>\n",
       "      <td>0</td>\n",
       "    </tr>\n",
       "    <tr>\n",
       "      <th>1</th>\n",
       "      <td>5001711</td>\n",
       "      <td>-1</td>\n",
       "      <td>1-29 dias</td>\n",
       "      <td>-3</td>\n",
       "      <td>0</td>\n",
       "      <td>3</td>\n",
       "      <td>2</td>\n",
       "      <td>2</td>\n",
       "      <td>0</td>\n",
       "      <td>0</td>\n",
       "      <td>0</td>\n",
       "      <td>0</td>\n",
       "      <td>0</td>\n",
       "      <td>0</td>\n",
       "    </tr>\n",
       "    <tr>\n",
       "      <th>2</th>\n",
       "      <td>5001711</td>\n",
       "      <td>-2</td>\n",
       "      <td>1-29 dias</td>\n",
       "      <td>-3</td>\n",
       "      <td>0</td>\n",
       "      <td>3</td>\n",
       "      <td>1</td>\n",
       "      <td>2</td>\n",
       "      <td>0</td>\n",
       "      <td>0</td>\n",
       "      <td>0</td>\n",
       "      <td>0</td>\n",
       "      <td>0</td>\n",
       "      <td>0</td>\n",
       "    </tr>\n",
       "    <tr>\n",
       "      <th>3</th>\n",
       "      <td>5001711</td>\n",
       "      <td>-3</td>\n",
       "      <td>1-29 dias</td>\n",
       "      <td>-3</td>\n",
       "      <td>0</td>\n",
       "      <td>3</td>\n",
       "      <td>0</td>\n",
       "      <td>2</td>\n",
       "      <td>0</td>\n",
       "      <td>0</td>\n",
       "      <td>0</td>\n",
       "      <td>0</td>\n",
       "      <td>0</td>\n",
       "      <td>0</td>\n",
       "    </tr>\n",
       "    <tr>\n",
       "      <th>4</th>\n",
       "      <td>5001712</td>\n",
       "      <td>0</td>\n",
       "      <td>pagamento realizado</td>\n",
       "      <td>-18</td>\n",
       "      <td>0</td>\n",
       "      <td>18</td>\n",
       "      <td>18</td>\n",
       "      <td>1</td>\n",
       "      <td>0</td>\n",
       "      <td>0</td>\n",
       "      <td>0</td>\n",
       "      <td>0</td>\n",
       "      <td>0</td>\n",
       "      <td>0</td>\n",
       "    </tr>\n",
       "  </tbody>\n",
       "</table>\n",
       "</div>"
      ],
      "text/plain": [
       "   ID_Cliente  Mes_referencia         Faixa_atraso  Abertura  Final  Janela  \\\n",
       "0     5001711               0    nenhum empréstimo        -3      0       3   \n",
       "1     5001711              -1            1-29 dias        -3      0       3   \n",
       "2     5001711              -2            1-29 dias        -3      0       3   \n",
       "3     5001711              -3            1-29 dias        -3      0       3   \n",
       "4     5001712               0  pagamento realizado       -18      0      18   \n",
       "\n",
       "   MOB  Ind_faixa_atraso  Mau  Mau_maior_30_dias  Mau_maior_60_dias  \\\n",
       "0    3                 0    0                  0                  0   \n",
       "1    2                 2    0                  0                  0   \n",
       "2    1                 2    0                  0                  0   \n",
       "3    0                 2    0                  0                  0   \n",
       "4   18                 1    0                  0                  0   \n",
       "\n",
       "   Mau_maior_90_dias  Mau_maior_120_dias  Mau_maior_150_dias  \n",
       "0                  0                   0                   0  \n",
       "1                  0                   0                   0  \n",
       "2                  0                   0                   0  \n",
       "3                  0                   0                   0  \n",
       "4                  0                   0                   0  "
      ]
     },
     "execution_count": 85,
     "metadata": {},
     "output_type": "execute_result"
    }
   ],
   "source": [
    "#Possibilidade de faixas de atraso\n",
    "for chave, valor in dict_intervalo_atraso.items():\n",
    "    df_clientes_aprovados[f'Mau_{chave}'] = df_clientes_aprovados.apply(lambda x:1 if x['Ind_faixa_atraso'] >= valor else 0,\n",
    "    axis = 1)\n",
    "df_clientes_aprovados.head()"
   ]
  },
  {
   "cell_type": "code",
   "execution_count": 86,
   "metadata": {},
   "outputs": [
    {
     "data": {
      "text/html": [
       "<div>\n",
       "<style scoped>\n",
       "    .dataframe tbody tr th:only-of-type {\n",
       "        vertical-align: middle;\n",
       "    }\n",
       "\n",
       "    .dataframe tbody tr th {\n",
       "        vertical-align: top;\n",
       "    }\n",
       "\n",
       "    .dataframe thead th {\n",
       "        text-align: right;\n",
       "    }\n",
       "</style>\n",
       "<table border=\"1\" class=\"dataframe\">\n",
       "  <thead>\n",
       "    <tr style=\"text-align: right;\">\n",
       "      <th></th>\n",
       "      <th>maior_30_dias</th>\n",
       "      <th>maior_60_dias</th>\n",
       "      <th>maior_90_dias</th>\n",
       "      <th>maior_120_dias</th>\n",
       "      <th>maior_150_dias</th>\n",
       "    </tr>\n",
       "  </thead>\n",
       "  <tbody>\n",
       "    <tr>\n",
       "      <th>0</th>\n",
       "      <td>0.000304</td>\n",
       "      <td>0.000022</td>\n",
       "      <td>0.000022</td>\n",
       "      <td>0.000022</td>\n",
       "      <td>0.000022</td>\n",
       "    </tr>\n",
       "    <tr>\n",
       "      <th>1</th>\n",
       "      <td>0.011612</td>\n",
       "      <td>0.000174</td>\n",
       "      <td>0.000087</td>\n",
       "      <td>0.000087</td>\n",
       "      <td>0.000087</td>\n",
       "    </tr>\n",
       "    <tr>\n",
       "      <th>2</th>\n",
       "      <td>0.025878</td>\n",
       "      <td>0.001153</td>\n",
       "      <td>0.000196</td>\n",
       "      <td>0.000174</td>\n",
       "      <td>0.000174</td>\n",
       "    </tr>\n",
       "    <tr>\n",
       "      <th>3</th>\n",
       "      <td>0.036860</td>\n",
       "      <td>0.002240</td>\n",
       "      <td>0.000696</td>\n",
       "      <td>0.000304</td>\n",
       "      <td>0.000304</td>\n",
       "    </tr>\n",
       "    <tr>\n",
       "      <th>4</th>\n",
       "      <td>0.047385</td>\n",
       "      <td>0.003392</td>\n",
       "      <td>0.001044</td>\n",
       "      <td>0.000696</td>\n",
       "      <td>0.000348</td>\n",
       "    </tr>\n",
       "    <tr>\n",
       "      <th>...</th>\n",
       "      <td>...</td>\n",
       "      <td>...</td>\n",
       "      <td>...</td>\n",
       "      <td>...</td>\n",
       "      <td>...</td>\n",
       "    </tr>\n",
       "    <tr>\n",
       "      <th>56</th>\n",
       "      <td>0.116321</td>\n",
       "      <td>0.014483</td>\n",
       "      <td>0.007176</td>\n",
       "      <td>0.005263</td>\n",
       "      <td>0.004219</td>\n",
       "    </tr>\n",
       "    <tr>\n",
       "      <th>57</th>\n",
       "      <td>0.116321</td>\n",
       "      <td>0.014483</td>\n",
       "      <td>0.007176</td>\n",
       "      <td>0.005263</td>\n",
       "      <td>0.004219</td>\n",
       "    </tr>\n",
       "    <tr>\n",
       "      <th>58</th>\n",
       "      <td>0.116321</td>\n",
       "      <td>0.014505</td>\n",
       "      <td>0.007198</td>\n",
       "      <td>0.005284</td>\n",
       "      <td>0.004241</td>\n",
       "    </tr>\n",
       "    <tr>\n",
       "      <th>59</th>\n",
       "      <td>0.116321</td>\n",
       "      <td>0.014505</td>\n",
       "      <td>0.007198</td>\n",
       "      <td>0.005284</td>\n",
       "      <td>0.004241</td>\n",
       "    </tr>\n",
       "    <tr>\n",
       "      <th>60</th>\n",
       "      <td>0.116342</td>\n",
       "      <td>0.014505</td>\n",
       "      <td>0.007198</td>\n",
       "      <td>0.005284</td>\n",
       "      <td>0.004241</td>\n",
       "    </tr>\n",
       "  </tbody>\n",
       "</table>\n",
       "<p>61 rows × 5 columns</p>\n",
       "</div>"
      ],
      "text/plain": [
       "    maior_30_dias  maior_60_dias  maior_90_dias  maior_120_dias  \\\n",
       "0        0.000304       0.000022       0.000022        0.000022   \n",
       "1        0.011612       0.000174       0.000087        0.000087   \n",
       "2        0.025878       0.001153       0.000196        0.000174   \n",
       "3        0.036860       0.002240       0.000696        0.000304   \n",
       "4        0.047385       0.003392       0.001044        0.000696   \n",
       "..            ...            ...            ...             ...   \n",
       "56       0.116321       0.014483       0.007176        0.005263   \n",
       "57       0.116321       0.014483       0.007176        0.005263   \n",
       "58       0.116321       0.014505       0.007198        0.005284   \n",
       "59       0.116321       0.014505       0.007198        0.005284   \n",
       "60       0.116342       0.014505       0.007198        0.005284   \n",
       "\n",
       "    maior_150_dias  \n",
       "0         0.000022  \n",
       "1         0.000087  \n",
       "2         0.000174  \n",
       "3         0.000304  \n",
       "4         0.000348  \n",
       "..             ...  \n",
       "56        0.004219  \n",
       "57        0.004219  \n",
       "58        0.004241  \n",
       "59        0.004241  \n",
       "60        0.004241  \n",
       "\n",
       "[61 rows x 5 columns]"
      ]
     },
     "execution_count": 86,
     "metadata": {},
     "output_type": "execute_result"
    }
   ],
   "source": [
    "dict_taxa_mau = {}\n",
    "id_sum = len(set(df_clientes_aprovados['ID_Cliente']))\n",
    "\n",
    "for chave in dict_intervalo_atraso.keys():\n",
    "    df_min_mau = df_clientes_aprovados.query(f'Mau_{chave} == 1').groupby('ID_Cliente')['MOB'].min().reset_index()\n",
    "    df_mob_taxa_mau = pd.DataFrame({'MOB': range(0,61), 'Taxa_Mau': np.nan})\n",
    "    lst= []\n",
    "    for i in range(0,61):\n",
    "        due = df_min_mau.query('MOB == @i')['ID_Cliente'].to_list()\n",
    "        lst.extend(due) #cumsum\n",
    "        df_mob_taxa_mau.loc[df_mob_taxa_mau['MOB'] == i, 'Taxa_Mau'] = len(set(lst))/ id_sum\n",
    "    dict_taxa_mau[chave] = df_mob_taxa_mau['Taxa_Mau']\n",
    "\n",
    "df_taxa_mau = pd.DataFrame(dict_taxa_mau)\n",
    "df_taxa_mau"
   ]
  },
  {
   "cell_type": "code",
   "execution_count": 87,
   "metadata": {},
   "outputs": [
    {
     "data": {
      "image/png": "[encoded data removed]",
      "text/plain": [
       "<Figure size 1000x600 with 1 Axes>"
      ]
     },
     "metadata": {},
     "output_type": "display_data"
    }
   ],
   "source": [
    "df_taxa_mau.plot(grid = True, title = '% acumulada de clientes maus pagadores para diversas faixas de atraso', figsize=(10,6))\n",
    "plt.xlabel('MOB')\n",
    "plt.ylabel('% acumulada de clientes')\n",
    "plt.show()"
   ]
  },
  {
   "cell_type": "code",
   "execution_count": 88,
   "metadata": {},
   "outputs": [
    {
     "data": {
      "text/plain": [
       "(943061, 14)"
      ]
     },
     "execution_count": 88,
     "metadata": {},
     "output_type": "execute_result"
    }
   ],
   "source": [
    "df_clientes_aprovados_tratamento1 = df_clientes_aprovados.query('Janela >= 12').copy()\n",
    "df_clientes_aprovados_tratamento1.shape"
   ]
  },
  {
   "cell_type": "code",
   "execution_count": 89,
   "metadata": {},
   "outputs": [
    {
     "data": {
      "text/plain": [
       "30918"
      ]
     },
     "execution_count": 89,
     "metadata": {},
     "output_type": "execute_result"
    }
   ],
   "source": [
    "len(df_clientes_aprovados.query('Janela >= 12').groupby('ID_Cliente').count().index)"
   ]
  },
  {
   "cell_type": "code",
   "execution_count": 90,
   "metadata": {},
   "outputs": [
    {
     "name": "stderr",
     "output_type": "stream",
     "text": [
      "C:\\Users\\flade\\AppData\\Local\\Temp\\ipykernel_11016\\3141729643.py:8: DeprecationWarning: DataFrameGroupBy.apply operated on the grouping columns. This behavior is deprecated, and in a future version of pandas the grouping columns will be excluded from the operation. Either pass `include_groups=False` to exclude the groupings or explicitly select the grouping columns after groupby to silence this warning.\n",
      "  df_registros_creditos_id = pd.DataFrame(df_clientes_aprovados_tratamento1.groupby('ID_Cliente').apply(classifica_mau_pagador)).reset_index()\n"
     ]
    },
    {
     "data": {
      "text/html": [
       "<div>\n",
       "<style scoped>\n",
       "    .dataframe tbody tr th:only-of-type {\n",
       "        vertical-align: middle;\n",
       "    }\n",
       "\n",
       "    .dataframe tbody tr th {\n",
       "        vertical-align: top;\n",
       "    }\n",
       "\n",
       "    .dataframe thead th {\n",
       "        text-align: right;\n",
       "    }\n",
       "</style>\n",
       "<table border=\"1\" class=\"dataframe\">\n",
       "  <thead>\n",
       "    <tr style=\"text-align: right;\">\n",
       "      <th></th>\n",
       "      <th>ID_Cliente</th>\n",
       "      <th>Mau</th>\n",
       "    </tr>\n",
       "  </thead>\n",
       "  <tbody>\n",
       "    <tr>\n",
       "      <th>0</th>\n",
       "      <td>5001712</td>\n",
       "      <td>0</td>\n",
       "    </tr>\n",
       "    <tr>\n",
       "      <th>1</th>\n",
       "      <td>5001713</td>\n",
       "      <td>0</td>\n",
       "    </tr>\n",
       "    <tr>\n",
       "      <th>2</th>\n",
       "      <td>5001714</td>\n",
       "      <td>0</td>\n",
       "    </tr>\n",
       "    <tr>\n",
       "      <th>3</th>\n",
       "      <td>5001715</td>\n",
       "      <td>0</td>\n",
       "    </tr>\n",
       "    <tr>\n",
       "      <th>4</th>\n",
       "      <td>5001717</td>\n",
       "      <td>0</td>\n",
       "    </tr>\n",
       "  </tbody>\n",
       "</table>\n",
       "</div>"
      ],
      "text/plain": [
       "   ID_Cliente  Mau\n",
       "0     5001712    0\n",
       "1     5001713    0\n",
       "2     5001714    0\n",
       "3     5001715    0\n",
       "4     5001717    0"
      ]
     },
     "execution_count": 90,
     "metadata": {},
     "output_type": "execute_result"
    }
   ],
   "source": [
    "def classifica_mau_pagador(registros):\n",
    "  lista_status = registros['Faixa_atraso'].to_list()\n",
    "  if '60-89 dias' in lista_status or '90-119 dias' in lista_status or '120-149 dias' in lista_status or '>150 dias' in lista_status:\n",
    "    return 1\n",
    "  else:\n",
    "    return 0\n",
    "  \n",
    "df_registros_creditos_id = pd.DataFrame(df_clientes_aprovados_tratamento1.groupby('ID_Cliente').apply(classifica_mau_pagador)).reset_index()\n",
    "df_registros_creditos_id.columns = ['ID_Cliente', 'Mau']\n",
    "df_registros_creditos_id.head()\n"
   ]
  },
  {
   "cell_type": "code",
   "execution_count": 91,
   "metadata": {},
   "outputs": [
    {
     "data": {
      "text/html": [
       "<div>\n",
       "<style scoped>\n",
       "    .dataframe tbody tr th:only-of-type {\n",
       "        vertical-align: middle;\n",
       "    }\n",
       "\n",
       "    .dataframe tbody tr th {\n",
       "        vertical-align: top;\n",
       "    }\n",
       "\n",
       "    .dataframe thead th {\n",
       "        text-align: right;\n",
       "    }\n",
       "</style>\n",
       "<table border=\"1\" class=\"dataframe\">\n",
       "  <thead>\n",
       "    <tr style=\"text-align: right;\">\n",
       "      <th></th>\n",
       "      <th>ID_Cliente</th>\n",
       "      <th>Tem_carro</th>\n",
       "      <th>Tem_casa_propria</th>\n",
       "      <th>Tem_telefone_trabalho</th>\n",
       "      <th>Tem_telefone_fixo</th>\n",
       "      <th>Tem_email</th>\n",
       "      <th>Tamanho_familia</th>\n",
       "      <th>Rendimento_anual</th>\n",
       "      <th>Idade</th>\n",
       "      <th>Anos_empregado</th>\n",
       "      <th>Categoria_de_renda</th>\n",
       "      <th>Grau_escolaridade</th>\n",
       "      <th>Estado_civil</th>\n",
       "      <th>Moradia</th>\n",
       "      <th>Ocupacao</th>\n",
       "      <th>Mau</th>\n",
       "    </tr>\n",
       "  </thead>\n",
       "  <tbody>\n",
       "    <tr>\n",
       "      <th>0</th>\n",
       "      <td>5008806</td>\n",
       "      <td>1</td>\n",
       "      <td>1</td>\n",
       "      <td>0</td>\n",
       "      <td>0</td>\n",
       "      <td>0</td>\n",
       "      <td>2.0</td>\n",
       "      <td>112500.0</td>\n",
       "      <td>58.793815</td>\n",
       "      <td>3.104787</td>\n",
       "      <td>Empregado</td>\n",
       "      <td>Ensino médio</td>\n",
       "      <td>Casado</td>\n",
       "      <td>Casa/apartamento próprio</td>\n",
       "      <td>Segurança</td>\n",
       "      <td>0</td>\n",
       "    </tr>\n",
       "    <tr>\n",
       "      <th>1</th>\n",
       "      <td>5008810</td>\n",
       "      <td>0</td>\n",
       "      <td>1</td>\n",
       "      <td>0</td>\n",
       "      <td>1</td>\n",
       "      <td>1</td>\n",
       "      <td>1.0</td>\n",
       "      <td>270000.0</td>\n",
       "      <td>52.321403</td>\n",
       "      <td>8.353354</td>\n",
       "      <td>Associado comercial</td>\n",
       "      <td>Ensino médio</td>\n",
       "      <td>Solteiro</td>\n",
       "      <td>Casa/apartamento próprio</td>\n",
       "      <td>Vendas</td>\n",
       "      <td>0</td>\n",
       "    </tr>\n",
       "    <tr>\n",
       "      <th>2</th>\n",
       "      <td>5008811</td>\n",
       "      <td>0</td>\n",
       "      <td>1</td>\n",
       "      <td>0</td>\n",
       "      <td>1</td>\n",
       "      <td>1</td>\n",
       "      <td>1.0</td>\n",
       "      <td>270000.0</td>\n",
       "      <td>52.321403</td>\n",
       "      <td>8.353354</td>\n",
       "      <td>Associado comercial</td>\n",
       "      <td>Ensino médio</td>\n",
       "      <td>Solteiro</td>\n",
       "      <td>Casa/apartamento próprio</td>\n",
       "      <td>Vendas</td>\n",
       "      <td>0</td>\n",
       "    </tr>\n",
       "    <tr>\n",
       "      <th>3</th>\n",
       "      <td>5008812</td>\n",
       "      <td>0</td>\n",
       "      <td>1</td>\n",
       "      <td>0</td>\n",
       "      <td>0</td>\n",
       "      <td>0</td>\n",
       "      <td>1.0</td>\n",
       "      <td>283500.0</td>\n",
       "      <td>61.504343</td>\n",
       "      <td>0.000000</td>\n",
       "      <td>Pensionista</td>\n",
       "      <td>Ensino superior</td>\n",
       "      <td>Divorciado</td>\n",
       "      <td>Casa/apartamento próprio</td>\n",
       "      <td>Outro</td>\n",
       "      <td>0</td>\n",
       "    </tr>\n",
       "    <tr>\n",
       "      <th>4</th>\n",
       "      <td>5008813</td>\n",
       "      <td>0</td>\n",
       "      <td>1</td>\n",
       "      <td>0</td>\n",
       "      <td>0</td>\n",
       "      <td>0</td>\n",
       "      <td>1.0</td>\n",
       "      <td>283500.0</td>\n",
       "      <td>61.504343</td>\n",
       "      <td>0.000000</td>\n",
       "      <td>Pensionista</td>\n",
       "      <td>Ensino superior</td>\n",
       "      <td>Divorciado</td>\n",
       "      <td>Casa/apartamento próprio</td>\n",
       "      <td>Outro</td>\n",
       "      <td>0</td>\n",
       "    </tr>\n",
       "  </tbody>\n",
       "</table>\n",
       "</div>"
      ],
      "text/plain": [
       "   ID_Cliente  Tem_carro  Tem_casa_propria  Tem_telefone_trabalho  \\\n",
       "0     5008806          1                 1                      0   \n",
       "1     5008810          0                 1                      0   \n",
       "2     5008811          0                 1                      0   \n",
       "3     5008812          0                 1                      0   \n",
       "4     5008813          0                 1                      0   \n",
       "\n",
       "   Tem_telefone_fixo  Tem_email  Tamanho_familia  Rendimento_anual      Idade  \\\n",
       "0                  0          0              2.0          112500.0  58.793815   \n",
       "1                  1          1              1.0          270000.0  52.321403   \n",
       "2                  1          1              1.0          270000.0  52.321403   \n",
       "3                  0          0              1.0          283500.0  61.504343   \n",
       "4                  0          0              1.0          283500.0  61.504343   \n",
       "\n",
       "   Anos_empregado   Categoria_de_renda Grau_escolaridade Estado_civil  \\\n",
       "0        3.104787            Empregado      Ensino médio       Casado   \n",
       "1        8.353354  Associado comercial      Ensino médio     Solteiro   \n",
       "2        8.353354  Associado comercial      Ensino médio     Solteiro   \n",
       "3        0.000000          Pensionista   Ensino superior   Divorciado   \n",
       "4        0.000000          Pensionista   Ensino superior   Divorciado   \n",
       "\n",
       "                    Moradia   Ocupacao  Mau  \n",
       "0  Casa/apartamento próprio  Segurança    0  \n",
       "1  Casa/apartamento próprio     Vendas    0  \n",
       "2  Casa/apartamento próprio     Vendas    0  \n",
       "3  Casa/apartamento próprio      Outro    0  \n",
       "4  Casa/apartamento próprio      Outro    0  "
      ]
     },
     "execution_count": 91,
     "metadata": {},
     "output_type": "execute_result"
    }
   ],
   "source": [
    "df_registros_clientes_targets = df_clientes_cadastrados_tratamento1.merge(df_registros_creditos_id, on='ID_Cliente')\n",
    "df_registros_clientes_targets.head()"
   ]
  },
  {
   "cell_type": "code",
   "execution_count": 92,
   "metadata": {},
   "outputs": [
    {
     "data": {
      "text/plain": [
       "Mau\n",
       "0    97.726673\n",
       "1     2.273327\n",
       "Name: proportion, dtype: float64"
      ]
     },
     "execution_count": 92,
     "metadata": {},
     "output_type": "execute_result"
    }
   ],
   "source": [
    "df_registros_clientes_targets['Mau'].value_counts(normalize=True)*100"
   ]
  },
  {
   "cell_type": "markdown",
   "metadata": {},
   "source": [
    "## 6 - Construindo a Pipeline"
   ]
  },
  {
   "cell_type": "code",
   "execution_count": 93,
   "metadata": {},
   "outputs": [],
   "source": [
    "df = df_registros_clientes_targets"
   ]
  },
  {
   "cell_type": "code",
   "execution_count": 94,
   "metadata": {},
   "outputs": [],
   "source": [
    "df.to_csv('df_clean.csv', index=False)"
   ]
  },
  {
   "cell_type": "code",
   "execution_count": 95,
   "metadata": {},
   "outputs": [],
   "source": [
    "from sklearn.model_selection import train_test_split"
   ]
  },
  {
   "cell_type": "code",
   "execution_count": 96,
   "metadata": {},
   "outputs": [],
   "source": [
    "SEED = 1561651"
   ]
  },
  {
   "cell_type": "code",
   "execution_count": 97,
   "metadata": {},
   "outputs": [],
   "source": [
    "train_df, test_df = train_test_split(df, test_size=0.2, random_state=SEED)"
   ]
  },
  {
   "cell_type": "code",
   "execution_count": 98,
   "metadata": {},
   "outputs": [
    {
     "data": {
      "text/plain": [
       "(18193, 16)"
      ]
     },
     "execution_count": 98,
     "metadata": {},
     "output_type": "execute_result"
    }
   ],
   "source": [
    "train_df.shape"
   ]
  },
  {
   "cell_type": "code",
   "execution_count": 99,
   "metadata": {},
   "outputs": [
    {
     "data": {
      "text/plain": [
       "(4549, 16)"
      ]
     },
     "execution_count": 99,
     "metadata": {},
     "output_type": "execute_result"
    }
   ],
   "source": [
    "test_df.shape"
   ]
  },
  {
   "cell_type": "code",
   "execution_count": 100,
   "metadata": {},
   "outputs": [],
   "source": [
    "train_df_copy = train_df.copy()\n",
    "test_df_copy = test_df.copy()"
   ]
  },
  {
   "cell_type": "code",
   "execution_count": 101,
   "metadata": {},
   "outputs": [],
   "source": [
    "train_df.to_csv('train.csv',index=False)"
   ]
  },
  {
   "cell_type": "code",
   "execution_count": 102,
   "metadata": {},
   "outputs": [],
   "source": [
    "train_df.to_csv('test.csv',index=False)"
   ]
  },
  {
   "cell_type": "markdown",
   "metadata": {},
   "source": [
    "Boas práticas são, copiar as bases de treino e teste, juntamente salvar em csv estas bases."
   ]
  },
  {
   "cell_type": "code",
   "execution_count": 103,
   "metadata": {},
   "outputs": [
    {
     "data": {
      "text/html": [
       "<div>\n",
       "<style scoped>\n",
       "    .dataframe tbody tr th:only-of-type {\n",
       "        vertical-align: middle;\n",
       "    }\n",
       "\n",
       "    .dataframe tbody tr th {\n",
       "        vertical-align: top;\n",
       "    }\n",
       "\n",
       "    .dataframe thead th {\n",
       "        text-align: right;\n",
       "    }\n",
       "</style>\n",
       "<table border=\"1\" class=\"dataframe\">\n",
       "  <thead>\n",
       "    <tr style=\"text-align: right;\">\n",
       "      <th></th>\n",
       "      <th>ID_Cliente</th>\n",
       "      <th>Tem_carro</th>\n",
       "      <th>Tem_casa_propria</th>\n",
       "      <th>Tem_telefone_trabalho</th>\n",
       "      <th>Tem_telefone_fixo</th>\n",
       "      <th>Tem_email</th>\n",
       "      <th>Tamanho_familia</th>\n",
       "      <th>Rendimento_anual</th>\n",
       "      <th>Idade</th>\n",
       "      <th>Anos_empregado</th>\n",
       "      <th>Categoria_de_renda</th>\n",
       "      <th>Grau_escolaridade</th>\n",
       "      <th>Estado_civil</th>\n",
       "      <th>Moradia</th>\n",
       "      <th>Ocupacao</th>\n",
       "      <th>Mau</th>\n",
       "    </tr>\n",
       "  </thead>\n",
       "  <tbody>\n",
       "    <tr>\n",
       "      <th>3806</th>\n",
       "      <td>5029272</td>\n",
       "      <td>1</td>\n",
       "      <td>1</td>\n",
       "      <td>1</td>\n",
       "      <td>1</td>\n",
       "      <td>0</td>\n",
       "      <td>2.0</td>\n",
       "      <td>116653.5</td>\n",
       "      <td>25.380398</td>\n",
       "      <td>4.547664</td>\n",
       "      <td>Associado comercial</td>\n",
       "      <td>Ensino médio</td>\n",
       "      <td>Casado</td>\n",
       "      <td>Casa/apartamento próprio</td>\n",
       "      <td>Construção Civil</td>\n",
       "      <td>0</td>\n",
       "    </tr>\n",
       "    <tr>\n",
       "      <th>17766</th>\n",
       "      <td>5116598</td>\n",
       "      <td>0</td>\n",
       "      <td>0</td>\n",
       "      <td>0</td>\n",
       "      <td>1</td>\n",
       "      <td>0</td>\n",
       "      <td>2.0</td>\n",
       "      <td>144000.0</td>\n",
       "      <td>61.994428</td>\n",
       "      <td>0.000000</td>\n",
       "      <td>Pensionista</td>\n",
       "      <td>Ensino médio</td>\n",
       "      <td>Casado</td>\n",
       "      <td>Casa/apartamento próprio</td>\n",
       "      <td>Outro</td>\n",
       "      <td>0</td>\n",
       "    </tr>\n",
       "    <tr>\n",
       "      <th>16516</th>\n",
       "      <td>5112969</td>\n",
       "      <td>0</td>\n",
       "      <td>0</td>\n",
       "      <td>1</td>\n",
       "      <td>1</td>\n",
       "      <td>0</td>\n",
       "      <td>2.0</td>\n",
       "      <td>112500.0</td>\n",
       "      <td>50.790913</td>\n",
       "      <td>14.100221</td>\n",
       "      <td>Empregado</td>\n",
       "      <td>Ensino médio</td>\n",
       "      <td>União-estável</td>\n",
       "      <td>Casa/apartamento próprio</td>\n",
       "      <td>Construção Civil</td>\n",
       "      <td>0</td>\n",
       "    </tr>\n",
       "    <tr>\n",
       "      <th>1286</th>\n",
       "      <td>5021463</td>\n",
       "      <td>1</td>\n",
       "      <td>0</td>\n",
       "      <td>0</td>\n",
       "      <td>0</td>\n",
       "      <td>0</td>\n",
       "      <td>3.0</td>\n",
       "      <td>225000.0</td>\n",
       "      <td>31.488668</td>\n",
       "      <td>2.012362</td>\n",
       "      <td>Empregado</td>\n",
       "      <td>Ensino superior</td>\n",
       "      <td>União-estável</td>\n",
       "      <td>Casa/apartamento próprio</td>\n",
       "      <td>Equipe principal</td>\n",
       "      <td>0</td>\n",
       "    </tr>\n",
       "    <tr>\n",
       "      <th>17868</th>\n",
       "      <td>5116780</td>\n",
       "      <td>1</td>\n",
       "      <td>1</td>\n",
       "      <td>1</td>\n",
       "      <td>0</td>\n",
       "      <td>0</td>\n",
       "      <td>2.0</td>\n",
       "      <td>211500.0</td>\n",
       "      <td>36.761877</td>\n",
       "      <td>14.338419</td>\n",
       "      <td>Associado comercial</td>\n",
       "      <td>Ensino médio</td>\n",
       "      <td>Casado</td>\n",
       "      <td>Casa/apartamento próprio</td>\n",
       "      <td>Outro</td>\n",
       "      <td>0</td>\n",
       "    </tr>\n",
       "  </tbody>\n",
       "</table>\n",
       "</div>"
      ],
      "text/plain": [
       "       ID_Cliente  Tem_carro  Tem_casa_propria  Tem_telefone_trabalho  \\\n",
       "3806      5029272          1                 1                      1   \n",
       "17766     5116598          0                 0                      0   \n",
       "16516     5112969          0                 0                      1   \n",
       "1286      5021463          1                 0                      0   \n",
       "17868     5116780          1                 1                      1   \n",
       "\n",
       "       Tem_telefone_fixo  Tem_email  Tamanho_familia  Rendimento_anual  \\\n",
       "3806                   1          0              2.0          116653.5   \n",
       "17766                  1          0              2.0          144000.0   \n",
       "16516                  1          0              2.0          112500.0   \n",
       "1286                   0          0              3.0          225000.0   \n",
       "17868                  0          0              2.0          211500.0   \n",
       "\n",
       "           Idade  Anos_empregado   Categoria_de_renda Grau_escolaridade  \\\n",
       "3806   25.380398        4.547664  Associado comercial      Ensino médio   \n",
       "17766  61.994428        0.000000          Pensionista      Ensino médio   \n",
       "16516  50.790913       14.100221            Empregado      Ensino médio   \n",
       "1286   31.488668        2.012362            Empregado   Ensino superior   \n",
       "17868  36.761877       14.338419  Associado comercial      Ensino médio   \n",
       "\n",
       "        Estado_civil                   Moradia          Ocupacao  Mau  \n",
       "3806          Casado  Casa/apartamento próprio  Construção Civil    0  \n",
       "17766         Casado  Casa/apartamento próprio             Outro    0  \n",
       "16516  União-estável  Casa/apartamento próprio  Construção Civil    0  \n",
       "1286   União-estável  Casa/apartamento próprio  Equipe principal    0  \n",
       "17868         Casado  Casa/apartamento próprio             Outro    0  "
      ]
     },
     "execution_count": 103,
     "metadata": {},
     "output_type": "execute_result"
    }
   ],
   "source": [
    "train_df.head()"
   ]
  },
  {
   "cell_type": "code",
   "execution_count": 104,
   "metadata": {},
   "outputs": [],
   "source": [
    "from sklearn.base import BaseEstimator, TransformerMixin\n",
    "from sklearn.preprocessing import MinMaxScaler, OneHotEncoder, OrdinalEncoder\n",
    "from imblearn.over_sampling import SMOTE"
   ]
  },
  {
   "cell_type": "code",
   "execution_count": 105,
   "metadata": {},
   "outputs": [],
   "source": [
    "class DropFeatures(BaseEstimator,TransformerMixin):\n",
    "    def __init__(self,feature_to_drop = ['ID_Cliente']):\n",
    "        self.feature_to_drop = feature_to_drop\n",
    "        \n",
    "    def fit(self,df):\n",
    "        return self\n",
    "    \n",
    "    def transform(self,df):\n",
    "        if (set(self.feature_to_drop).issubset(df.columns)):\n",
    "            df.drop(self.feature_to_drop,axis=1,inplace=True)\n",
    "            return df\n",
    "        else:\n",
    "            print('Uma ou mais features não estão no DataFrame')\n",
    "            return df"
   ]
  },
  {
   "cell_type": "code",
   "execution_count": 106,
   "metadata": {},
   "outputs": [],
   "source": [
    "class MinMax(BaseEstimator, TransformerMixin):\n",
    "    def __init__(self, min_max_scaler = ['Idade', 'Rendimento_anual', 'Tamanho_familia', 'Anos_empregado']):\n",
    "        self.min_max_scaler = min_max_scaler\n",
    "    \n",
    "    def fit(self, df):\n",
    "        return self\n",
    "    \n",
    "    def transform(self, df):\n",
    "        if(set(self.min_max_scaler).issubset(df.columns)):\n",
    "            min_max_enc = MinMaxScaler()\n",
    "            df[self.min_max_scaler] = min_max_enc.fit_transform(df[self.min_max_scaler])\n",
    "            return df\n",
    "        else:\n",
    "            print('Uma ou mais features não estão no DataFrame')\n",
    "            return df"
   ]
  },
  {
   "cell_type": "code",
   "execution_count": 107,
   "metadata": {},
   "outputs": [],
   "source": [
    "class OneHotEncodingNames(BaseEstimator,TransformerMixin):\n",
    "    def __init__(self,OneHotEncoding = ['Estado_civil', 'Moradia', 'Categoria_de_renda', \n",
    "                                        'Ocupacao']):                                      \n",
    "                                                                               \n",
    "        self.OneHotEncoding = OneHotEncoding\n",
    "\n",
    "    def fit(self,df):\n",
    "        return self\n",
    "\n",
    "    def transform(self,df):\n",
    "        if (set(self.OneHotEncoding).issubset(df.columns)):\n",
    "            # função para one-hot-encoding das features\n",
    "            def one_hot_enc(df,OneHotEncoding):\n",
    "                one_hot_enc = OneHotEncoder()\n",
    "                one_hot_enc.fit(df[OneHotEncoding])\n",
    "                # obtendo o resultado dos nomes das colunas\n",
    "                feature_names = one_hot_enc.get_feature_names(OneHotEncoding)\n",
    "                # mudando o array do one hot encoding para um dataframe com os nomes das colunas\n",
    "                df = pd.DataFrame(one_hot_enc.transform(df[self.OneHotEncoding]).toarray(),\n",
    "                                  columns= feature_names,index=df.index)\n",
    "                return df\n",
    "\n",
    "            # função para concatenar as features com aquelas que não passaram pelo one-hot-encoding\n",
    "            def concat_with_rest(df,one_hot_enc_df,OneHotEncoding):              \n",
    "                # get the rest of the features\n",
    "                outras_features = [feature for feature in df.columns if feature not in OneHotEncoding]\n",
    "                # concaternar o restante das features com as features que passaram pelo one-hot-encoding\n",
    "                df_concat = pd.concat([one_hot_enc_df, df[outras_features]],axis=1)\n",
    "                return df_concat\n",
    "\n",
    "            # one hot encoded dataframe\n",
    "            df_OneHotEncoding = one_hot_enc(df,self.OneHotEncoding)\n",
    "\n",
    "            # retorna o dataframe concatenado\n",
    "            df_full = concat_with_rest(df, df_OneHotEncoding,self.OneHotEncoding)\n",
    "            return df_full\n",
    "\n",
    "        else:\n",
    "            print('Uma ou mais features não estão no DataFrame')\n",
    "            return df"
   ]
  },
  {
   "cell_type": "code",
   "execution_count": 108,
   "metadata": {},
   "outputs": [],
   "source": [
    "class OrdinalFeature(BaseEstimator, TransformerMixin):\n",
    "    def __init__(self, ordinal_feature = ['Grau_escolaridade']):\n",
    "        self.ordinal_feature = ordinal_feature\n",
    "\n",
    "    def fit(self, df):\n",
    "        return self\n",
    "    \n",
    "    def transform(self, df):\n",
    "        ordinal_encoder = OrdinalEncoder()\n",
    "        df[self.ordinal_feature] = ordinal_encoder.fit_transform(df[self.ordinal_feature])\n",
    "        return df"
   ]
  },
  {
   "cell_type": "code",
   "execution_count": 109,
   "metadata": {},
   "outputs": [],
   "source": [
    "class Oversample(BaseEstimator, TransformerMixin):\n",
    "    def __init__(self):\n",
    "        pass\n",
    "\n",
    "    def fit(self,df):\n",
    "        return self\n",
    "    \n",
    "    def transform(self, df):\n",
    "        if 'Mau' in df.columns:\n",
    "            # função smote para superamostrar a classe minoritária para corrigir os dados desbalanceados\n",
    "            oversample = SMOTE(sampling_strategy='minority')\n",
    "            X_bal, y_bal = oversample.fit_resample(df.loc[:, df.columns != 'Mau'], df['Mau'])\n",
    "            df_bal = pd.concat([pd.DataFrame(X_bal), pd.DataFrame(y_bal)], axis=1)\n",
    "            return df_bal\n",
    "        else:\n",
    "            print(\"O target não está no DataFrame\")\n",
    "            return df"
   ]
  },
  {
   "cell_type": "code",
   "execution_count": 110,
   "metadata": {},
   "outputs": [],
   "source": [
    "from sklearn.pipeline import Pipeline"
   ]
  },
  {
   "cell_type": "code",
   "execution_count": 111,
   "metadata": {},
   "outputs": [],
   "source": [
    "def pipeline(df):\n",
    "\n",
    "    pipeline = Pipeline([\n",
    "        ('feature_dropper', DropFeatures()),\n",
    "        ('OneHotEncoding', OneHotEncodingNames()),\n",
    "        ('ordinal_feature', OrdinalFeature()),\n",
    "        ('min_max_scaler', MinMax()),\n",
    "        ('oversample', Oversample())\n",
    "    ])\n",
    "    df_pipeline = pipeline.fit_transform(df)\n",
    "    return df_pipeline"
   ]
  },
  {
   "cell_type": "markdown",
   "metadata": {},
   "source": [
    "### Escolhendo o Melhor Modelo"
   ]
  },
  {
   "cell_type": "code",
   "execution_count": 112,
   "metadata": {},
   "outputs": [
    {
     "name": "stdout",
     "output_type": "stream",
     "text": [
      "Requirement already satisfied: scikit-learn in c:\\users\\flade\\appdata\\local\\programs\\python\\python312\\lib\\site-packages (1.4.2)\n",
      "Requirement already satisfied: numpy>=1.19.5 in c:\\users\\flade\\appdata\\local\\programs\\python\\python312\\lib\\site-packages (from scikit-learn) (1.26.4)\n",
      "Requirement already satisfied: scipy>=1.6.0 in c:\\users\\flade\\appdata\\local\\programs\\python\\python312\\lib\\site-packages (from scikit-learn) (1.13.0)\n",
      "Requirement already satisfied: joblib>=1.2.0 in c:\\users\\flade\\appdata\\local\\programs\\python\\python312\\lib\\site-packages (from scikit-learn) (1.4.0)\n",
      "Requirement already satisfied: threadpoolctl>=2.0.0 in c:\\users\\flade\\appdata\\local\\programs\\python\\python312\\lib\\site-packages (from scikit-learn) (3.5.0)\n",
      "Note: you may need to restart the kernel to use updated packages.\n"
     ]
    },
    {
     "name": "stderr",
     "output_type": "stream",
     "text": [
      "\n",
      "[notice] A new release of pip is available: 23.2.1 -> 24.0\n",
      "[notice] To update, run: python.exe -m pip install --upgrade pip\n"
     ]
    }
   ],
   "source": [
    "pip install --upgrade scikit-learn"
   ]
  },
  {
   "cell_type": "code",
   "execution_count": 115,
   "metadata": {},
   "outputs": [
    {
     "ename": "SyntaxError",
     "evalue": "invalid syntax (842801469.py, line 1)",
     "output_type": "error",
     "traceback": [
      "\u001b[1;36m  Cell \u001b[1;32mIn[115], line 1\u001b[1;36m\u001b[0m\n\u001b[1;33m    python.exe -m pip install --upgrade pip\u001b[0m\n\u001b[1;37m                  ^\u001b[0m\n\u001b[1;31mSyntaxError\u001b[0m\u001b[1;31m:\u001b[0m invalid syntax\n"
     ]
    }
   ],
   "source": [
    "python.exe -m pip install --upgrade pip"
   ]
  },
  {
   "cell_type": "code",
   "execution_count": 114,
   "metadata": {},
   "outputs": [
    {
     "name": "stdout",
     "output_type": "stream",
     "text": [
      "Uma ou mais features não estão no DataFrame\n"
     ]
    },
    {
     "ename": "AttributeError",
     "evalue": "'OneHotEncoder' object has no attribute 'get_feature_names'",
     "output_type": "error",
     "traceback": [
      "\u001b[1;31m---------------------------------------------------------------------------\u001b[0m",
      "\u001b[1;31mAttributeError\u001b[0m                            Traceback (most recent call last)",
      "Cell \u001b[1;32mIn[114], line 1\u001b[0m\n\u001b[1;32m----> 1\u001b[0m train \u001b[38;5;241m=\u001b[39m \u001b[43mpipeline\u001b[49m\u001b[43m(\u001b[49m\u001b[43mtrain_df\u001b[49m\u001b[43m)\u001b[49m\n",
      "Cell \u001b[1;32mIn[111], line 10\u001b[0m, in \u001b[0;36mpipeline\u001b[1;34m(df)\u001b[0m\n\u001b[0;32m      1\u001b[0m \u001b[38;5;28;01mdef\u001b[39;00m \u001b[38;5;21mpipeline\u001b[39m(df):\n\u001b[0;32m      3\u001b[0m     pipeline \u001b[38;5;241m=\u001b[39m Pipeline([\n\u001b[0;32m      4\u001b[0m         (\u001b[38;5;124m'\u001b[39m\u001b[38;5;124mfeature_dropper\u001b[39m\u001b[38;5;124m'\u001b[39m, DropFeatures()),\n\u001b[0;32m      5\u001b[0m         (\u001b[38;5;124m'\u001b[39m\u001b[38;5;124mOneHotEncoding\u001b[39m\u001b[38;5;124m'\u001b[39m, OneHotEncodingNames()),\n\u001b[1;32m   (...)\u001b[0m\n\u001b[0;32m      8\u001b[0m         (\u001b[38;5;124m'\u001b[39m\u001b[38;5;124moversample\u001b[39m\u001b[38;5;124m'\u001b[39m, Oversample())\n\u001b[0;32m      9\u001b[0m     ])\n\u001b[1;32m---> 10\u001b[0m     df_pipeline \u001b[38;5;241m=\u001b[39m \u001b[43mpipeline\u001b[49m\u001b[38;5;241;43m.\u001b[39;49m\u001b[43mfit_transform\u001b[49m\u001b[43m(\u001b[49m\u001b[43mdf\u001b[49m\u001b[43m)\u001b[49m\n\u001b[0;32m     11\u001b[0m     \u001b[38;5;28;01mreturn\u001b[39;00m df_pipeline\n",
      "File \u001b[1;32mc:\\Users\\flade\\AppData\\Local\\Programs\\Python\\Python312\\Lib\\site-packages\\sklearn\\base.py:1474\u001b[0m, in \u001b[0;36m_fit_context.<locals>.decorator.<locals>.wrapper\u001b[1;34m(estimator, *args, **kwargs)\u001b[0m\n\u001b[0;32m   1467\u001b[0m     estimator\u001b[38;5;241m.\u001b[39m_validate_params()\n\u001b[0;32m   1469\u001b[0m \u001b[38;5;28;01mwith\u001b[39;00m config_context(\n\u001b[0;32m   1470\u001b[0m     skip_parameter_validation\u001b[38;5;241m=\u001b[39m(\n\u001b[0;32m   1471\u001b[0m         prefer_skip_nested_validation \u001b[38;5;129;01mor\u001b[39;00m global_skip_validation\n\u001b[0;32m   1472\u001b[0m     )\n\u001b[0;32m   1473\u001b[0m ):\n\u001b[1;32m-> 1474\u001b[0m     \u001b[38;5;28;01mreturn\u001b[39;00m \u001b[43mfit_method\u001b[49m\u001b[43m(\u001b[49m\u001b[43mestimator\u001b[49m\u001b[43m,\u001b[49m\u001b[43m \u001b[49m\u001b[38;5;241;43m*\u001b[39;49m\u001b[43margs\u001b[49m\u001b[43m,\u001b[49m\u001b[43m \u001b[49m\u001b[38;5;241;43m*\u001b[39;49m\u001b[38;5;241;43m*\u001b[39;49m\u001b[43mkwargs\u001b[49m\u001b[43m)\u001b[49m\n",
      "File \u001b[1;32mc:\\Users\\flade\\AppData\\Local\\Programs\\Python\\Python312\\Lib\\site-packages\\sklearn\\pipeline.py:535\u001b[0m, in \u001b[0;36mPipeline.fit_transform\u001b[1;34m(self, X, y, **params)\u001b[0m\n\u001b[0;32m    492\u001b[0m \u001b[38;5;250m\u001b[39m\u001b[38;5;124;03m\"\"\"Fit the model and transform with the final estimator.\u001b[39;00m\n\u001b[0;32m    493\u001b[0m \n\u001b[0;32m    494\u001b[0m \u001b[38;5;124;03mFit all the transformers one after the other and sequentially transform\u001b[39;00m\n\u001b[1;32m   (...)\u001b[0m\n\u001b[0;32m    532\u001b[0m \u001b[38;5;124;03m    Transformed samples.\u001b[39;00m\n\u001b[0;32m    533\u001b[0m \u001b[38;5;124;03m\"\"\"\u001b[39;00m\n\u001b[0;32m    534\u001b[0m routed_params \u001b[38;5;241m=\u001b[39m \u001b[38;5;28mself\u001b[39m\u001b[38;5;241m.\u001b[39m_check_method_params(method\u001b[38;5;241m=\u001b[39m\u001b[38;5;124m\"\u001b[39m\u001b[38;5;124mfit_transform\u001b[39m\u001b[38;5;124m\"\u001b[39m, props\u001b[38;5;241m=\u001b[39mparams)\n\u001b[1;32m--> 535\u001b[0m Xt \u001b[38;5;241m=\u001b[39m \u001b[38;5;28;43mself\u001b[39;49m\u001b[38;5;241;43m.\u001b[39;49m\u001b[43m_fit\u001b[49m\u001b[43m(\u001b[49m\u001b[43mX\u001b[49m\u001b[43m,\u001b[49m\u001b[43m \u001b[49m\u001b[43my\u001b[49m\u001b[43m,\u001b[49m\u001b[43m \u001b[49m\u001b[43mrouted_params\u001b[49m\u001b[43m)\u001b[49m\n\u001b[0;32m    537\u001b[0m last_step \u001b[38;5;241m=\u001b[39m \u001b[38;5;28mself\u001b[39m\u001b[38;5;241m.\u001b[39m_final_estimator\n\u001b[0;32m    538\u001b[0m \u001b[38;5;28;01mwith\u001b[39;00m _print_elapsed_time(\u001b[38;5;124m\"\u001b[39m\u001b[38;5;124mPipeline\u001b[39m\u001b[38;5;124m\"\u001b[39m, \u001b[38;5;28mself\u001b[39m\u001b[38;5;241m.\u001b[39m_log_message(\u001b[38;5;28mlen\u001b[39m(\u001b[38;5;28mself\u001b[39m\u001b[38;5;241m.\u001b[39msteps) \u001b[38;5;241m-\u001b[39m \u001b[38;5;241m1\u001b[39m)):\n",
      "File \u001b[1;32mc:\\Users\\flade\\AppData\\Local\\Programs\\Python\\Python312\\Lib\\site-packages\\sklearn\\pipeline.py:408\u001b[0m, in \u001b[0;36mPipeline._fit\u001b[1;34m(self, X, y, routed_params)\u001b[0m\n\u001b[0;32m    406\u001b[0m     cloned_transformer \u001b[38;5;241m=\u001b[39m clone(transformer)\n\u001b[0;32m    407\u001b[0m \u001b[38;5;66;03m# Fit or load from cache the current transformer\u001b[39;00m\n\u001b[1;32m--> 408\u001b[0m X, fitted_transformer \u001b[38;5;241m=\u001b[39m \u001b[43mfit_transform_one_cached\u001b[49m\u001b[43m(\u001b[49m\n\u001b[0;32m    409\u001b[0m \u001b[43m    \u001b[49m\u001b[43mcloned_transformer\u001b[49m\u001b[43m,\u001b[49m\n\u001b[0;32m    410\u001b[0m \u001b[43m    \u001b[49m\u001b[43mX\u001b[49m\u001b[43m,\u001b[49m\n\u001b[0;32m    411\u001b[0m \u001b[43m    \u001b[49m\u001b[43my\u001b[49m\u001b[43m,\u001b[49m\n\u001b[0;32m    412\u001b[0m \u001b[43m    \u001b[49m\u001b[38;5;28;43;01mNone\u001b[39;49;00m\u001b[43m,\u001b[49m\n\u001b[0;32m    413\u001b[0m \u001b[43m    \u001b[49m\u001b[43mmessage_clsname\u001b[49m\u001b[38;5;241;43m=\u001b[39;49m\u001b[38;5;124;43m\"\u001b[39;49m\u001b[38;5;124;43mPipeline\u001b[39;49m\u001b[38;5;124;43m\"\u001b[39;49m\u001b[43m,\u001b[49m\n\u001b[0;32m    414\u001b[0m \u001b[43m    \u001b[49m\u001b[43mmessage\u001b[49m\u001b[38;5;241;43m=\u001b[39;49m\u001b[38;5;28;43mself\u001b[39;49m\u001b[38;5;241;43m.\u001b[39;49m\u001b[43m_log_message\u001b[49m\u001b[43m(\u001b[49m\u001b[43mstep_idx\u001b[49m\u001b[43m)\u001b[49m\u001b[43m,\u001b[49m\n\u001b[0;32m    415\u001b[0m \u001b[43m    \u001b[49m\u001b[43mparams\u001b[49m\u001b[38;5;241;43m=\u001b[39;49m\u001b[43mrouted_params\u001b[49m\u001b[43m[\u001b[49m\u001b[43mname\u001b[49m\u001b[43m]\u001b[49m\u001b[43m,\u001b[49m\n\u001b[0;32m    416\u001b[0m \u001b[43m\u001b[49m\u001b[43m)\u001b[49m\n\u001b[0;32m    417\u001b[0m \u001b[38;5;66;03m# Replace the transformer of the step with the fitted\u001b[39;00m\n\u001b[0;32m    418\u001b[0m \u001b[38;5;66;03m# transformer. This is necessary when loading the transformer\u001b[39;00m\n\u001b[0;32m    419\u001b[0m \u001b[38;5;66;03m# from the cache.\u001b[39;00m\n\u001b[0;32m    420\u001b[0m \u001b[38;5;28mself\u001b[39m\u001b[38;5;241m.\u001b[39msteps[step_idx] \u001b[38;5;241m=\u001b[39m (name, fitted_transformer)\n",
      "File \u001b[1;32mc:\\Users\\flade\\AppData\\Local\\Programs\\Python\\Python312\\Lib\\site-packages\\joblib\\memory.py:312\u001b[0m, in \u001b[0;36mNotMemorizedFunc.__call__\u001b[1;34m(self, *args, **kwargs)\u001b[0m\n\u001b[0;32m    311\u001b[0m \u001b[38;5;28;01mdef\u001b[39;00m \u001b[38;5;21m__call__\u001b[39m(\u001b[38;5;28mself\u001b[39m, \u001b[38;5;241m*\u001b[39margs, \u001b[38;5;241m*\u001b[39m\u001b[38;5;241m*\u001b[39mkwargs):\n\u001b[1;32m--> 312\u001b[0m     \u001b[38;5;28;01mreturn\u001b[39;00m \u001b[38;5;28;43mself\u001b[39;49m\u001b[38;5;241;43m.\u001b[39;49m\u001b[43mfunc\u001b[49m\u001b[43m(\u001b[49m\u001b[38;5;241;43m*\u001b[39;49m\u001b[43margs\u001b[49m\u001b[43m,\u001b[49m\u001b[43m \u001b[49m\u001b[38;5;241;43m*\u001b[39;49m\u001b[38;5;241;43m*\u001b[39;49m\u001b[43mkwargs\u001b[49m\u001b[43m)\u001b[49m\n",
      "File \u001b[1;32mc:\\Users\\flade\\AppData\\Local\\Programs\\Python\\Python312\\Lib\\site-packages\\sklearn\\pipeline.py:1303\u001b[0m, in \u001b[0;36m_fit_transform_one\u001b[1;34m(transformer, X, y, weight, message_clsname, message, params)\u001b[0m\n\u001b[0;32m   1301\u001b[0m \u001b[38;5;28;01mwith\u001b[39;00m _print_elapsed_time(message_clsname, message):\n\u001b[0;32m   1302\u001b[0m     \u001b[38;5;28;01mif\u001b[39;00m \u001b[38;5;28mhasattr\u001b[39m(transformer, \u001b[38;5;124m\"\u001b[39m\u001b[38;5;124mfit_transform\u001b[39m\u001b[38;5;124m\"\u001b[39m):\n\u001b[1;32m-> 1303\u001b[0m         res \u001b[38;5;241m=\u001b[39m \u001b[43mtransformer\u001b[49m\u001b[38;5;241;43m.\u001b[39;49m\u001b[43mfit_transform\u001b[49m\u001b[43m(\u001b[49m\u001b[43mX\u001b[49m\u001b[43m,\u001b[49m\u001b[43m \u001b[49m\u001b[43my\u001b[49m\u001b[43m,\u001b[49m\u001b[43m \u001b[49m\u001b[38;5;241;43m*\u001b[39;49m\u001b[38;5;241;43m*\u001b[39;49m\u001b[43mparams\u001b[49m\u001b[38;5;241;43m.\u001b[39;49m\u001b[43mget\u001b[49m\u001b[43m(\u001b[49m\u001b[38;5;124;43m\"\u001b[39;49m\u001b[38;5;124;43mfit_transform\u001b[39;49m\u001b[38;5;124;43m\"\u001b[39;49m\u001b[43m,\u001b[49m\u001b[43m \u001b[49m\u001b[43m{\u001b[49m\u001b[43m}\u001b[49m\u001b[43m)\u001b[49m\u001b[43m)\u001b[49m\n\u001b[0;32m   1304\u001b[0m     \u001b[38;5;28;01melse\u001b[39;00m:\n\u001b[0;32m   1305\u001b[0m         res \u001b[38;5;241m=\u001b[39m transformer\u001b[38;5;241m.\u001b[39mfit(X, y, \u001b[38;5;241m*\u001b[39m\u001b[38;5;241m*\u001b[39mparams\u001b[38;5;241m.\u001b[39mget(\u001b[38;5;124m\"\u001b[39m\u001b[38;5;124mfit\u001b[39m\u001b[38;5;124m\"\u001b[39m, {}))\u001b[38;5;241m.\u001b[39mtransform(\n\u001b[0;32m   1306\u001b[0m             X, \u001b[38;5;241m*\u001b[39m\u001b[38;5;241m*\u001b[39mparams\u001b[38;5;241m.\u001b[39mget(\u001b[38;5;124m\"\u001b[39m\u001b[38;5;124mtransform\u001b[39m\u001b[38;5;124m\"\u001b[39m, {})\n\u001b[0;32m   1307\u001b[0m         )\n",
      "File \u001b[1;32mc:\\Users\\flade\\AppData\\Local\\Programs\\Python\\Python312\\Lib\\site-packages\\sklearn\\utils\\_set_output.py:295\u001b[0m, in \u001b[0;36m_wrap_method_output.<locals>.wrapped\u001b[1;34m(self, X, *args, **kwargs)\u001b[0m\n\u001b[0;32m    293\u001b[0m \u001b[38;5;129m@wraps\u001b[39m(f)\n\u001b[0;32m    294\u001b[0m \u001b[38;5;28;01mdef\u001b[39;00m \u001b[38;5;21mwrapped\u001b[39m(\u001b[38;5;28mself\u001b[39m, X, \u001b[38;5;241m*\u001b[39margs, \u001b[38;5;241m*\u001b[39m\u001b[38;5;241m*\u001b[39mkwargs):\n\u001b[1;32m--> 295\u001b[0m     data_to_wrap \u001b[38;5;241m=\u001b[39m \u001b[43mf\u001b[49m\u001b[43m(\u001b[49m\u001b[38;5;28;43mself\u001b[39;49m\u001b[43m,\u001b[49m\u001b[43m \u001b[49m\u001b[43mX\u001b[49m\u001b[43m,\u001b[49m\u001b[43m \u001b[49m\u001b[38;5;241;43m*\u001b[39;49m\u001b[43margs\u001b[49m\u001b[43m,\u001b[49m\u001b[43m \u001b[49m\u001b[38;5;241;43m*\u001b[39;49m\u001b[38;5;241;43m*\u001b[39;49m\u001b[43mkwargs\u001b[49m\u001b[43m)\u001b[49m\n\u001b[0;32m    296\u001b[0m     \u001b[38;5;28;01mif\u001b[39;00m \u001b[38;5;28misinstance\u001b[39m(data_to_wrap, \u001b[38;5;28mtuple\u001b[39m):\n\u001b[0;32m    297\u001b[0m         \u001b[38;5;66;03m# only wrap the first output for cross decomposition\u001b[39;00m\n\u001b[0;32m    298\u001b[0m         return_tuple \u001b[38;5;241m=\u001b[39m (\n\u001b[0;32m    299\u001b[0m             _wrap_data_with_container(method, data_to_wrap[\u001b[38;5;241m0\u001b[39m], X, \u001b[38;5;28mself\u001b[39m),\n\u001b[0;32m    300\u001b[0m             \u001b[38;5;241m*\u001b[39mdata_to_wrap[\u001b[38;5;241m1\u001b[39m:],\n\u001b[0;32m    301\u001b[0m         )\n",
      "File \u001b[1;32mc:\\Users\\flade\\AppData\\Local\\Programs\\Python\\Python312\\Lib\\site-packages\\sklearn\\base.py:1098\u001b[0m, in \u001b[0;36mTransformerMixin.fit_transform\u001b[1;34m(self, X, y, **fit_params)\u001b[0m\n\u001b[0;32m   1083\u001b[0m         warnings\u001b[38;5;241m.\u001b[39mwarn(\n\u001b[0;32m   1084\u001b[0m             (\n\u001b[0;32m   1085\u001b[0m                 \u001b[38;5;124mf\u001b[39m\u001b[38;5;124m\"\u001b[39m\u001b[38;5;124mThis object (\u001b[39m\u001b[38;5;132;01m{\u001b[39;00m\u001b[38;5;28mself\u001b[39m\u001b[38;5;241m.\u001b[39m\u001b[38;5;18m__class__\u001b[39m\u001b[38;5;241m.\u001b[39m\u001b[38;5;18m__name__\u001b[39m\u001b[38;5;132;01m}\u001b[39;00m\u001b[38;5;124m) has a `transform`\u001b[39m\u001b[38;5;124m\"\u001b[39m\n\u001b[1;32m   (...)\u001b[0m\n\u001b[0;32m   1093\u001b[0m             \u001b[38;5;167;01mUserWarning\u001b[39;00m,\n\u001b[0;32m   1094\u001b[0m         )\n\u001b[0;32m   1096\u001b[0m \u001b[38;5;28;01mif\u001b[39;00m y \u001b[38;5;129;01mis\u001b[39;00m \u001b[38;5;28;01mNone\u001b[39;00m:\n\u001b[0;32m   1097\u001b[0m     \u001b[38;5;66;03m# fit method of arity 1 (unsupervised transformation)\u001b[39;00m\n\u001b[1;32m-> 1098\u001b[0m     \u001b[38;5;28;01mreturn\u001b[39;00m \u001b[38;5;28;43mself\u001b[39;49m\u001b[38;5;241;43m.\u001b[39;49m\u001b[43mfit\u001b[49m\u001b[43m(\u001b[49m\u001b[43mX\u001b[49m\u001b[43m,\u001b[49m\u001b[43m \u001b[49m\u001b[38;5;241;43m*\u001b[39;49m\u001b[38;5;241;43m*\u001b[39;49m\u001b[43mfit_params\u001b[49m\u001b[43m)\u001b[49m\u001b[38;5;241;43m.\u001b[39;49m\u001b[43mtransform\u001b[49m\u001b[43m(\u001b[49m\u001b[43mX\u001b[49m\u001b[43m)\u001b[49m\n\u001b[0;32m   1099\u001b[0m \u001b[38;5;28;01melse\u001b[39;00m:\n\u001b[0;32m   1100\u001b[0m     \u001b[38;5;66;03m# fit method of arity 2 (supervised transformation)\u001b[39;00m\n\u001b[0;32m   1101\u001b[0m     \u001b[38;5;28;01mreturn\u001b[39;00m \u001b[38;5;28mself\u001b[39m\u001b[38;5;241m.\u001b[39mfit(X, y, \u001b[38;5;241m*\u001b[39m\u001b[38;5;241m*\u001b[39mfit_params)\u001b[38;5;241m.\u001b[39mtransform(X)\n",
      "File \u001b[1;32mc:\\Users\\flade\\AppData\\Local\\Programs\\Python\\Python312\\Lib\\site-packages\\sklearn\\utils\\_set_output.py:295\u001b[0m, in \u001b[0;36m_wrap_method_output.<locals>.wrapped\u001b[1;34m(self, X, *args, **kwargs)\u001b[0m\n\u001b[0;32m    293\u001b[0m \u001b[38;5;129m@wraps\u001b[39m(f)\n\u001b[0;32m    294\u001b[0m \u001b[38;5;28;01mdef\u001b[39;00m \u001b[38;5;21mwrapped\u001b[39m(\u001b[38;5;28mself\u001b[39m, X, \u001b[38;5;241m*\u001b[39margs, \u001b[38;5;241m*\u001b[39m\u001b[38;5;241m*\u001b[39mkwargs):\n\u001b[1;32m--> 295\u001b[0m     data_to_wrap \u001b[38;5;241m=\u001b[39m \u001b[43mf\u001b[49m\u001b[43m(\u001b[49m\u001b[38;5;28;43mself\u001b[39;49m\u001b[43m,\u001b[49m\u001b[43m \u001b[49m\u001b[43mX\u001b[49m\u001b[43m,\u001b[49m\u001b[43m \u001b[49m\u001b[38;5;241;43m*\u001b[39;49m\u001b[43margs\u001b[49m\u001b[43m,\u001b[49m\u001b[43m \u001b[49m\u001b[38;5;241;43m*\u001b[39;49m\u001b[38;5;241;43m*\u001b[39;49m\u001b[43mkwargs\u001b[49m\u001b[43m)\u001b[49m\n\u001b[0;32m    296\u001b[0m     \u001b[38;5;28;01mif\u001b[39;00m \u001b[38;5;28misinstance\u001b[39m(data_to_wrap, \u001b[38;5;28mtuple\u001b[39m):\n\u001b[0;32m    297\u001b[0m         \u001b[38;5;66;03m# only wrap the first output for cross decomposition\u001b[39;00m\n\u001b[0;32m    298\u001b[0m         return_tuple \u001b[38;5;241m=\u001b[39m (\n\u001b[0;32m    299\u001b[0m             _wrap_data_with_container(method, data_to_wrap[\u001b[38;5;241m0\u001b[39m], X, \u001b[38;5;28mself\u001b[39m),\n\u001b[0;32m    300\u001b[0m             \u001b[38;5;241m*\u001b[39mdata_to_wrap[\u001b[38;5;241m1\u001b[39m:],\n\u001b[0;32m    301\u001b[0m         )\n",
      "Cell \u001b[1;32mIn[107], line 32\u001b[0m, in \u001b[0;36mOneHotEncodingNames.transform\u001b[1;34m(self, df)\u001b[0m\n\u001b[0;32m     29\u001b[0m     \u001b[38;5;28;01mreturn\u001b[39;00m df_concat\n\u001b[0;32m     31\u001b[0m \u001b[38;5;66;03m# one hot encoded dataframe\u001b[39;00m\n\u001b[1;32m---> 32\u001b[0m df_OneHotEncoding \u001b[38;5;241m=\u001b[39m \u001b[43mone_hot_enc\u001b[49m\u001b[43m(\u001b[49m\u001b[43mdf\u001b[49m\u001b[43m,\u001b[49m\u001b[38;5;28;43mself\u001b[39;49m\u001b[38;5;241;43m.\u001b[39;49m\u001b[43mOneHotEncoding\u001b[49m\u001b[43m)\u001b[49m\n\u001b[0;32m     34\u001b[0m \u001b[38;5;66;03m# retorna o dataframe concatenado\u001b[39;00m\n\u001b[0;32m     35\u001b[0m df_full \u001b[38;5;241m=\u001b[39m concat_with_rest(df, df_OneHotEncoding,\u001b[38;5;28mself\u001b[39m\u001b[38;5;241m.\u001b[39mOneHotEncoding)\n",
      "Cell \u001b[1;32mIn[107], line 17\u001b[0m, in \u001b[0;36mOneHotEncodingNames.transform.<locals>.one_hot_enc\u001b[1;34m(df, OneHotEncoding)\u001b[0m\n\u001b[0;32m     15\u001b[0m one_hot_enc\u001b[38;5;241m.\u001b[39mfit(df[OneHotEncoding])\n\u001b[0;32m     16\u001b[0m \u001b[38;5;66;03m# obtendo o resultado dos nomes das colunas\u001b[39;00m\n\u001b[1;32m---> 17\u001b[0m feature_names \u001b[38;5;241m=\u001b[39m \u001b[43mone_hot_enc\u001b[49m\u001b[38;5;241;43m.\u001b[39;49m\u001b[43mget_feature_names\u001b[49m(OneHotEncoding)\n\u001b[0;32m     18\u001b[0m \u001b[38;5;66;03m# mudando o array do one hot encoding para um dataframe com os nomes das colunas\u001b[39;00m\n\u001b[0;32m     19\u001b[0m df \u001b[38;5;241m=\u001b[39m pd\u001b[38;5;241m.\u001b[39mDataFrame(one_hot_enc\u001b[38;5;241m.\u001b[39mtransform(df[\u001b[38;5;28mself\u001b[39m\u001b[38;5;241m.\u001b[39mOneHotEncoding])\u001b[38;5;241m.\u001b[39mtoarray(),\n\u001b[0;32m     20\u001b[0m                   columns\u001b[38;5;241m=\u001b[39m feature_names,index\u001b[38;5;241m=\u001b[39mdf\u001b[38;5;241m.\u001b[39mindex)\n",
      "\u001b[1;31mAttributeError\u001b[0m: 'OneHotEncoder' object has no attribute 'get_feature_names'"
     ]
    }
   ],
   "source": [
    "train = pipeline(train_df)"
   ]
  },
  {
   "cell_type": "code",
   "execution_count": null,
   "metadata": {},
   "outputs": [
    {
     "ename": "NameError",
     "evalue": "name 'train' is not defined",
     "output_type": "error",
     "traceback": [
      "\u001b[1;31m---------------------------------------------------------------------------\u001b[0m",
      "\u001b[1;31mNameError\u001b[0m                                 Traceback (most recent call last)",
      "Cell \u001b[1;32mIn[389], line 1\u001b[0m\n\u001b[1;32m----> 1\u001b[0m \u001b[43mtrain\u001b[49m\u001b[38;5;241m.\u001b[39mhead()\n",
      "\u001b[1;31mNameError\u001b[0m: name 'train' is not defined"
     ]
    }
   ],
   "source": [
    "train.head()"
   ]
  },
  {
   "cell_type": "code",
   "execution_count": null,
   "metadata": {},
   "outputs": [],
   "source": []
  }
 ],
 "metadata": {
  "kernelspec": {
   "display_name": "Python 3",
   "language": "python",
   "name": "python3"
  },
  "language_info": {
   "codemirror_mode": {
    "name": "ipython",
    "version": 3
   },
   "file_extension": ".py",
   "mimetype": "text/x-python",
   "name": "python",
   "nbconvert_exporter": "python",
   "pygments_lexer": "ipython3",
   "version": "3.12.1"
  }
 },
 "nbformat": 4,
 "nbformat_minor": 2
}
